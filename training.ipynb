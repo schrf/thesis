{
 "cells": [
  {
   "cell_type": "code",
   "id": "initial_id",
   "metadata": {
    "collapsed": true,
    "ExecuteTime": {
     "end_time": "2024-05-10T14:31:24.745841Z",
     "start_time": "2024-05-10T14:31:24.743075Z"
    }
   },
   "source": [
    "import numpy as np\n",
    "import pandas as pd\n",
    "from sklearn.model_selection import train_test_split\n",
    "import torch\n",
    "import torch.nn as nn\n",
    "from src.dataloaders_and_sets.simple_dataset import SimpleDataset\n",
    "from tqdm import tqdm\n",
    "from torch.utils.data import DataLoader\n",
    "import torch.optim as optim"
   ],
   "outputs": [],
   "execution_count": 5
  },
  {
   "metadata": {
    "ExecuteTime": {
     "end_time": "2024-05-10T14:32:06.473545Z",
     "start_time": "2024-05-10T14:31:25.033781Z"
    }
   },
   "cell_type": "code",
   "source": "data_with_targets = pd.read_csv('data/data.csv', index_col=0)",
   "id": "f0fc869bc5c0b9a7",
   "outputs": [],
   "execution_count": 6
  },
  {
   "metadata": {
    "ExecuteTime": {
     "end_time": "2024-05-10T14:32:43.745170Z",
     "start_time": "2024-05-10T14:32:43.446245Z"
    }
   },
   "cell_type": "code",
   "source": [
    "data_test = data_with_targets.drop(['primary_disease', 'gender', 'age', 'dataset'], axis=1)\n",
    "data_test.shape"
   ],
   "id": "fff7fe031e819dd9",
   "outputs": [
    {
     "data": {
      "text/plain": [
       "(11780, 17137)"
      ]
     },
     "execution_count": 10,
     "metadata": {},
     "output_type": "execute_result"
    }
   ],
   "execution_count": 10
  },
  {
   "metadata": {
    "ExecuteTime": {
     "end_time": "2024-05-10T14:33:57.237868Z",
     "start_time": "2024-05-10T14:33:57.039615Z"
    }
   },
   "cell_type": "code",
   "source": "data_test.isna().sum().sum()",
   "id": "602bc7fbeeb50d12",
   "outputs": [
    {
     "data": {
      "text/plain": [
       "1392628"
      ]
     },
     "execution_count": 11,
     "metadata": {},
     "output_type": "execute_result"
    }
   ],
   "execution_count": 11
  },
  {
   "metadata": {
    "ExecuteTime": {
     "end_time": "2024-05-10T14:44:56.470791Z",
     "start_time": "2024-05-10T14:44:56.467541Z"
    }
   },
   "cell_type": "code",
   "source": "data_test.shape[0] * data_test.shape[1]",
   "id": "b3af2c2205a4e49e",
   "outputs": [
    {
     "data": {
      "text/plain": [
       "201873860"
      ]
     },
     "execution_count": 15,
     "metadata": {},
     "output_type": "execute_result"
    }
   ],
   "execution_count": 15
  },
  {
   "metadata": {
    "ExecuteTime": {
     "end_time": "2024-05-10T14:28:17.935985Z",
     "start_time": "2024-05-10T14:28:17.547477Z"
    }
   },
   "cell_type": "code",
   "source": "data = data_with_targets.fillna(0.0)",
   "id": "6b1bab6cc3ea871f",
   "outputs": [],
   "execution_count": 3
  },
  {
   "metadata": {
    "ExecuteTime": {
     "end_time": "2024-05-06T16:03:50.265052Z",
     "start_time": "2024-05-06T16:03:49.566807Z"
    }
   },
   "cell_type": "code",
   "source": [
    "# remove the possible y labels:\n",
    "data_columns = [col for col in data.columns if col not in ['primary_disease', 'gender', 'age', 'dataset', 'normalized_age']]\n",
    "y = \"gender\"\n",
    "# TODO: makes no sense when using a autoencoder...\n",
    "X_train, y_train, X_test, y_test = train_test_split(data[data_columns], data[\"age\"], train_size=0.8, random_state=42)\n"
   ],
   "id": "baa476cf8c63d8f",
   "outputs": [],
   "execution_count": 4
  },
  {
   "metadata": {
    "ExecuteTime": {
     "end_time": "2024-05-06T16:03:50.269658Z",
     "start_time": "2024-05-06T16:03:50.265812Z"
    }
   },
   "cell_type": "code",
   "source": "X_train.shape",
   "id": "dd124b348bb2e205",
   "outputs": [
    {
     "data": {
      "text/plain": [
       "(9424, 17137)"
      ]
     },
     "execution_count": 5,
     "metadata": {},
     "output_type": "execute_result"
    }
   ],
   "execution_count": 5
  },
  {
   "metadata": {
    "ExecuteTime": {
     "end_time": "2024-05-06T16:03:50.290094Z",
     "start_time": "2024-05-06T16:03:50.270143Z"
    }
   },
   "cell_type": "code",
   "source": "X_train.head()",
   "id": "fd68a1ffe3934059",
   "outputs": [
    {
     "data": {
      "text/plain": [
       "                     A1BG  A1CF        A2M     A2ML1     A4GALT  A4GNT  \\\n",
       "TCGA-AS-3778-01  5.530000  7.37  15.020000  0.000000  10.680000   5.63   \n",
       "TCGA-BQ-5877-01  5.900000  4.96  13.720000  0.890000  10.340000   1.58   \n",
       "ACH-001484       0.275007  0.00   0.014355  0.014355   1.201634   0.00   \n",
       "TCGA-NG-A4VU-01  8.070000  0.00  14.120000  0.000000   9.550000   0.60   \n",
       "TCGA-BH-A18P-01  7.100000  0.45  12.700000  1.500000   5.970000   0.45   \n",
       "\n",
       "                      AAAS       AACS  AADAC  AADACL2  ...    ZWILCH  \\\n",
       "TCGA-AS-3778-01   9.190000   9.360000   1.27      0.0  ...  7.120000   \n",
       "TCGA-BQ-5877-01  10.090000  10.290000   0.00      0.0  ...  7.330000   \n",
       "ACH-001484        5.521365   3.718088   0.00      0.0  ...  3.632268   \n",
       "TCGA-NG-A4VU-01   9.800000   9.270000   0.00      0.0  ...  9.440000   \n",
       "TCGA-BH-A18P-01   9.320000   9.930000   0.00      0.0  ...  9.300000   \n",
       "\n",
       "                    ZWINT      ZXDA      ZXDB       ZXDC    ZYG11A     ZYG11B  \\\n",
       "TCGA-AS-3778-01  7.950000  6.850000  8.830000  10.420000  4.740000  10.180000   \n",
       "TCGA-BQ-5877-01  8.020000  6.510000  8.660000   9.390000  3.410000   9.900000   \n",
       "ACH-001484       5.467606  1.201634  2.166715   2.582556  1.257011   1.550901   \n",
       "TCGA-NG-A4VU-01  9.390000  5.520000  9.050000  10.260000  5.420000  10.490000   \n",
       "TCGA-BH-A18P-01  9.950000  6.420000  9.300000  10.310000  4.520000   9.800000   \n",
       "\n",
       "                      ZYX      ZZEF1       ZZZ3  \n",
       "TCGA-AS-3778-01  12.26000  10.550000   9.610000  \n",
       "TCGA-BQ-5877-01  12.93000   9.740000   9.970000  \n",
       "ACH-001484        5.06652   3.087463   3.521051  \n",
       "TCGA-NG-A4VU-01  11.99000   9.810000   9.390000  \n",
       "TCGA-BH-A18P-01  11.64000  10.440000  10.620000  \n",
       "\n",
       "[5 rows x 17137 columns]"
      ],
      "text/html": [
       "<div>\n",
       "<style scoped>\n",
       "    .dataframe tbody tr th:only-of-type {\n",
       "        vertical-align: middle;\n",
       "    }\n",
       "\n",
       "    .dataframe tbody tr th {\n",
       "        vertical-align: top;\n",
       "    }\n",
       "\n",
       "    .dataframe thead th {\n",
       "        text-align: right;\n",
       "    }\n",
       "</style>\n",
       "<table border=\"1\" class=\"dataframe\">\n",
       "  <thead>\n",
       "    <tr style=\"text-align: right;\">\n",
       "      <th></th>\n",
       "      <th>A1BG</th>\n",
       "      <th>A1CF</th>\n",
       "      <th>A2M</th>\n",
       "      <th>A2ML1</th>\n",
       "      <th>A4GALT</th>\n",
       "      <th>A4GNT</th>\n",
       "      <th>AAAS</th>\n",
       "      <th>AACS</th>\n",
       "      <th>AADAC</th>\n",
       "      <th>AADACL2</th>\n",
       "      <th>...</th>\n",
       "      <th>ZWILCH</th>\n",
       "      <th>ZWINT</th>\n",
       "      <th>ZXDA</th>\n",
       "      <th>ZXDB</th>\n",
       "      <th>ZXDC</th>\n",
       "      <th>ZYG11A</th>\n",
       "      <th>ZYG11B</th>\n",
       "      <th>ZYX</th>\n",
       "      <th>ZZEF1</th>\n",
       "      <th>ZZZ3</th>\n",
       "    </tr>\n",
       "  </thead>\n",
       "  <tbody>\n",
       "    <tr>\n",
       "      <th>TCGA-AS-3778-01</th>\n",
       "      <td>5.530000</td>\n",
       "      <td>7.37</td>\n",
       "      <td>15.020000</td>\n",
       "      <td>0.000000</td>\n",
       "      <td>10.680000</td>\n",
       "      <td>5.63</td>\n",
       "      <td>9.190000</td>\n",
       "      <td>9.360000</td>\n",
       "      <td>1.27</td>\n",
       "      <td>0.0</td>\n",
       "      <td>...</td>\n",
       "      <td>7.120000</td>\n",
       "      <td>7.950000</td>\n",
       "      <td>6.850000</td>\n",
       "      <td>8.830000</td>\n",
       "      <td>10.420000</td>\n",
       "      <td>4.740000</td>\n",
       "      <td>10.180000</td>\n",
       "      <td>12.26000</td>\n",
       "      <td>10.550000</td>\n",
       "      <td>9.610000</td>\n",
       "    </tr>\n",
       "    <tr>\n",
       "      <th>TCGA-BQ-5877-01</th>\n",
       "      <td>5.900000</td>\n",
       "      <td>4.96</td>\n",
       "      <td>13.720000</td>\n",
       "      <td>0.890000</td>\n",
       "      <td>10.340000</td>\n",
       "      <td>1.58</td>\n",
       "      <td>10.090000</td>\n",
       "      <td>10.290000</td>\n",
       "      <td>0.00</td>\n",
       "      <td>0.0</td>\n",
       "      <td>...</td>\n",
       "      <td>7.330000</td>\n",
       "      <td>8.020000</td>\n",
       "      <td>6.510000</td>\n",
       "      <td>8.660000</td>\n",
       "      <td>9.390000</td>\n",
       "      <td>3.410000</td>\n",
       "      <td>9.900000</td>\n",
       "      <td>12.93000</td>\n",
       "      <td>9.740000</td>\n",
       "      <td>9.970000</td>\n",
       "    </tr>\n",
       "    <tr>\n",
       "      <th>ACH-001484</th>\n",
       "      <td>0.275007</td>\n",
       "      <td>0.00</td>\n",
       "      <td>0.014355</td>\n",
       "      <td>0.014355</td>\n",
       "      <td>1.201634</td>\n",
       "      <td>0.00</td>\n",
       "      <td>5.521365</td>\n",
       "      <td>3.718088</td>\n",
       "      <td>0.00</td>\n",
       "      <td>0.0</td>\n",
       "      <td>...</td>\n",
       "      <td>3.632268</td>\n",
       "      <td>5.467606</td>\n",
       "      <td>1.201634</td>\n",
       "      <td>2.166715</td>\n",
       "      <td>2.582556</td>\n",
       "      <td>1.257011</td>\n",
       "      <td>1.550901</td>\n",
       "      <td>5.06652</td>\n",
       "      <td>3.087463</td>\n",
       "      <td>3.521051</td>\n",
       "    </tr>\n",
       "    <tr>\n",
       "      <th>TCGA-NG-A4VU-01</th>\n",
       "      <td>8.070000</td>\n",
       "      <td>0.00</td>\n",
       "      <td>14.120000</td>\n",
       "      <td>0.000000</td>\n",
       "      <td>9.550000</td>\n",
       "      <td>0.60</td>\n",
       "      <td>9.800000</td>\n",
       "      <td>9.270000</td>\n",
       "      <td>0.00</td>\n",
       "      <td>0.0</td>\n",
       "      <td>...</td>\n",
       "      <td>9.440000</td>\n",
       "      <td>9.390000</td>\n",
       "      <td>5.520000</td>\n",
       "      <td>9.050000</td>\n",
       "      <td>10.260000</td>\n",
       "      <td>5.420000</td>\n",
       "      <td>10.490000</td>\n",
       "      <td>11.99000</td>\n",
       "      <td>9.810000</td>\n",
       "      <td>9.390000</td>\n",
       "    </tr>\n",
       "    <tr>\n",
       "      <th>TCGA-BH-A18P-01</th>\n",
       "      <td>7.100000</td>\n",
       "      <td>0.45</td>\n",
       "      <td>12.700000</td>\n",
       "      <td>1.500000</td>\n",
       "      <td>5.970000</td>\n",
       "      <td>0.45</td>\n",
       "      <td>9.320000</td>\n",
       "      <td>9.930000</td>\n",
       "      <td>0.00</td>\n",
       "      <td>0.0</td>\n",
       "      <td>...</td>\n",
       "      <td>9.300000</td>\n",
       "      <td>9.950000</td>\n",
       "      <td>6.420000</td>\n",
       "      <td>9.300000</td>\n",
       "      <td>10.310000</td>\n",
       "      <td>4.520000</td>\n",
       "      <td>9.800000</td>\n",
       "      <td>11.64000</td>\n",
       "      <td>10.440000</td>\n",
       "      <td>10.620000</td>\n",
       "    </tr>\n",
       "  </tbody>\n",
       "</table>\n",
       "<p>5 rows × 17137 columns</p>\n",
       "</div>"
      ]
     },
     "execution_count": 6,
     "metadata": {},
     "output_type": "execute_result"
    }
   ],
   "execution_count": 6
  },
  {
   "metadata": {
    "ExecuteTime": {
     "end_time": "2024-05-06T16:03:50.293266Z",
     "start_time": "2024-05-06T16:03:50.290918Z"
    }
   },
   "cell_type": "code",
   "source": [
    "# transform dataset for the simple autoencoder\n",
    "\n",
    "transform_fc_ae = {\n",
    "    \"z_score\": \"per_gene\",\n",
    "}"
   ],
   "id": "f3842da979bd0663",
   "outputs": [],
   "execution_count": 7
  },
  {
   "metadata": {
    "ExecuteTime": {
     "end_time": "2024-05-06T16:03:51.618390Z",
     "start_time": "2024-05-06T16:03:50.293934Z"
    }
   },
   "cell_type": "code",
   "source": [
    "fc_ae_dataset = SimpleDataset(X_train, transform=transform_fc_ae)\n",
    "fc_ae_dataset[0]"
   ],
   "id": "56ffa049a894eaac",
   "outputs": [
    {
     "name": "stderr",
     "output_type": "stream",
     "text": [
      "/home/fes/Nextcloud/Uni/B.Sc. Bioinfo/Bachelorarbeit/thesis/src/dataloaders_and_sets/simple_dataset.py:8: FutureWarning: Series.__getitem__ treating keys as positions is deprecated. In a future version, integer keys will always be treated as labels (consistent with DataFrame behavior). To access a value by position, use `ser.iloc[pos]`\n",
      "  return torch.tensor(self.data.iloc[index], dtype=torch.float32)\n"
     ]
    },
    {
     "data": {
      "text/plain": [
       "tensor([-0.2390,  1.9360,  0.7182,  ...,  0.4927,  0.5141,  0.4326])"
      ]
     },
     "execution_count": 8,
     "metadata": {},
     "output_type": "execute_result"
    }
   ],
   "execution_count": 8
  },
  {
   "metadata": {
    "ExecuteTime": {
     "end_time": "2024-05-06T16:03:51.724591Z",
     "start_time": "2024-05-06T16:03:51.619082Z"
    }
   },
   "cell_type": "code",
   "source": [
    "# config\n",
    "device = torch.device(\"cuda\" if torch.cuda.is_available() else \"cpu\")\n",
    "print(\"{} is used\".format(device))"
   ],
   "id": "f65f7c5de66e595f",
   "outputs": [
    {
     "name": "stdout",
     "output_type": "stream",
     "text": [
      "cuda is used\n"
     ]
    }
   ],
   "execution_count": 9
  },
  {
   "metadata": {
    "ExecuteTime": {
     "end_time": "2024-05-06T16:05:17.072319Z",
     "start_time": "2024-05-06T16:05:17.069643Z"
    }
   },
   "cell_type": "code",
   "source": [
    "input_dim = X_train.shape[1]\n",
    "hidden_dim = 2048\n",
    "z_dim = 128\n",
    "\n",
    "num_epochs = 10\n",
    "batch_size = 512\n",
    "learning_rate = 2e-5\n",
    "print(input_dim)"
   ],
   "id": "bc03513e838236c5",
   "outputs": [
    {
     "name": "stdout",
     "output_type": "stream",
     "text": [
      "17137\n"
     ]
    }
   ],
   "execution_count": 13
  },
  {
   "metadata": {
    "ExecuteTime": {
     "end_time": "2024-05-06T16:05:19.566778Z",
     "start_time": "2024-05-06T16:05:17.654916Z"
    }
   },
   "cell_type": "code",
   "source": [
    "# dataset loading\n",
    "from src.models.fc import VAE\n",
    "\n",
    "dataset = SimpleDataset(X_train, transform=transform_fc_ae)\n",
    "dataloader = DataLoader(dataset, batch_size=batch_size, shuffle=True)\n",
    "model = VAE(input_size=input_dim, hidden_size=hidden_dim, z_size=z_dim).to(device)\n",
    "\n",
    "optimizer = optim.Adam(model.parameters(), lr=learning_rate)\n",
    "loss_mse = nn.MSELoss()\n",
    "def loss_kl(mu, sigma):\n",
    "    return - torch.sum(1 + torch.log(sigma.pow(2)) - mu.pow(2) -sigma.pow(2))"
   ],
   "id": "7061d83250cc2bcf",
   "outputs": [],
   "execution_count": 14
  },
  {
   "metadata": {
    "ExecuteTime": {
     "end_time": "2024-05-06T16:14:12.745964Z",
     "start_time": "2024-05-06T16:05:19.567892Z"
    }
   },
   "cell_type": "code",
   "source": [
    "for epoch in range(num_epochs):\n",
    "    train_loss = 0.0\n",
    "    val_loss = 0.0\n",
    "\n",
    "    # Training loop\n",
    "    model.train()\n",
    "    for batch_idx, data in enumerate(tqdm(dataloader, desc=f\"Epoch {epoch+1} Training\")):\n",
    "        data = data.to(device)\n",
    "        optimizer.zero_grad()\n",
    "        recon_batch, mu, sigma = model(data)\n",
    "\n",
    "        # Compute training loss\n",
    "        loss = loss_mse(recon_batch, data) + loss_kl(mu, sigma)\n",
    "        loss.backward()\n",
    "        optimizer.step()\n",
    "\n",
    "        train_loss += loss.item()\n",
    "        \n",
    "\n",
    "    # Validation loop\n",
    "    model.eval()\n",
    "    with torch.no_grad():\n",
    "        for batch_idx, data in enumerate(tqdm(dataloader, desc=f\"Epoch {epoch+1} Validation\")):\n",
    "            data = data.to(device)\n",
    "            pred_recon, _, _ = model(data)\n",
    "            loss = loss_mse(pred_recon, data)\n",
    "            val_loss += loss.item()\n",
    "            \n",
    "\n",
    "    # Calculate average losses\n",
    "    avg_train_loss = train_loss / len(dataloader.dataset)\n",
    "    avg_val_loss = val_loss / len(dataloader.dataset)\n",
    "\n",
    "    # Output average losses for the epoch\n",
    "    print(f\"Epoch {epoch+1}:\")\n",
    "    print(f\"\\tTraining Loss: {avg_train_loss:.6f}\")\n",
    "    print(f\"\\tValidation Loss: {avg_val_loss:.6f}\")\n"
   ],
   "id": "e58a119fd94e38c7",
   "outputs": [
    {
     "name": "stderr",
     "output_type": "stream",
     "text": [
      "Epoch 1 Training:   0%|          | 0/19 [00:00<?, ?it/s]/home/fes/Nextcloud/Uni/B.Sc. Bioinfo/Bachelorarbeit/thesis/src/dataloaders_and_sets/simple_dataset.py:8: FutureWarning: Series.__getitem__ treating keys as positions is deprecated. In a future version, integer keys will always be treated as labels (consistent with DataFrame behavior). To access a value by position, use `ser.iloc[pos]`\n",
      "  return torch.tensor(self.data.iloc[index], dtype=torch.float32)\n",
      "Epoch 1 Training: 100%|██████████| 19/19 [00:27<00:00,  1.44s/it]\n",
      "Epoch 1 Validation: 100%|██████████| 19/19 [00:26<00:00,  1.39s/it]\n"
     ]
    },
    {
     "name": "stdout",
     "output_type": "stream",
     "text": [
      "Epoch 1:\n",
      "\tTraining Loss: 549.567292\n",
      "\tValidation Loss: 0.001980\n"
     ]
    },
    {
     "name": "stderr",
     "output_type": "stream",
     "text": [
      "Epoch 2 Training: 100%|██████████| 19/19 [00:27<00:00,  1.46s/it]\n",
      "Epoch 2 Validation: 100%|██████████| 19/19 [00:25<00:00,  1.37s/it]\n"
     ]
    },
    {
     "name": "stdout",
     "output_type": "stream",
     "text": [
      "Epoch 2:\n",
      "\tTraining Loss: 424.340777\n",
      "\tValidation Loss: 0.001846\n"
     ]
    },
    {
     "name": "stderr",
     "output_type": "stream",
     "text": [
      "Epoch 3 Training: 100%|██████████| 19/19 [00:27<00:00,  1.43s/it]\n",
      "Epoch 3 Validation: 100%|██████████| 19/19 [00:26<00:00,  1.37s/it]\n"
     ]
    },
    {
     "name": "stdout",
     "output_type": "stream",
     "text": [
      "Epoch 3:\n",
      "\tTraining Loss: 361.023377\n",
      "\tValidation Loss: 0.001656\n"
     ]
    },
    {
     "name": "stderr",
     "output_type": "stream",
     "text": [
      "Epoch 4 Training: 100%|██████████| 19/19 [00:27<00:00,  1.46s/it]\n",
      "Epoch 4 Validation: 100%|██████████| 19/19 [00:26<00:00,  1.37s/it]\n"
     ]
    },
    {
     "name": "stdout",
     "output_type": "stream",
     "text": [
      "Epoch 4:\n",
      "\tTraining Loss: 313.954908\n",
      "\tValidation Loss: 0.001606\n"
     ]
    },
    {
     "name": "stderr",
     "output_type": "stream",
     "text": [
      "Epoch 5 Training: 100%|██████████| 19/19 [00:26<00:00,  1.42s/it]\n",
      "Epoch 5 Validation: 100%|██████████| 19/19 [00:26<00:00,  1.37s/it]\n"
     ]
    },
    {
     "name": "stdout",
     "output_type": "stream",
     "text": [
      "Epoch 5:\n",
      "\tTraining Loss: 274.378563\n",
      "\tValidation Loss: 0.001631\n"
     ]
    },
    {
     "name": "stderr",
     "output_type": "stream",
     "text": [
      "Epoch 6 Training: 100%|██████████| 19/19 [00:27<00:00,  1.43s/it]\n",
      "Epoch 6 Validation: 100%|██████████| 19/19 [00:25<00:00,  1.34s/it]\n"
     ]
    },
    {
     "name": "stdout",
     "output_type": "stream",
     "text": [
      "Epoch 6:\n",
      "\tTraining Loss: 246.727424\n",
      "\tValidation Loss: 0.001654\n"
     ]
    },
    {
     "name": "stderr",
     "output_type": "stream",
     "text": [
      "Epoch 7 Training: 100%|██████████| 19/19 [00:26<00:00,  1.40s/it]\n",
      "Epoch 7 Validation: 100%|██████████| 19/19 [00:25<00:00,  1.35s/it]\n"
     ]
    },
    {
     "name": "stdout",
     "output_type": "stream",
     "text": [
      "Epoch 7:\n",
      "\tTraining Loss: 218.943676\n",
      "\tValidation Loss: 0.001680\n"
     ]
    },
    {
     "name": "stderr",
     "output_type": "stream",
     "text": [
      "Epoch 8 Training: 100%|██████████| 19/19 [00:27<00:00,  1.44s/it]\n",
      "Epoch 8 Validation: 100%|██████████| 19/19 [00:26<00:00,  1.39s/it]\n"
     ]
    },
    {
     "name": "stdout",
     "output_type": "stream",
     "text": [
      "Epoch 8:\n",
      "\tTraining Loss: 195.134870\n",
      "\tValidation Loss: 0.001689\n"
     ]
    },
    {
     "name": "stderr",
     "output_type": "stream",
     "text": [
      "Epoch 9 Training: 100%|██████████| 19/19 [00:27<00:00,  1.43s/it]\n",
      "Epoch 9 Validation: 100%|██████████| 19/19 [00:25<00:00,  1.36s/it]\n"
     ]
    },
    {
     "name": "stdout",
     "output_type": "stream",
     "text": [
      "Epoch 9:\n",
      "\tTraining Loss: 176.808202\n",
      "\tValidation Loss: 0.001692\n"
     ]
    },
    {
     "name": "stderr",
     "output_type": "stream",
     "text": [
      "Epoch 10 Training: 100%|██████████| 19/19 [00:27<00:00,  1.46s/it]\n",
      "Epoch 10 Validation: 100%|██████████| 19/19 [00:26<00:00,  1.38s/it]"
     ]
    },
    {
     "name": "stdout",
     "output_type": "stream",
     "text": [
      "Epoch 10:\n",
      "\tTraining Loss: 160.959551\n",
      "\tValidation Loss: 0.001684\n"
     ]
    },
    {
     "name": "stderr",
     "output_type": "stream",
     "text": [
      "\n"
     ]
    }
   ],
   "execution_count": 15
  },
  {
   "metadata": {},
   "cell_type": "code",
   "outputs": [],
   "execution_count": null,
   "source": "",
   "id": "737f6a7b91fce572"
  }
 ],
 "metadata": {
  "kernelspec": {
   "display_name": "Python 3",
   "language": "python",
   "name": "python3"
  },
  "language_info": {
   "codemirror_mode": {
    "name": "ipython",
    "version": 2
   },
   "file_extension": ".py",
   "mimetype": "text/x-python",
   "name": "python",
   "nbconvert_exporter": "python",
   "pygments_lexer": "ipython2",
   "version": "2.7.6"
  }
 },
 "nbformat": 4,
 "nbformat_minor": 5
}
