{
 "cells": [
  {
   "cell_type": "code",
   "id": "initial_id",
   "metadata": {
    "collapsed": true,
    "ExecuteTime": {
     "end_time": "2024-05-11T08:44:05.752023Z",
     "start_time": "2024-05-11T08:44:05.699985Z"
    }
   },
   "source": [
    "%load_ext autoreload\n",
    "%autoreload 2\n",
    "\n",
    "import numpy as np\n",
    "import pandas as pd\n",
    "from sklearn.model_selection import train_test_split\n",
    "import torch\n",
    "import torch.nn as nn\n",
    "from src.dataloaders_and_sets.simple_dataset import SimpleDataset\n",
    "from tqdm import tqdm\n",
    "from torch.utils.data import DataLoader\n",
    "import torch.optim as optim\n",
    "from torcheval.metrics.functional import r2_score\n",
    "from torch.optim.lr_scheduler import ExponentialLR\n",
    "import tensorboard\n",
    "from torch.utils.tensorboard import SummaryWriter\n"
   ],
   "outputs": [
    {
     "name": "stdout",
     "output_type": "stream",
     "text": [
      "The autoreload extension is already loaded. To reload it, use:\n",
      "  %reload_ext autoreload\n"
     ]
    }
   ],
   "execution_count": 29
  },
  {
   "metadata": {},
   "cell_type": "markdown",
   "source": "# Loading Data and Preprocessing",
   "id": "98043bbe3bb37de3"
  },
  {
   "metadata": {
    "ExecuteTime": {
     "end_time": "2024-05-11T07:35:56.735096Z",
     "start_time": "2024-05-11T07:35:17.325Z"
    }
   },
   "cell_type": "code",
   "source": "data_with_targets = pd.read_csv('data/data.csv', index_col=0)",
   "id": "f0fc869bc5c0b9a7",
   "outputs": [],
   "execution_count": 2
  },
  {
   "metadata": {
    "ExecuteTime": {
     "end_time": "2024-05-11T07:35:57.247379Z",
     "start_time": "2024-05-11T07:35:56.736586Z"
    }
   },
   "cell_type": "code",
   "source": "data = data_with_targets.fillna(0.0)",
   "id": "6b1bab6cc3ea871f",
   "outputs": [],
   "execution_count": 3
  },
  {
   "metadata": {
    "ExecuteTime": {
     "end_time": "2024-05-11T07:35:59.131676Z",
     "start_time": "2024-05-11T07:35:57.248935Z"
    }
   },
   "cell_type": "code",
   "source": [
    "# remove the possible y labels:\n",
    "y_labels = ['primary_disease', 'gender', 'age', 'dataset']\n",
    "data_columns = [col for col in data.columns if col not in y_labels]\n",
    "y = \"gender\"\n",
    "# TODO: makes no sense when using a autoencoder...\n",
    "X_train, X_test, y_train, y_test = train_test_split(data[data_columns], data[y_labels], train_size=0.8, random_state=42)\n",
    "X_train, X_val, y_train, y_val = train_test_split(X_train, y_train, train_size=0.8, random_state=42)\n",
    "print(X_train.shape, y_train.shape, X_val.shape, y_val.shape)"
   ],
   "id": "baa476cf8c63d8f",
   "outputs": [
    {
     "name": "stdout",
     "output_type": "stream",
     "text": [
      "(7539, 17137) (7539, 4) (1885, 17137) (1885, 4)\n"
     ]
    }
   ],
   "execution_count": 4
  },
  {
   "metadata": {
    "ExecuteTime": {
     "end_time": "2024-05-11T07:35:59.171577Z",
     "start_time": "2024-05-11T07:35:59.133925Z"
    }
   },
   "cell_type": "code",
   "source": [
    "# transform dataset for the simple autoencoder\n",
    "\n",
    "transform_fc_ae = {\n",
    "    \"z_score\": \"per_gene\",\n",
    "    \"most_variant\": 5000,\n",
    "}"
   ],
   "id": "f3842da979bd0663",
   "outputs": [],
   "execution_count": 5
  },
  {
   "metadata": {
    "ExecuteTime": {
     "end_time": "2024-05-11T07:36:00.948028Z",
     "start_time": "2024-05-11T07:35:59.173092Z"
    }
   },
   "cell_type": "code",
   "source": [
    "fc_ae_dataset = SimpleDataset(X_train, transform=transform_fc_ae)\n",
    "fc_ae_dataset[0]"
   ],
   "id": "56ffa049a894eaac",
   "outputs": [
    {
     "name": "stderr",
     "output_type": "stream",
     "text": [
      "/home/fes/Nextcloud/Uni/B.Sc. Bioinfo/Bachelorarbeit/thesis/src/dataloaders_and_sets/simple_dataset.py:8: FutureWarning: Series.__getitem__ treating keys as positions is deprecated. In a future version, integer keys will always be treated as labels (consistent with DataFrame behavior). To access a value by position, use `ser.iloc[pos]`\n",
      "  return torch.tensor(self.data.iloc[index], dtype=torch.float32)\n"
     ]
    },
    {
     "data": {
      "text/plain": [
       "tensor([-0.0508, -0.0571, -0.0392,  ...,  0.3304, -0.1530,  0.4498])"
      ]
     },
     "execution_count": 6,
     "metadata": {},
     "output_type": "execute_result"
    }
   ],
   "execution_count": 6
  },
  {
   "metadata": {
    "ExecuteTime": {
     "end_time": "2024-05-11T07:36:02.277180Z",
     "start_time": "2024-05-11T07:36:00.948839Z"
    }
   },
   "cell_type": "code",
   "source": [
    "# config\n",
    "device = torch.device(\"cuda\" if torch.cuda.is_available() else \"cpu\")\n",
    "print(\"{} is used\".format(device))"
   ],
   "id": "f65f7c5de66e595f",
   "outputs": [
    {
     "name": "stdout",
     "output_type": "stream",
     "text": [
      "cuda is used\n"
     ]
    }
   ],
   "execution_count": 7
  },
  {
   "metadata": {},
   "cell_type": "markdown",
   "source": "# Setup Tensorboard",
   "id": "799aed9d1eef3b47"
  },
  {
   "metadata": {
    "ExecuteTime": {
     "end_time": "2024-05-11T08:50:23.756380Z",
     "start_time": "2024-05-11T08:50:23.735234Z"
    }
   },
   "cell_type": "code",
   "source": "writer = SummaryWriter(\"logs/autoencoder\")\n",
   "id": "846263839add2d82",
   "outputs": [],
   "execution_count": 31
  },
  {
   "metadata": {
    "ExecuteTime": {
     "end_time": "2024-05-11T07:54:33.246984Z",
     "start_time": "2024-05-11T07:54:33.217588Z"
    }
   },
   "cell_type": "code",
   "source": [
    "input_dim = len(fc_ae_dataset[0])\n",
    "hidden_one_dim = 512\n",
    "hidden_two_dim = 128\n",
    "z_dim = 64\n",
    "\n",
    "num_epochs = 50\n",
    "batch_size = 512\n",
    "learning_rate = 3e-4\n",
    "beta = 0.0\n",
    "print(input_dim)"
   ],
   "id": "bc03513e838236c5",
   "outputs": [
    {
     "name": "stdout",
     "output_type": "stream",
     "text": [
      "5000\n"
     ]
    }
   ],
   "execution_count": 24
  },
  {
   "metadata": {
    "ExecuteTime": {
     "end_time": "2024-05-11T07:54:35.467369Z",
     "start_time": "2024-05-11T07:54:33.542112Z"
    }
   },
   "cell_type": "code",
   "source": [
    "# dataset loading\n",
    "from src.models.fc import VAE\n",
    "\n",
    "train_dataset = SimpleDataset(X_train, transform=transform_fc_ae)\n",
    "train_dataloader = DataLoader(train_dataset, batch_size=batch_size, shuffle=True)\n",
    "val_dataset = SimpleDataset(X_val, transform=transform_fc_ae)\n",
    "val_dataloader = DataLoader(val_dataset, batch_size=batch_size, shuffle=True)\n",
    "model = VAE(input_size=input_dim, hidden_one_size=hidden_one_dim, hidden_two_size=hidden_two_dim, z_size=z_dim).to(device)\n",
    "\n",
    "optimizer = optim.Adam(model.parameters(), lr=learning_rate)\n",
    "scheduler = ExponentialLR(optimizer, gamma=0.9)\n",
    "\n",
    "loss_mse = nn.MSELoss()\n",
    "def loss_kl(mu, sigma):\n",
    "    return - torch.sum(1 + torch.log(sigma.pow(2)) - mu.pow(2) -sigma.pow(2)) / len(mu)"
   ],
   "id": "7061d83250cc2bcf",
   "outputs": [],
   "execution_count": 25
  },
  {
   "metadata": {
    "ExecuteTime": {
     "end_time": "2024-05-11T09:02:14.124274Z",
     "start_time": "2024-05-11T09:02:14.073870Z"
    }
   },
   "cell_type": "code",
   "source": [
    "writer.add_graph(model.cpu(), train_dataset[0])\n",
    "writer.close()"
   ],
   "id": "330b910b20b7d493",
   "outputs": [
    {
     "name": "stderr",
     "output_type": "stream",
     "text": [
      "/home/fes/anaconda3/envs/Helmholtz/lib/python3.11/site-packages/torch/jit/_trace.py:1116: TracerWarning: Trace had nondeterministic nodes. Did you forget call .eval() on your model? Nodes:\n",
      "\t%eps : Float(64, strides=[1], requires_grad=0, device=cpu) = aten::randn_like(%98, %45, %46, %47, %48, %49) # /home/fes/Nextcloud/Uni/B.Sc. Bioinfo/Bachelorarbeit/thesis/src/models/fc.py:37:0\n",
      "This may cause errors in trace checking. To disable trace checking, pass check_trace=False to torch.jit.trace()\n",
      "  _check_trace(\n",
      "/home/fes/anaconda3/envs/Helmholtz/lib/python3.11/site-packages/torch/jit/_trace.py:1116: TracerWarning: Output nr 1. of the traced function does not match the corresponding output of the Python function. Detailed error:\n",
      "Tensor-likes are not close!\n",
      "\n",
      "Mismatched elements: 4994 / 5000 (99.9%)\n",
      "Greatest absolute difference: 0.04024442099034786 at index (140,) (up to 1e-05 allowed)\n",
      "Greatest relative difference: 3022.1378215654076 at index (3565,) (up to 1e-05 allowed)\n",
      "  _check_trace(\n"
     ]
    }
   ],
   "execution_count": 36
  },
  {
   "metadata": {
    "ExecuteTime": {
     "end_time": "2024-05-11T07:54:36.954225Z",
     "start_time": "2024-05-11T07:54:35.468535Z"
    }
   },
   "cell_type": "code",
   "source": [
    "for epoch in range(num_epochs):\n",
    "    train_loss = 0.0\n",
    "    val_loss = 0.0\n",
    "    number_train_batches = 0\n",
    "    number_val_batches = 0\n",
    "    \n",
    "    # Training loop\n",
    "    model.train()\n",
    "    for batch_idx, batch in enumerate(tqdm(train_dataloader, desc=f\"Epoch {epoch+1} Training\")):\n",
    "        batch = batch.to(device)\n",
    "        optimizer.zero_grad()\n",
    "        recon_batch, mu, sigma = model(batch)\n",
    "\n",
    "        # Compute training loss\n",
    "        single_loss_mse = loss_mse(recon_batch, batch)\n",
    "        single_loss_kl = loss_kl(mu, sigma)\n",
    "        # print(\"MSE: {}, KL: {}\".format(single_loss_mse, single_loss_kl))\n",
    "        loss = single_loss_mse + beta * single_loss_kl\n",
    "        loss.backward()\n",
    "        optimizer.step()\n",
    "    scheduler.step()\n",
    "\n",
    "        train_loss += loss.item()\n",
    "        \n",
    "        number_train_batches += 1\n",
    "        \n",
    "\n",
    "    # Validation loop\n",
    "    model.eval()\n",
    "    with torch.no_grad():\n",
    "        for batch_idx, batch in enumerate(tqdm(val_dataloader, desc=f\"Epoch {epoch+1} Validation\")):\n",
    "            batch = batch.to(device)\n",
    "            reconstructed, _, _ = model(batch)\n",
    "            loss = r2_score(reconstructed, batch)\n",
    "            #print(loss.item())\n",
    "            #print(reconstructed - batch)\n",
    "            val_loss += loss.item()\n",
    "            \n",
    "\n",
    "    # Calculate average losses\n",
    "    avg_train_loss = train_loss / len(train_dataloader.dataset)\n",
    "    avg_val_loss = val_loss / len(val_dataloader.dataset)\n",
    "\n",
    "    # Output average losses for the epoch\n",
    "    print(f\"Epoch {epoch+1}:\")\n",
    "    print(f\"\\tTraining Loss: {avg_train_loss:.6f}\")\n",
    "    print(f\"\\tValidation Loss: {avg_val_loss:.6f}\")\n"
   ],
   "id": "e58a119fd94e38c7",
   "outputs": [
    {
     "name": "stderr",
     "output_type": "stream",
     "text": [
      "Epoch 1 Training:   0%|          | 0/7539 [00:00<?, ?it/s]\n",
      "Epoch 1 Validation:   0%|          | 0/1885 [00:00<?, ?it/s]\n"
     ]
    },
    {
     "name": "stdout",
     "output_type": "stream",
     "text": [
      "Epoch 1:\n",
      "\tTraining Loss: 0.000056\n",
      "\tValidation Loss: 0.000000\n"
     ]
    },
    {
     "name": "stderr",
     "output_type": "stream",
     "text": [
      "Epoch 2 Training:   0%|          | 0/7539 [00:00<?, ?it/s]\n",
      "Epoch 2 Validation:   0%|          | 0/1885 [00:00<?, ?it/s]\n"
     ]
    },
    {
     "name": "stdout",
     "output_type": "stream",
     "text": [
      "Epoch 2:\n",
      "\tTraining Loss: 0.000053\n",
      "\tValidation Loss: 0.000000\n"
     ]
    },
    {
     "name": "stderr",
     "output_type": "stream",
     "text": [
      "Epoch 3 Training:   0%|          | 0/7539 [00:00<?, ?it/s]\n",
      "Epoch 3 Validation:   0%|          | 0/1885 [00:00<?, ?it/s]\n"
     ]
    },
    {
     "name": "stdout",
     "output_type": "stream",
     "text": [
      "Epoch 3:\n",
      "\tTraining Loss: 0.000079\n",
      "\tValidation Loss: 0.000000\n"
     ]
    },
    {
     "name": "stderr",
     "output_type": "stream",
     "text": [
      "Epoch 4 Training:   0%|          | 0/7539 [00:00<?, ?it/s]\n",
      "Epoch 4 Validation:   0%|          | 0/1885 [00:00<?, ?it/s]\n"
     ]
    },
    {
     "name": "stdout",
     "output_type": "stream",
     "text": [
      "Epoch 4:\n",
      "\tTraining Loss: 0.000087\n",
      "\tValidation Loss: 0.000000\n"
     ]
    },
    {
     "name": "stderr",
     "output_type": "stream",
     "text": [
      "Epoch 5 Training:   0%|          | 0/7539 [00:00<?, ?it/s]\n",
      "Epoch 5 Validation:   0%|          | 0/1885 [00:00<?, ?it/s]\n"
     ]
    },
    {
     "name": "stdout",
     "output_type": "stream",
     "text": [
      "Epoch 5:\n",
      "\tTraining Loss: 0.000072\n",
      "\tValidation Loss: 0.000000\n"
     ]
    },
    {
     "name": "stderr",
     "output_type": "stream",
     "text": [
      "Epoch 6 Training:   0%|          | 0/7539 [00:00<?, ?it/s]\n",
      "Epoch 6 Validation:   0%|          | 0/1885 [00:00<?, ?it/s]\n"
     ]
    },
    {
     "name": "stdout",
     "output_type": "stream",
     "text": [
      "Epoch 6:\n",
      "\tTraining Loss: 0.000073\n",
      "\tValidation Loss: 0.000000\n"
     ]
    },
    {
     "name": "stderr",
     "output_type": "stream",
     "text": [
      "Epoch 7 Training:   0%|          | 0/7539 [00:00<?, ?it/s]\n",
      "Epoch 7 Validation:   0%|          | 0/1885 [00:00<?, ?it/s]\n"
     ]
    },
    {
     "name": "stdout",
     "output_type": "stream",
     "text": [
      "Epoch 7:\n",
      "\tTraining Loss: 0.000074\n",
      "\tValidation Loss: 0.000000\n"
     ]
    },
    {
     "name": "stderr",
     "output_type": "stream",
     "text": [
      "Epoch 8 Training:   0%|          | 0/7539 [00:00<?, ?it/s]\n",
      "Epoch 8 Validation:   0%|          | 0/1885 [00:00<?, ?it/s]\n"
     ]
    },
    {
     "name": "stdout",
     "output_type": "stream",
     "text": [
      "Epoch 8:\n",
      "\tTraining Loss: 0.000059\n",
      "\tValidation Loss: 0.000000\n"
     ]
    },
    {
     "name": "stderr",
     "output_type": "stream",
     "text": [
      "Epoch 9 Training:   0%|          | 0/7539 [00:00<?, ?it/s]\n",
      "Epoch 9 Validation:   0%|          | 0/1885 [00:00<?, ?it/s]\n"
     ]
    },
    {
     "name": "stdout",
     "output_type": "stream",
     "text": [
      "Epoch 9:\n",
      "\tTraining Loss: 0.000406\n",
      "\tValidation Loss: 0.000000\n"
     ]
    },
    {
     "name": "stderr",
     "output_type": "stream",
     "text": [
      "Epoch 10 Training:   0%|          | 0/7539 [00:00<?, ?it/s]\n",
      "Epoch 10 Validation:   0%|          | 0/1885 [00:00<?, ?it/s]\n"
     ]
    },
    {
     "name": "stdout",
     "output_type": "stream",
     "text": [
      "Epoch 10:\n",
      "\tTraining Loss: 0.000133\n",
      "\tValidation Loss: 0.000000\n"
     ]
    },
    {
     "name": "stderr",
     "output_type": "stream",
     "text": [
      "Epoch 11 Training:   0%|          | 0/7539 [00:00<?, ?it/s]\n",
      "Epoch 11 Validation:   0%|          | 0/1885 [00:00<?, ?it/s]\n"
     ]
    },
    {
     "name": "stdout",
     "output_type": "stream",
     "text": [
      "Epoch 11:\n",
      "\tTraining Loss: 0.000421\n",
      "\tValidation Loss: 0.000000\n"
     ]
    },
    {
     "name": "stderr",
     "output_type": "stream",
     "text": [
      "Epoch 12 Training:   0%|          | 0/7539 [00:00<?, ?it/s]\n",
      "Epoch 12 Validation:   0%|          | 0/1885 [00:00<?, ?it/s]\n"
     ]
    },
    {
     "name": "stdout",
     "output_type": "stream",
     "text": [
      "Epoch 12:\n",
      "\tTraining Loss: 0.000460\n",
      "\tValidation Loss: 0.000000\n"
     ]
    },
    {
     "name": "stderr",
     "output_type": "stream",
     "text": [
      "Epoch 13 Training:   0%|          | 0/7539 [00:00<?, ?it/s]\n",
      "Epoch 13 Validation:   0%|          | 0/1885 [00:00<?, ?it/s]\n"
     ]
    },
    {
     "name": "stdout",
     "output_type": "stream",
     "text": [
      "Epoch 13:\n",
      "\tTraining Loss: 0.000094\n",
      "\tValidation Loss: 0.000000\n"
     ]
    },
    {
     "name": "stderr",
     "output_type": "stream",
     "text": [
      "Epoch 14 Training:   0%|          | 0/7539 [00:00<?, ?it/s]\n",
      "Epoch 14 Validation:   0%|          | 0/1885 [00:00<?, ?it/s]\n"
     ]
    },
    {
     "name": "stdout",
     "output_type": "stream",
     "text": [
      "Epoch 14:\n",
      "\tTraining Loss: 0.000129\n",
      "\tValidation Loss: 0.000000\n"
     ]
    },
    {
     "name": "stderr",
     "output_type": "stream",
     "text": [
      "Epoch 15 Training:   0%|          | 0/7539 [00:00<?, ?it/s]\n",
      "Epoch 15 Validation:   0%|          | 0/1885 [00:00<?, ?it/s]\n"
     ]
    },
    {
     "name": "stdout",
     "output_type": "stream",
     "text": [
      "Epoch 15:\n",
      "\tTraining Loss: 0.000105\n",
      "\tValidation Loss: 0.000000\n"
     ]
    },
    {
     "name": "stderr",
     "output_type": "stream",
     "text": [
      "Epoch 16 Training:   0%|          | 0/7539 [00:00<?, ?it/s]\n",
      "Epoch 16 Validation:   0%|          | 0/1885 [00:00<?, ?it/s]\n"
     ]
    },
    {
     "name": "stdout",
     "output_type": "stream",
     "text": [
      "Epoch 16:\n",
      "\tTraining Loss: 0.000115\n",
      "\tValidation Loss: 0.000000\n"
     ]
    },
    {
     "name": "stderr",
     "output_type": "stream",
     "text": [
      "Epoch 17 Training:   0%|          | 0/7539 [00:00<?, ?it/s]\n",
      "Epoch 17 Validation:   0%|          | 0/1885 [00:00<?, ?it/s]\n"
     ]
    },
    {
     "name": "stdout",
     "output_type": "stream",
     "text": [
      "Epoch 17:\n",
      "\tTraining Loss: 0.000147\n",
      "\tValidation Loss: 0.000000\n"
     ]
    },
    {
     "name": "stderr",
     "output_type": "stream",
     "text": [
      "Epoch 18 Training:   0%|          | 0/7539 [00:00<?, ?it/s]\n",
      "Epoch 18 Validation:   0%|          | 0/1885 [00:00<?, ?it/s]\n"
     ]
    },
    {
     "name": "stdout",
     "output_type": "stream",
     "text": [
      "Epoch 18:\n",
      "\tTraining Loss: 0.000138\n",
      "\tValidation Loss: 0.000000\n"
     ]
    },
    {
     "name": "stderr",
     "output_type": "stream",
     "text": [
      "Epoch 19 Training:   0%|          | 0/7539 [00:00<?, ?it/s]\n",
      "Epoch 19 Validation:   0%|          | 0/1885 [00:00<?, ?it/s]\n"
     ]
    },
    {
     "name": "stdout",
     "output_type": "stream",
     "text": [
      "Epoch 19:\n",
      "\tTraining Loss: 0.000064\n",
      "\tValidation Loss: 0.000000\n"
     ]
    },
    {
     "name": "stderr",
     "output_type": "stream",
     "text": [
      "Epoch 20 Training:   0%|          | 0/7539 [00:00<?, ?it/s]\n",
      "Epoch 20 Validation:   0%|          | 0/1885 [00:00<?, ?it/s]\n"
     ]
    },
    {
     "name": "stdout",
     "output_type": "stream",
     "text": [
      "Epoch 20:\n",
      "\tTraining Loss: 0.000112\n",
      "\tValidation Loss: 0.000000\n"
     ]
    },
    {
     "name": "stderr",
     "output_type": "stream",
     "text": [
      "Epoch 21 Training:   0%|          | 0/7539 [00:00<?, ?it/s]\n",
      "Epoch 21 Validation:   0%|          | 0/1885 [00:00<?, ?it/s]\n"
     ]
    },
    {
     "name": "stdout",
     "output_type": "stream",
     "text": [
      "Epoch 21:\n",
      "\tTraining Loss: 0.000118\n",
      "\tValidation Loss: 0.000000\n"
     ]
    },
    {
     "name": "stderr",
     "output_type": "stream",
     "text": [
      "Epoch 22 Training:   0%|          | 0/7539 [00:00<?, ?it/s]\n",
      "Epoch 22 Validation:   0%|          | 0/1885 [00:00<?, ?it/s]\n"
     ]
    },
    {
     "name": "stdout",
     "output_type": "stream",
     "text": [
      "Epoch 22:\n",
      "\tTraining Loss: 0.000075\n",
      "\tValidation Loss: 0.000000\n"
     ]
    },
    {
     "name": "stderr",
     "output_type": "stream",
     "text": [
      "Epoch 23 Training:   0%|          | 0/7539 [00:00<?, ?it/s]\n",
      "Epoch 23 Validation:   0%|          | 0/1885 [00:00<?, ?it/s]\n"
     ]
    },
    {
     "name": "stdout",
     "output_type": "stream",
     "text": [
      "Epoch 23:\n",
      "\tTraining Loss: 0.000093\n",
      "\tValidation Loss: 0.000000\n"
     ]
    },
    {
     "name": "stderr",
     "output_type": "stream",
     "text": [
      "Epoch 24 Training:   0%|          | 0/7539 [00:00<?, ?it/s]\n",
      "Epoch 24 Validation:   0%|          | 0/1885 [00:00<?, ?it/s]\n"
     ]
    },
    {
     "name": "stdout",
     "output_type": "stream",
     "text": [
      "Epoch 24:\n",
      "\tTraining Loss: 0.000066\n",
      "\tValidation Loss: 0.000000\n"
     ]
    },
    {
     "name": "stderr",
     "output_type": "stream",
     "text": [
      "Epoch 25 Training:   0%|          | 0/7539 [00:00<?, ?it/s]\n",
      "Epoch 25 Validation:   0%|          | 0/1885 [00:00<?, ?it/s]\n"
     ]
    },
    {
     "name": "stdout",
     "output_type": "stream",
     "text": [
      "Epoch 25:\n",
      "\tTraining Loss: 0.000168\n",
      "\tValidation Loss: 0.000000\n"
     ]
    },
    {
     "name": "stderr",
     "output_type": "stream",
     "text": [
      "Epoch 26 Training:   0%|          | 0/7539 [00:00<?, ?it/s]\n",
      "Epoch 26 Validation:   0%|          | 0/1885 [00:00<?, ?it/s]\n"
     ]
    },
    {
     "name": "stdout",
     "output_type": "stream",
     "text": [
      "Epoch 26:\n",
      "\tTraining Loss: 0.000066\n",
      "\tValidation Loss: 0.000000\n"
     ]
    },
    {
     "name": "stderr",
     "output_type": "stream",
     "text": [
      "Epoch 27 Training:   0%|          | 0/7539 [00:00<?, ?it/s]\n",
      "Epoch 27 Validation:   0%|          | 0/1885 [00:00<?, ?it/s]\n"
     ]
    },
    {
     "name": "stdout",
     "output_type": "stream",
     "text": [
      "Epoch 27:\n",
      "\tTraining Loss: 0.000074\n",
      "\tValidation Loss: 0.000000\n"
     ]
    },
    {
     "name": "stderr",
     "output_type": "stream",
     "text": [
      "Epoch 28 Training:   0%|          | 0/7539 [00:00<?, ?it/s]\n",
      "Epoch 28 Validation:   0%|          | 0/1885 [00:00<?, ?it/s]\n"
     ]
    },
    {
     "name": "stdout",
     "output_type": "stream",
     "text": [
      "Epoch 28:\n",
      "\tTraining Loss: 0.000069\n",
      "\tValidation Loss: 0.000000\n"
     ]
    },
    {
     "name": "stderr",
     "output_type": "stream",
     "text": [
      "Epoch 29 Training:   0%|          | 0/7539 [00:00<?, ?it/s]\n",
      "Epoch 29 Validation:   0%|          | 0/1885 [00:00<?, ?it/s]\n"
     ]
    },
    {
     "name": "stdout",
     "output_type": "stream",
     "text": [
      "Epoch 29:\n",
      "\tTraining Loss: 0.000103\n",
      "\tValidation Loss: 0.000000\n"
     ]
    },
    {
     "name": "stderr",
     "output_type": "stream",
     "text": [
      "Epoch 30 Training:   0%|          | 0/7539 [00:00<?, ?it/s]\n",
      "Epoch 30 Validation:   0%|          | 0/1885 [00:00<?, ?it/s]\n"
     ]
    },
    {
     "name": "stdout",
     "output_type": "stream",
     "text": [
      "Epoch 30:\n",
      "\tTraining Loss: 0.000066\n",
      "\tValidation Loss: 0.000000\n"
     ]
    },
    {
     "name": "stderr",
     "output_type": "stream",
     "text": [
      "Epoch 31 Training:   0%|          | 0/7539 [00:00<?, ?it/s]\n",
      "Epoch 31 Validation:   0%|          | 0/1885 [00:00<?, ?it/s]\n"
     ]
    },
    {
     "name": "stdout",
     "output_type": "stream",
     "text": [
      "Epoch 31:\n",
      "\tTraining Loss: 0.000081\n",
      "\tValidation Loss: 0.000000\n"
     ]
    },
    {
     "name": "stderr",
     "output_type": "stream",
     "text": [
      "Epoch 32 Training:   0%|          | 0/7539 [00:00<?, ?it/s]\n",
      "Epoch 32 Validation:   0%|          | 0/1885 [00:00<?, ?it/s]\n"
     ]
    },
    {
     "name": "stdout",
     "output_type": "stream",
     "text": [
      "Epoch 32:\n",
      "\tTraining Loss: 0.000088\n",
      "\tValidation Loss: 0.000000\n"
     ]
    },
    {
     "name": "stderr",
     "output_type": "stream",
     "text": [
      "Epoch 33 Training:   0%|          | 0/7539 [00:00<?, ?it/s]\n",
      "Epoch 33 Validation:   0%|          | 0/1885 [00:00<?, ?it/s]\n"
     ]
    },
    {
     "name": "stdout",
     "output_type": "stream",
     "text": [
      "Epoch 33:\n",
      "\tTraining Loss: 0.000169\n",
      "\tValidation Loss: 0.000000\n"
     ]
    },
    {
     "name": "stderr",
     "output_type": "stream",
     "text": [
      "Epoch 34 Training:   0%|          | 0/7539 [00:00<?, ?it/s]\n",
      "Epoch 34 Validation:   0%|          | 0/1885 [00:00<?, ?it/s]\n"
     ]
    },
    {
     "name": "stdout",
     "output_type": "stream",
     "text": [
      "Epoch 34:\n",
      "\tTraining Loss: 0.000081\n",
      "\tValidation Loss: 0.000000\n"
     ]
    },
    {
     "name": "stderr",
     "output_type": "stream",
     "text": [
      "Epoch 35 Training:   0%|          | 0/7539 [00:00<?, ?it/s]\n",
      "Epoch 35 Validation:   0%|          | 0/1885 [00:00<?, ?it/s]\n"
     ]
    },
    {
     "name": "stdout",
     "output_type": "stream",
     "text": [
      "Epoch 35:\n",
      "\tTraining Loss: 0.000062\n",
      "\tValidation Loss: 0.000000\n"
     ]
    },
    {
     "name": "stderr",
     "output_type": "stream",
     "text": [
      "Epoch 36 Training:   0%|          | 0/7539 [00:00<?, ?it/s]\n",
      "Epoch 36 Validation:   0%|          | 0/1885 [00:00<?, ?it/s]\n"
     ]
    },
    {
     "name": "stdout",
     "output_type": "stream",
     "text": [
      "Epoch 36:\n",
      "\tTraining Loss: 0.000081\n",
      "\tValidation Loss: 0.000000\n"
     ]
    },
    {
     "name": "stderr",
     "output_type": "stream",
     "text": [
      "Epoch 37 Training:   0%|          | 0/7539 [00:00<?, ?it/s]\n",
      "Epoch 37 Validation:   0%|          | 0/1885 [00:00<?, ?it/s]\n"
     ]
    },
    {
     "name": "stdout",
     "output_type": "stream",
     "text": [
      "Epoch 37:\n",
      "\tTraining Loss: 0.000207\n",
      "\tValidation Loss: 0.000000\n"
     ]
    },
    {
     "name": "stderr",
     "output_type": "stream",
     "text": [
      "Epoch 38 Training:   0%|          | 0/7539 [00:00<?, ?it/s]\n",
      "Epoch 38 Validation:   0%|          | 0/1885 [00:00<?, ?it/s]\n"
     ]
    },
    {
     "name": "stdout",
     "output_type": "stream",
     "text": [
      "Epoch 38:\n",
      "\tTraining Loss: 0.000067\n",
      "\tValidation Loss: 0.000000\n"
     ]
    },
    {
     "name": "stderr",
     "output_type": "stream",
     "text": [
      "Epoch 39 Training:   0%|          | 0/7539 [00:00<?, ?it/s]\n",
      "Epoch 39 Validation:   0%|          | 0/1885 [00:00<?, ?it/s]\n"
     ]
    },
    {
     "name": "stdout",
     "output_type": "stream",
     "text": [
      "Epoch 39:\n",
      "\tTraining Loss: 0.000126\n",
      "\tValidation Loss: 0.000000\n"
     ]
    },
    {
     "name": "stderr",
     "output_type": "stream",
     "text": [
      "Epoch 40 Training:   0%|          | 0/7539 [00:00<?, ?it/s]\n",
      "Epoch 40 Validation:   0%|          | 0/1885 [00:00<?, ?it/s]\n"
     ]
    },
    {
     "name": "stdout",
     "output_type": "stream",
     "text": [
      "Epoch 40:\n",
      "\tTraining Loss: 0.000058\n",
      "\tValidation Loss: 0.000000\n"
     ]
    },
    {
     "name": "stderr",
     "output_type": "stream",
     "text": [
      "Epoch 41 Training:   0%|          | 0/7539 [00:00<?, ?it/s]\n",
      "Epoch 41 Validation:   0%|          | 0/1885 [00:00<?, ?it/s]\n"
     ]
    },
    {
     "name": "stdout",
     "output_type": "stream",
     "text": [
      "Epoch 41:\n",
      "\tTraining Loss: 0.000067\n",
      "\tValidation Loss: 0.000000\n"
     ]
    },
    {
     "name": "stderr",
     "output_type": "stream",
     "text": [
      "Epoch 42 Training:   0%|          | 0/7539 [00:00<?, ?it/s]\n",
      "Epoch 42 Validation:   0%|          | 0/1885 [00:00<?, ?it/s]\n"
     ]
    },
    {
     "name": "stdout",
     "output_type": "stream",
     "text": [
      "Epoch 42:\n",
      "\tTraining Loss: 0.000143\n",
      "\tValidation Loss: 0.000000\n"
     ]
    },
    {
     "name": "stderr",
     "output_type": "stream",
     "text": [
      "Epoch 43 Training:   0%|          | 0/7539 [00:00<?, ?it/s]\n",
      "Epoch 43 Validation:   0%|          | 0/1885 [00:00<?, ?it/s]\n"
     ]
    },
    {
     "name": "stdout",
     "output_type": "stream",
     "text": [
      "Epoch 43:\n",
      "\tTraining Loss: 0.000069\n",
      "\tValidation Loss: 0.000000\n"
     ]
    },
    {
     "name": "stderr",
     "output_type": "stream",
     "text": [
      "Epoch 44 Training:   0%|          | 0/7539 [00:00<?, ?it/s]\n",
      "Epoch 44 Validation:   0%|          | 0/1885 [00:00<?, ?it/s]\n"
     ]
    },
    {
     "name": "stdout",
     "output_type": "stream",
     "text": [
      "Epoch 44:\n",
      "\tTraining Loss: 0.000051\n",
      "\tValidation Loss: 0.000000\n"
     ]
    },
    {
     "name": "stderr",
     "output_type": "stream",
     "text": [
      "Epoch 45 Training:   0%|          | 0/7539 [00:00<?, ?it/s]\n",
      "Epoch 45 Validation:   0%|          | 0/1885 [00:00<?, ?it/s]\n"
     ]
    },
    {
     "name": "stdout",
     "output_type": "stream",
     "text": [
      "Epoch 45:\n",
      "\tTraining Loss: 0.000065\n",
      "\tValidation Loss: 0.000000\n"
     ]
    },
    {
     "name": "stderr",
     "output_type": "stream",
     "text": [
      "Epoch 46 Training:   0%|          | 0/7539 [00:00<?, ?it/s]\n",
      "Epoch 46 Validation:   0%|          | 0/1885 [00:00<?, ?it/s]\n"
     ]
    },
    {
     "name": "stdout",
     "output_type": "stream",
     "text": [
      "Epoch 46:\n",
      "\tTraining Loss: 0.000056\n",
      "\tValidation Loss: 0.000000\n"
     ]
    },
    {
     "name": "stderr",
     "output_type": "stream",
     "text": [
      "Epoch 47 Training:   0%|          | 0/7539 [00:00<?, ?it/s]\n",
      "Epoch 47 Validation:   0%|          | 0/1885 [00:00<?, ?it/s]\n"
     ]
    },
    {
     "name": "stdout",
     "output_type": "stream",
     "text": [
      "Epoch 47:\n",
      "\tTraining Loss: 0.000089\n",
      "\tValidation Loss: 0.000000\n"
     ]
    },
    {
     "name": "stderr",
     "output_type": "stream",
     "text": [
      "Epoch 48 Training:   0%|          | 0/7539 [00:00<?, ?it/s]\n",
      "Epoch 48 Validation:   0%|          | 0/1885 [00:00<?, ?it/s]\n"
     ]
    },
    {
     "name": "stdout",
     "output_type": "stream",
     "text": [
      "Epoch 48:\n",
      "\tTraining Loss: 0.000119\n",
      "\tValidation Loss: 0.000000\n"
     ]
    },
    {
     "name": "stderr",
     "output_type": "stream",
     "text": [
      "Epoch 49 Training:   0%|          | 0/7539 [00:00<?, ?it/s]\n",
      "Epoch 49 Validation:   0%|          | 0/1885 [00:00<?, ?it/s]\n"
     ]
    },
    {
     "name": "stdout",
     "output_type": "stream",
     "text": [
      "Epoch 49:\n",
      "\tTraining Loss: 0.000068\n",
      "\tValidation Loss: 0.000000\n"
     ]
    },
    {
     "name": "stderr",
     "output_type": "stream",
     "text": [
      "Epoch 50 Training:   0%|          | 0/7539 [00:00<?, ?it/s]\n",
      "Epoch 50 Validation:   0%|          | 0/1885 [00:00<?, ?it/s]"
     ]
    },
    {
     "name": "stdout",
     "output_type": "stream",
     "text": [
      "Epoch 50:\n",
      "\tTraining Loss: 0.000112\n",
      "\tValidation Loss: 0.000000\n"
     ]
    },
    {
     "name": "stderr",
     "output_type": "stream",
     "text": [
      "\n"
     ]
    }
   ],
   "execution_count": 26
  },
  {
   "metadata": {},
   "cell_type": "code",
   "outputs": [],
   "execution_count": null,
   "source": "",
   "id": "737f6a7b91fce572"
  }
 ],
 "metadata": {
  "kernelspec": {
   "display_name": "Python 3",
   "language": "python",
   "name": "python3"
  },
  "language_info": {
   "codemirror_mode": {
    "name": "ipython",
    "version": 2
   },
   "file_extension": ".py",
   "mimetype": "text/x-python",
   "name": "python",
   "nbconvert_exporter": "python",
   "pygments_lexer": "ipython2",
   "version": "2.7.6"
  }
 },
 "nbformat": 4,
 "nbformat_minor": 5
}
