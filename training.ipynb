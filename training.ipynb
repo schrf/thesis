{
 "cells": [
  {
   "cell_type": "code",
   "id": "initial_id",
   "metadata": {
    "collapsed": true,
    "ExecuteTime": {
     "end_time": "2024-05-13T07:53:19.788807Z",
     "start_time": "2024-05-13T07:53:19.766575Z"
    }
   },
   "source": [
    "%load_ext autoreload\n",
    "%autoreload 2\n",
    "\n",
    "import numpy as np\n",
    "import pandas as pd\n",
    "from sklearn.model_selection import train_test_split\n",
    "import torch\n",
    "import torch.nn as nn\n",
    "from src.dataloaders_and_sets.simple_dataset import SimpleDataset\n",
    "from tqdm import tqdm\n",
    "from torch.utils.data import DataLoader\n",
    "import torch.optim as optim\n",
    "from torcheval.metrics.functional import r2_score\n",
    "from torch.optim.lr_scheduler import ExponentialLR\n",
    "import tensorboard\n",
    "from torch.utils.tensorboard import SummaryWriter\n",
    "from datetime import datetime\n",
    "\n"
   ],
   "outputs": [
    {
     "name": "stdout",
     "output_type": "stream",
     "text": [
      "The autoreload extension is already loaded. To reload it, use:\n",
      "  %reload_ext autoreload\n"
     ]
    }
   ],
   "execution_count": 13
  },
  {
   "metadata": {},
   "cell_type": "markdown",
   "source": "# Loading Data and Preprocessing",
   "id": "98043bbe3bb37de3"
  },
  {
   "metadata": {
    "ExecuteTime": {
     "end_time": "2024-05-13T07:41:34.814682Z",
     "start_time": "2024-05-13T07:41:03.502557Z"
    }
   },
   "cell_type": "code",
   "source": "data_with_targets = pd.read_csv('data/data.csv', index_col=0)",
   "id": "f0fc869bc5c0b9a7",
   "outputs": [],
   "execution_count": 2
  },
  {
   "metadata": {
    "ExecuteTime": {
     "end_time": "2024-05-13T07:41:35.283362Z",
     "start_time": "2024-05-13T07:41:34.815601Z"
    }
   },
   "cell_type": "code",
   "source": "data = data_with_targets.fillna(0.0)",
   "id": "6b1bab6cc3ea871f",
   "outputs": [],
   "execution_count": 3
  },
  {
   "metadata": {
    "ExecuteTime": {
     "end_time": "2024-05-13T10:39:14.075984Z",
     "start_time": "2024-05-13T10:39:12.697491Z"
    }
   },
   "cell_type": "code",
   "source": [
    "# remove the possible y labels:\n",
    "y_labels = ['primary_disease', 'gender', 'age', 'dataset']\n",
    "data_columns = [col for col in data.columns if col not in y_labels]\n",
    "y = \"gender\"\n",
    "# TODO: makes no sense when using a autoencoder...\n",
    "X_train, X_test, y_train, y_test = train_test_split(data[data_columns], data[y_labels], train_size=0.8, random_state=42)\n",
    "X_train, X_val, y_train, y_val = train_test_split(X_train, y_train, train_size=0.8, random_state=42)\n",
    "print(X_train.shape, y_train.shape, X_val.shape, y_val.shape, X_test.shape, y_test.shape)"
   ],
   "id": "baa476cf8c63d8f",
   "outputs": [
    {
     "name": "stdout",
     "output_type": "stream",
     "text": [
      "(7539, 17137) (7539, 4) (1885, 17137) (1885, 4) (2356, 17137) (2356, 4)\n"
     ]
    }
   ],
   "execution_count": 54
  },
  {
   "metadata": {
    "ExecuteTime": {
     "end_time": "2024-05-13T07:41:36.580886Z",
     "start_time": "2024-05-13T07:41:36.559702Z"
    }
   },
   "cell_type": "code",
   "source": [
    "# transform dataset for the simple autoencoder\n",
    "\n",
    "transform_fc_ae = {\n",
    "    \"z_score\": \"per_sample\",\n",
    "    \"most_variant\": 5000,\n",
    "}"
   ],
   "id": "f3842da979bd0663",
   "outputs": [],
   "execution_count": 5
  },
  {
   "metadata": {
    "ExecuteTime": {
     "end_time": "2024-05-13T07:41:38.515626Z",
     "start_time": "2024-05-13T07:41:36.581866Z"
    }
   },
   "cell_type": "code",
   "source": [
    "fc_ae_dataset = SimpleDataset(X_train, transform=transform_fc_ae)\n",
    "fc_ae_dataset[0]\n"
   ],
   "id": "4bf0bd6186ef22aa",
   "outputs": [
    {
     "name": "stderr",
     "output_type": "stream",
     "text": [
      "/home/fes/Nextcloud/Uni/B.Sc. Bioinfo/Bachelorarbeit/thesis/src/dataloaders_and_sets/simple_dataset.py:8: FutureWarning: Series.__getitem__ treating keys as positions is deprecated. In a future version, integer keys will always be treated as labels (consistent with DataFrame behavior). To access a value by position, use `ser.iloc[pos]`\n",
      "  return torch.tensor(self.data.iloc[index], dtype=torch.float32)\n"
     ]
    },
    {
     "data": {
      "text/plain": [
       "tensor([-0.9623, -0.0346,  0.1806,  ..., -0.5805,  0.5189,  0.0858])"
      ]
     },
     "execution_count": 6,
     "metadata": {},
     "output_type": "execute_result"
    }
   ],
   "execution_count": 6
  },
  {
   "metadata": {
    "ExecuteTime": {
     "end_time": "2024-05-13T07:41:39.842726Z",
     "start_time": "2024-05-13T07:41:38.516733Z"
    }
   },
   "cell_type": "code",
   "source": [
    "# config\n",
    "device = torch.device(\"cuda\" if torch.cuda.is_available() else \"cpu\")\n",
    "print(\"{} is used\".format(device))"
   ],
   "id": "f65f7c5de66e595f",
   "outputs": [
    {
     "name": "stdout",
     "output_type": "stream",
     "text": [
      "cuda is used\n"
     ]
    }
   ],
   "execution_count": 7
  },
  {
   "metadata": {},
   "cell_type": "markdown",
   "source": "# Setup Tensorboard",
   "id": "799aed9d1eef3b47"
  },
  {
   "metadata": {
    "ExecuteTime": {
     "end_time": "2024-05-13T07:41:39.864427Z",
     "start_time": "2024-05-13T07:41:39.843544Z"
    }
   },
   "cell_type": "code",
   "source": "writer = SummaryWriter(\"logs/autoencoder\")\n",
   "id": "846263839add2d82",
   "outputs": [],
   "execution_count": 8
  },
  {
   "metadata": {
    "ExecuteTime": {
     "end_time": "2024-05-13T07:41:39.885668Z",
     "start_time": "2024-05-13T07:41:39.865295Z"
    }
   },
   "cell_type": "code",
   "source": [
    "input_dim = len(fc_ae_dataset[0])\n",
    "hidden_one_dim = 512\n",
    "hidden_two_dim = 128\n",
    "z_dim = 64\n",
    "\n",
    "num_epochs = 50\n",
    "batch_size = 512\n",
    "learning_rate = 3e-3\n",
    "beta = 0.1\n",
    "print(input_dim)"
   ],
   "id": "bc03513e838236c5",
   "outputs": [
    {
     "name": "stdout",
     "output_type": "stream",
     "text": [
      "5000\n"
     ]
    }
   ],
   "execution_count": 9
  },
  {
   "metadata": {},
   "cell_type": "markdown",
   "source": "run `tensorboard --logdir=./`",
   "id": "5bd19b620626eeaa"
  },
  {
   "metadata": {},
   "cell_type": "markdown",
   "source": "# Training",
   "id": "69de9d148b77cd90"
  },
  {
   "metadata": {
    "ExecuteTime": {
     "end_time": "2024-05-12T17:22:52.615276Z",
     "start_time": "2024-05-12T17:22:50.663706Z"
    }
   },
   "cell_type": "code",
   "source": [
    "# dataset loading\n",
    "from src.models.fc import VAE\n",
    "\n",
    "train_dataset = SimpleDataset(X_train, transform=transform_fc_ae)\n",
    "train_dataloader = DataLoader(train_dataset, batch_size=batch_size, shuffle=True)\n",
    "val_dataset = SimpleDataset(X_val, transform=transform_fc_ae)\n",
    "val_dataloader = DataLoader(val_dataset, batch_size=batch_size, shuffle=True)\n",
    "model = VAE(input_size=input_dim, hidden_one_size=hidden_one_dim, hidden_two_size=hidden_two_dim, z_size=z_dim).to(device)\n",
    "\n",
    "optimizer = optim.Adam(model.parameters(), lr=learning_rate)\n",
    "scheduler = ExponentialLR(optimizer, gamma=0.95)\n",
    "\n",
    "def loss_mse(truth, pred):\n",
    "    return ((truth - pred)**2).sum()\n",
    "def loss_kl(mu, sigma):\n",
    "    return (sigma**2 + mu**2 - torch.log(sigma) - 1/2).sum()"
   ],
   "id": "7061d83250cc2bcf",
   "outputs": [],
   "execution_count": 80
  },
  {
   "metadata": {
    "ExecuteTime": {
     "end_time": "2024-05-12T15:49:36.884044Z",
     "start_time": "2024-05-12T15:49:36.830325Z"
    }
   },
   "cell_type": "code",
   "source": [
    "model.eval()\n",
    "writer.add_graph(model, train_dataset[0].to(device))\n",
    "writer.close()"
   ],
   "id": "330b910b20b7d493",
   "outputs": [
    {
     "name": "stderr",
     "output_type": "stream",
     "text": [
      "/home/fes/Nextcloud/Uni/B.Sc. Bioinfo/Bachelorarbeit/thesis/src/dataloaders_and_sets/simple_dataset.py:8: FutureWarning: Series.__getitem__ treating keys as positions is deprecated. In a future version, integer keys will always be treated as labels (consistent with DataFrame behavior). To access a value by position, use `ser.iloc[pos]`\n",
      "  return torch.tensor(self.data.iloc[index], dtype=torch.float32)\n",
      "/home/fes/anaconda3/envs/Helmholtz/lib/python3.11/site-packages/torch/jit/_trace.py:1116: TracerWarning: Trace had nondeterministic nodes. Did you forget call .eval() on your model? Nodes:\n",
      "\t%60 : Float(64, strides=[1], requires_grad=0, device=cuda:0) = aten::normal(%53, %58, %59) # /home/fes/anaconda3/envs/Helmholtz/lib/python3.11/site-packages/torch/distributions/normal.py:70:0\n",
      "This may cause errors in trace checking. To disable trace checking, pass check_trace=False to torch.jit.trace()\n",
      "  _check_trace(\n",
      "/home/fes/anaconda3/envs/Helmholtz/lib/python3.11/site-packages/torch/jit/_trace.py:1116: TracerWarning: Output nr 1. of the traced function does not match the corresponding output of the Python function. Detailed error:\n",
      "Tensor-likes are not close!\n",
      "\n",
      "Mismatched elements: 5000 / 5000 (100.0%)\n",
      "Greatest absolute difference: 0.3667578101158142 at index (3612,) (up to 1e-05 allowed)\n",
      "Greatest relative difference: 1992.4987189148455 at index (3597,) (up to 1e-05 allowed)\n",
      "  _check_trace(\n"
     ]
    }
   ],
   "execution_count": 17
  },
  {
   "metadata": {
    "ExecuteTime": {
     "end_time": "2024-05-12T07:22:12.213989Z",
     "start_time": "2024-05-12T07:21:55.687621Z"
    }
   },
   "cell_type": "code",
   "source": [
    "for epoch in range(num_epochs):\n",
    "    train_loss = 0.0\n",
    "    val_loss = 0.0\n",
    "    number_train_batches = 0\n",
    "    number_val_batches = 0\n",
    "    \n",
    "    # Training loop\n",
    "    model.train()\n",
    "    for batch_idx, batch in enumerate(tqdm(train_dataloader, desc=f\"Epoch {epoch+1} Training\")):\n",
    "        batch = batch.to(device)\n",
    "        optimizer.zero_grad()\n",
    "        recon_batch, mu, sigma = model(batch)\n",
    "\n",
    "        # Compute training loss\n",
    "        single_loss_mse = loss_mse(batch, recon_batch)\n",
    "        single_loss_kl = loss_kl(mu, sigma)\n",
    "        # print(\"MSE: {}, KL: {}\".format(single_loss_mse, single_loss_kl))\n",
    "        loss = single_loss_mse + beta * single_loss_kl\n",
    "        loss.backward()\n",
    "        optimizer.step()\n",
    "\n",
    "        train_loss += loss.item()\n",
    "        \n",
    "        number_train_batches += 1\n",
    "\n",
    "    scheduler.step()\n",
    "\n",
    "\n",
    "    # Validation loop\n",
    "    model.eval()\n",
    "    with torch.no_grad():\n",
    "        for batch_idx, batch in enumerate(tqdm(train_dataloader, desc=f\"Epoch {epoch+1} Validation\")):\n",
    "            batch = batch.to(device)\n",
    "            reconstructed, _, _ = model(batch)\n",
    "            loss = r2_score(reconstructed, batch)\n",
    "            #print(loss.item())\n",
    "            #print(reconstructed - batch)\n",
    "            val_loss += loss.item()\n",
    "            \n",
    "\n",
    "    # Calculate average losses\n",
    "    avg_train_loss = train_loss / len(train_dataloader.dataset)\n",
    "    avg_val_loss = val_loss / len(train_dataloader.dataset)\n",
    "\n",
    "    # Output average losses for the epoch\n",
    "    print(f\"Epoch {epoch+1}:\")\n",
    "    print(f\"\\tTraining Loss: {avg_train_loss:.6f}\")\n",
    "    print(f\"\\tValidation Loss: {avg_val_loss:.6f}\")\n"
   ],
   "id": "e58a119fd94e38c7",
   "outputs": [
    {
     "name": "stderr",
     "output_type": "stream",
     "text": [
      "Epoch 1 Training:   0%|          | 0/15 [00:00<?, ?it/s]/home/fes/Nextcloud/Uni/B.Sc. Bioinfo/Bachelorarbeit/thesis/src/dataloaders_and_sets/simple_dataset.py:8: FutureWarning: Series.__getitem__ treating keys as positions is deprecated. In a future version, integer keys will always be treated as labels (consistent with DataFrame behavior). To access a value by position, use `ser.iloc[pos]`\n",
      "  return torch.tensor(self.data.iloc[index], dtype=torch.float32)\n",
      "Epoch 1 Training: 100%|██████████| 15/15 [00:06<00:00,  2.46it/s]\n",
      "Epoch 1 Validation: 100%|██████████| 15/15 [00:05<00:00,  2.64it/s]\n"
     ]
    },
    {
     "name": "stdout",
     "output_type": "stream",
     "text": [
      "Epoch 1:\n",
      "\tTraining Loss: nan\n",
      "\tValidation Loss: nan\n"
     ]
    },
    {
     "name": "stderr",
     "output_type": "stream",
     "text": [
      "Epoch 2 Training:  40%|████      | 6/15 [00:02<00:04,  2.23it/s]\n"
     ]
    },
    {
     "ename": "KeyboardInterrupt",
     "evalue": "",
     "output_type": "error",
     "traceback": [
      "\u001B[0;31m---------------------------------------------------------------------------\u001B[0m",
      "\u001B[0;31mKeyboardInterrupt\u001B[0m                         Traceback (most recent call last)",
      "Cell \u001B[0;32mIn[13], line 9\u001B[0m\n\u001B[1;32m      7\u001B[0m \u001B[38;5;66;03m# Training loop\u001B[39;00m\n\u001B[1;32m      8\u001B[0m model\u001B[38;5;241m.\u001B[39mtrain()\n\u001B[0;32m----> 9\u001B[0m \u001B[38;5;28;01mfor\u001B[39;00m batch_idx, batch \u001B[38;5;129;01min\u001B[39;00m \u001B[38;5;28menumerate\u001B[39m(tqdm(train_dataloader, desc\u001B[38;5;241m=\u001B[39m\u001B[38;5;124mf\u001B[39m\u001B[38;5;124m\"\u001B[39m\u001B[38;5;124mEpoch \u001B[39m\u001B[38;5;132;01m{\u001B[39;00mepoch\u001B[38;5;241m+\u001B[39m\u001B[38;5;241m1\u001B[39m\u001B[38;5;132;01m}\u001B[39;00m\u001B[38;5;124m Training\u001B[39m\u001B[38;5;124m\"\u001B[39m)):\n\u001B[1;32m     10\u001B[0m     batch \u001B[38;5;241m=\u001B[39m batch\u001B[38;5;241m.\u001B[39mto(device)\n\u001B[1;32m     11\u001B[0m     optimizer\u001B[38;5;241m.\u001B[39mzero_grad()\n",
      "File \u001B[0;32m~/anaconda3/envs/Helmholtz/lib/python3.11/site-packages/tqdm/std.py:1181\u001B[0m, in \u001B[0;36mtqdm.__iter__\u001B[0;34m(self)\u001B[0m\n\u001B[1;32m   1178\u001B[0m time \u001B[38;5;241m=\u001B[39m \u001B[38;5;28mself\u001B[39m\u001B[38;5;241m.\u001B[39m_time\n\u001B[1;32m   1180\u001B[0m \u001B[38;5;28;01mtry\u001B[39;00m:\n\u001B[0;32m-> 1181\u001B[0m     \u001B[38;5;28;01mfor\u001B[39;00m obj \u001B[38;5;129;01min\u001B[39;00m iterable:\n\u001B[1;32m   1182\u001B[0m         \u001B[38;5;28;01myield\u001B[39;00m obj\n\u001B[1;32m   1183\u001B[0m         \u001B[38;5;66;03m# Update and possibly print the progressbar.\u001B[39;00m\n\u001B[1;32m   1184\u001B[0m         \u001B[38;5;66;03m# Note: does not call self.update(1) for speed optimisation.\u001B[39;00m\n",
      "File \u001B[0;32m~/anaconda3/envs/Helmholtz/lib/python3.11/site-packages/torch/utils/data/dataloader.py:631\u001B[0m, in \u001B[0;36m_BaseDataLoaderIter.__next__\u001B[0;34m(self)\u001B[0m\n\u001B[1;32m    628\u001B[0m \u001B[38;5;28;01mif\u001B[39;00m \u001B[38;5;28mself\u001B[39m\u001B[38;5;241m.\u001B[39m_sampler_iter \u001B[38;5;129;01mis\u001B[39;00m \u001B[38;5;28;01mNone\u001B[39;00m:\n\u001B[1;32m    629\u001B[0m     \u001B[38;5;66;03m# TODO(https://github.com/pytorch/pytorch/issues/76750)\u001B[39;00m\n\u001B[1;32m    630\u001B[0m     \u001B[38;5;28mself\u001B[39m\u001B[38;5;241m.\u001B[39m_reset()  \u001B[38;5;66;03m# type: ignore[call-arg]\u001B[39;00m\n\u001B[0;32m--> 631\u001B[0m data \u001B[38;5;241m=\u001B[39m \u001B[38;5;28mself\u001B[39m\u001B[38;5;241m.\u001B[39m_next_data()\n\u001B[1;32m    632\u001B[0m \u001B[38;5;28mself\u001B[39m\u001B[38;5;241m.\u001B[39m_num_yielded \u001B[38;5;241m+\u001B[39m\u001B[38;5;241m=\u001B[39m \u001B[38;5;241m1\u001B[39m\n\u001B[1;32m    633\u001B[0m \u001B[38;5;28;01mif\u001B[39;00m \u001B[38;5;28mself\u001B[39m\u001B[38;5;241m.\u001B[39m_dataset_kind \u001B[38;5;241m==\u001B[39m _DatasetKind\u001B[38;5;241m.\u001B[39mIterable \u001B[38;5;129;01mand\u001B[39;00m \\\n\u001B[1;32m    634\u001B[0m         \u001B[38;5;28mself\u001B[39m\u001B[38;5;241m.\u001B[39m_IterableDataset_len_called \u001B[38;5;129;01mis\u001B[39;00m \u001B[38;5;129;01mnot\u001B[39;00m \u001B[38;5;28;01mNone\u001B[39;00m \u001B[38;5;129;01mand\u001B[39;00m \\\n\u001B[1;32m    635\u001B[0m         \u001B[38;5;28mself\u001B[39m\u001B[38;5;241m.\u001B[39m_num_yielded \u001B[38;5;241m>\u001B[39m \u001B[38;5;28mself\u001B[39m\u001B[38;5;241m.\u001B[39m_IterableDataset_len_called:\n",
      "File \u001B[0;32m~/anaconda3/envs/Helmholtz/lib/python3.11/site-packages/torch/utils/data/dataloader.py:675\u001B[0m, in \u001B[0;36m_SingleProcessDataLoaderIter._next_data\u001B[0;34m(self)\u001B[0m\n\u001B[1;32m    673\u001B[0m \u001B[38;5;28;01mdef\u001B[39;00m \u001B[38;5;21m_next_data\u001B[39m(\u001B[38;5;28mself\u001B[39m):\n\u001B[1;32m    674\u001B[0m     index \u001B[38;5;241m=\u001B[39m \u001B[38;5;28mself\u001B[39m\u001B[38;5;241m.\u001B[39m_next_index()  \u001B[38;5;66;03m# may raise StopIteration\u001B[39;00m\n\u001B[0;32m--> 675\u001B[0m     data \u001B[38;5;241m=\u001B[39m \u001B[38;5;28mself\u001B[39m\u001B[38;5;241m.\u001B[39m_dataset_fetcher\u001B[38;5;241m.\u001B[39mfetch(index)  \u001B[38;5;66;03m# may raise StopIteration\u001B[39;00m\n\u001B[1;32m    676\u001B[0m     \u001B[38;5;28;01mif\u001B[39;00m \u001B[38;5;28mself\u001B[39m\u001B[38;5;241m.\u001B[39m_pin_memory:\n\u001B[1;32m    677\u001B[0m         data \u001B[38;5;241m=\u001B[39m _utils\u001B[38;5;241m.\u001B[39mpin_memory\u001B[38;5;241m.\u001B[39mpin_memory(data, \u001B[38;5;28mself\u001B[39m\u001B[38;5;241m.\u001B[39m_pin_memory_device)\n",
      "File \u001B[0;32m~/anaconda3/envs/Helmholtz/lib/python3.11/site-packages/torch/utils/data/_utils/fetch.py:51\u001B[0m, in \u001B[0;36m_MapDatasetFetcher.fetch\u001B[0;34m(self, possibly_batched_index)\u001B[0m\n\u001B[1;32m     49\u001B[0m         data \u001B[38;5;241m=\u001B[39m \u001B[38;5;28mself\u001B[39m\u001B[38;5;241m.\u001B[39mdataset\u001B[38;5;241m.\u001B[39m__getitems__(possibly_batched_index)\n\u001B[1;32m     50\u001B[0m     \u001B[38;5;28;01melse\u001B[39;00m:\n\u001B[0;32m---> 51\u001B[0m         data \u001B[38;5;241m=\u001B[39m [\u001B[38;5;28mself\u001B[39m\u001B[38;5;241m.\u001B[39mdataset[idx] \u001B[38;5;28;01mfor\u001B[39;00m idx \u001B[38;5;129;01min\u001B[39;00m possibly_batched_index]\n\u001B[1;32m     52\u001B[0m \u001B[38;5;28;01melse\u001B[39;00m:\n\u001B[1;32m     53\u001B[0m     data \u001B[38;5;241m=\u001B[39m \u001B[38;5;28mself\u001B[39m\u001B[38;5;241m.\u001B[39mdataset[possibly_batched_index]\n",
      "File \u001B[0;32m~/anaconda3/envs/Helmholtz/lib/python3.11/site-packages/torch/utils/data/_utils/fetch.py:51\u001B[0m, in \u001B[0;36m<listcomp>\u001B[0;34m(.0)\u001B[0m\n\u001B[1;32m     49\u001B[0m         data \u001B[38;5;241m=\u001B[39m \u001B[38;5;28mself\u001B[39m\u001B[38;5;241m.\u001B[39mdataset\u001B[38;5;241m.\u001B[39m__getitems__(possibly_batched_index)\n\u001B[1;32m     50\u001B[0m     \u001B[38;5;28;01melse\u001B[39;00m:\n\u001B[0;32m---> 51\u001B[0m         data \u001B[38;5;241m=\u001B[39m [\u001B[38;5;28mself\u001B[39m\u001B[38;5;241m.\u001B[39mdataset[idx] \u001B[38;5;28;01mfor\u001B[39;00m idx \u001B[38;5;129;01min\u001B[39;00m possibly_batched_index]\n\u001B[1;32m     52\u001B[0m \u001B[38;5;28;01melse\u001B[39;00m:\n\u001B[1;32m     53\u001B[0m     data \u001B[38;5;241m=\u001B[39m \u001B[38;5;28mself\u001B[39m\u001B[38;5;241m.\u001B[39mdataset[possibly_batched_index]\n",
      "File \u001B[0;32m~/Nextcloud/Uni/B.Sc. Bioinfo/Bachelorarbeit/thesis/src/dataloaders_and_sets/simple_dataset.py:8\u001B[0m, in \u001B[0;36mSimpleDataset.__getitem__\u001B[0;34m(self, index)\u001B[0m\n\u001B[1;32m      7\u001B[0m \u001B[38;5;28;01mdef\u001B[39;00m \u001B[38;5;21m__getitem__\u001B[39m(\u001B[38;5;28mself\u001B[39m, index):\n\u001B[0;32m----> 8\u001B[0m     \u001B[38;5;28;01mreturn\u001B[39;00m torch\u001B[38;5;241m.\u001B[39mtensor(\u001B[38;5;28mself\u001B[39m\u001B[38;5;241m.\u001B[39mdata\u001B[38;5;241m.\u001B[39miloc[index], dtype\u001B[38;5;241m=\u001B[39mtorch\u001B[38;5;241m.\u001B[39mfloat32)\n",
      "\u001B[0;31mKeyboardInterrupt\u001B[0m: "
     ]
    }
   ],
   "execution_count": 13
  },
  {
   "metadata": {},
   "cell_type": "markdown",
   "source": "## Simple autoencoder",
   "id": "7b40029e6c041f77"
  },
  {
   "metadata": {
    "ExecuteTime": {
     "end_time": "2024-05-13T09:21:24.324999Z",
     "start_time": "2024-05-13T09:21:21.867037Z"
    }
   },
   "cell_type": "code",
   "source": [
    "from src.models.fc import AE\n",
    "\n",
    "batch_size = 512\n",
    "learning_rate = 6e-4\n",
    "num_epochs = 200\n",
    "\n",
    "hidden_one_dim = 512\n",
    "hidden_two_dim = 128\n",
    "z_dim = 64\n",
    "\n",
    "\n",
    "ae_dataset = SimpleDataset(X_train, transform=transform_fc_ae)\n",
    "ae_dataloader = DataLoader(ae_dataset, batch_size=batch_size, shuffle=False, num_workers=0)\n",
    "ae = AE(input_size=input_dim, hidden_one_size=hidden_one_dim, hidden_two_size=hidden_two_dim, z_size=z_dim).to(device)\n",
    "optimizer = optim.Adam(ae.parameters(), lr=learning_rate)\n",
    "scheduler = ExponentialLR(optimizer, gamma=0.992)\n",
    "loss_mse = nn.MSELoss()\n",
    "\n",
    "ae_val_dataset = SimpleDataset(X_val, transform=transform_fc_ae)\n",
    "ae_val_dataloader = DataLoader(ae_val_dataset, batch_size=batch_size, shuffle=True)\n"
   ],
   "id": "737f6a7b91fce572",
   "outputs": [],
   "execution_count": 52
  },
  {
   "metadata": {
    "ExecuteTime": {
     "end_time": "2024-05-13T10:53:04.322608Z",
     "start_time": "2024-05-13T10:53:04.260Z"
    }
   },
   "cell_type": "code",
   "source": [
    "ae.eval()\n",
    "writer.add_graph(ae, ae_dataset[0].to(device))\n",
    "writer.close()\n"
   ],
   "id": "3e7fb58a658bb3e1",
   "outputs": [
    {
     "name": "stderr",
     "output_type": "stream",
     "text": [
      "/home/fes/Nextcloud/Uni/B.Sc. Bioinfo/Bachelorarbeit/thesis/src/dataloaders_and_sets/simple_dataset.py:8: FutureWarning: Series.__getitem__ treating keys as positions is deprecated. In a future version, integer keys will always be treated as labels (consistent with DataFrame behavior). To access a value by position, use `ser.iloc[pos]`\n",
      "  return torch.tensor(self.data.iloc[index], dtype=torch.float32)\n"
     ]
    }
   ],
   "execution_count": 55
  },
  {
   "metadata": {
    "ExecuteTime": {
     "end_time": "2024-05-13T08:07:56.204286Z",
     "start_time": "2024-05-13T08:07:55.646035Z"
    }
   },
   "cell_type": "code",
   "source": [
    "counter = 0\n",
    "for epoch in range(10):\n",
    "    for iter, batch in enumerate(ae_dataloader):\n",
    "        print(f\"counter: {counter}, batch: {batch}\")\n",
    "        counter += 1 \n",
    "        break"
   ],
   "id": "6d240625bbc5e848",
   "outputs": [
    {
     "name": "stderr",
     "output_type": "stream",
     "text": [
      "/home/fes/Nextcloud/Uni/B.Sc. Bioinfo/Bachelorarbeit/thesis/src/dataloaders_and_sets/simple_dataset.py:8: FutureWarning: Series.__getitem__ treating keys as positions is deprecated. In a future version, integer keys will always be treated as labels (consistent with DataFrame behavior). To access a value by position, use `ser.iloc[pos]`\n",
      "  return torch.tensor(self.data.iloc[index], dtype=torch.float32)\n"
     ]
    },
    {
     "name": "stdout",
     "output_type": "stream",
     "text": [
      "counter: 0, batch: tensor([[-0.9623, -0.0346,  0.1806,  ..., -0.5805,  0.5189,  0.0858],\n",
      "        [-1.1006,  0.6535,  0.3943,  ..., -1.6190, -1.2263,  0.0644],\n",
      "        [-0.9457, -0.8053, -0.7376,  ..., -1.4371, -1.7079, -0.5195],\n",
      "        ...,\n",
      "        [ 0.0326,  0.0624, -0.9356,  ..., -1.6549, -1.0750,  0.1570],\n",
      "        [-0.9285, -0.6192, -1.2086,  ..., -1.6032, -1.6032, -0.2125],\n",
      "        [-1.1774,  2.9026,  2.7290,  ..., -0.7105, -1.5929, -0.1824]])\n",
      "counter: 1, batch: tensor([[-0.9623, -0.0346,  0.1806,  ..., -0.5805,  0.5189,  0.0858],\n",
      "        [-1.1006,  0.6535,  0.3943,  ..., -1.6190, -1.2263,  0.0644],\n",
      "        [-0.9457, -0.8053, -0.7376,  ..., -1.4371, -1.7079, -0.5195],\n",
      "        ...,\n",
      "        [ 0.0326,  0.0624, -0.9356,  ..., -1.6549, -1.0750,  0.1570],\n",
      "        [-0.9285, -0.6192, -1.2086,  ..., -1.6032, -1.6032, -0.2125],\n",
      "        [-1.1774,  2.9026,  2.7290,  ..., -0.7105, -1.5929, -0.1824]])\n",
      "counter: 2, batch: tensor([[-0.9623, -0.0346,  0.1806,  ..., -0.5805,  0.5189,  0.0858],\n",
      "        [-1.1006,  0.6535,  0.3943,  ..., -1.6190, -1.2263,  0.0644],\n",
      "        [-0.9457, -0.8053, -0.7376,  ..., -1.4371, -1.7079, -0.5195],\n",
      "        ...,\n",
      "        [ 0.0326,  0.0624, -0.9356,  ..., -1.6549, -1.0750,  0.1570],\n",
      "        [-0.9285, -0.6192, -1.2086,  ..., -1.6032, -1.6032, -0.2125],\n",
      "        [-1.1774,  2.9026,  2.7290,  ..., -0.7105, -1.5929, -0.1824]])\n",
      "counter: 3, batch: tensor([[-0.9623, -0.0346,  0.1806,  ..., -0.5805,  0.5189,  0.0858],\n",
      "        [-1.1006,  0.6535,  0.3943,  ..., -1.6190, -1.2263,  0.0644],\n",
      "        [-0.9457, -0.8053, -0.7376,  ..., -1.4371, -1.7079, -0.5195],\n",
      "        ...,\n",
      "        [ 0.0326,  0.0624, -0.9356,  ..., -1.6549, -1.0750,  0.1570],\n",
      "        [-0.9285, -0.6192, -1.2086,  ..., -1.6032, -1.6032, -0.2125],\n",
      "        [-1.1774,  2.9026,  2.7290,  ..., -0.7105, -1.5929, -0.1824]])\n",
      "counter: 4, batch: tensor([[-0.9623, -0.0346,  0.1806,  ..., -0.5805,  0.5189,  0.0858],\n",
      "        [-1.1006,  0.6535,  0.3943,  ..., -1.6190, -1.2263,  0.0644],\n",
      "        [-0.9457, -0.8053, -0.7376,  ..., -1.4371, -1.7079, -0.5195],\n",
      "        ...,\n",
      "        [ 0.0326,  0.0624, -0.9356,  ..., -1.6549, -1.0750,  0.1570],\n",
      "        [-0.9285, -0.6192, -1.2086,  ..., -1.6032, -1.6032, -0.2125],\n",
      "        [-1.1774,  2.9026,  2.7290,  ..., -0.7105, -1.5929, -0.1824]])\n",
      "counter: 5, batch: tensor([[-0.9623, -0.0346,  0.1806,  ..., -0.5805,  0.5189,  0.0858],\n",
      "        [-1.1006,  0.6535,  0.3943,  ..., -1.6190, -1.2263,  0.0644],\n",
      "        [-0.9457, -0.8053, -0.7376,  ..., -1.4371, -1.7079, -0.5195],\n",
      "        ...,\n",
      "        [ 0.0326,  0.0624, -0.9356,  ..., -1.6549, -1.0750,  0.1570],\n",
      "        [-0.9285, -0.6192, -1.2086,  ..., -1.6032, -1.6032, -0.2125],\n",
      "        [-1.1774,  2.9026,  2.7290,  ..., -0.7105, -1.5929, -0.1824]])\n",
      "counter: 6, batch: tensor([[-0.9623, -0.0346,  0.1806,  ..., -0.5805,  0.5189,  0.0858],\n",
      "        [-1.1006,  0.6535,  0.3943,  ..., -1.6190, -1.2263,  0.0644],\n",
      "        [-0.9457, -0.8053, -0.7376,  ..., -1.4371, -1.7079, -0.5195],\n",
      "        ...,\n",
      "        [ 0.0326,  0.0624, -0.9356,  ..., -1.6549, -1.0750,  0.1570],\n",
      "        [-0.9285, -0.6192, -1.2086,  ..., -1.6032, -1.6032, -0.2125],\n",
      "        [-1.1774,  2.9026,  2.7290,  ..., -0.7105, -1.5929, -0.1824]])\n",
      "counter: 7, batch: tensor([[-0.9623, -0.0346,  0.1806,  ..., -0.5805,  0.5189,  0.0858],\n",
      "        [-1.1006,  0.6535,  0.3943,  ..., -1.6190, -1.2263,  0.0644],\n",
      "        [-0.9457, -0.8053, -0.7376,  ..., -1.4371, -1.7079, -0.5195],\n",
      "        ...,\n",
      "        [ 0.0326,  0.0624, -0.9356,  ..., -1.6549, -1.0750,  0.1570],\n",
      "        [-0.9285, -0.6192, -1.2086,  ..., -1.6032, -1.6032, -0.2125],\n",
      "        [-1.1774,  2.9026,  2.7290,  ..., -0.7105, -1.5929, -0.1824]])\n",
      "counter: 8, batch: tensor([[-0.9623, -0.0346,  0.1806,  ..., -0.5805,  0.5189,  0.0858],\n",
      "        [-1.1006,  0.6535,  0.3943,  ..., -1.6190, -1.2263,  0.0644],\n",
      "        [-0.9457, -0.8053, -0.7376,  ..., -1.4371, -1.7079, -0.5195],\n",
      "        ...,\n",
      "        [ 0.0326,  0.0624, -0.9356,  ..., -1.6549, -1.0750,  0.1570],\n",
      "        [-0.9285, -0.6192, -1.2086,  ..., -1.6032, -1.6032, -0.2125],\n",
      "        [-1.1774,  2.9026,  2.7290,  ..., -0.7105, -1.5929, -0.1824]])\n",
      "counter: 9, batch: tensor([[-0.9623, -0.0346,  0.1806,  ..., -0.5805,  0.5189,  0.0858],\n",
      "        [-1.1006,  0.6535,  0.3943,  ..., -1.6190, -1.2263,  0.0644],\n",
      "        [-0.9457, -0.8053, -0.7376,  ..., -1.4371, -1.7079, -0.5195],\n",
      "        ...,\n",
      "        [ 0.0326,  0.0624, -0.9356,  ..., -1.6549, -1.0750,  0.1570],\n",
      "        [-0.9285, -0.6192, -1.2086,  ..., -1.6032, -1.6032, -0.2125],\n",
      "        [-1.1774,  2.9026,  2.7290,  ..., -0.7105, -1.5929, -0.1824]])\n"
     ]
    }
   ],
   "execution_count": 33
  },
  {
   "metadata": {
    "ExecuteTime": {
     "end_time": "2024-05-13T08:07:57.027712Z",
     "start_time": "2024-05-13T08:07:56.953984Z"
    }
   },
   "cell_type": "code",
   "source": [
    "for i, item in enumerate(ae_dataloader):\n",
    "    print('Batch {}'.format(i))\n",
    "    print(item)\n",
    "    print(\"length: {}\".format(len(item)))\n",
    "    if i+1 >= 1:\n",
    "        break"
   ],
   "id": "5e7e79ffda69effb",
   "outputs": [
    {
     "name": "stdout",
     "output_type": "stream",
     "text": [
      "Batch 0\n",
      "tensor([[-0.9623, -0.0346,  0.1806,  ..., -0.5805,  0.5189,  0.0858],\n",
      "        [-1.1006,  0.6535,  0.3943,  ..., -1.6190, -1.2263,  0.0644],\n",
      "        [-0.9457, -0.8053, -0.7376,  ..., -1.4371, -1.7079, -0.5195],\n",
      "        ...,\n",
      "        [ 0.0326,  0.0624, -0.9356,  ..., -1.6549, -1.0750,  0.1570],\n",
      "        [-0.9285, -0.6192, -1.2086,  ..., -1.6032, -1.6032, -0.2125],\n",
      "        [-1.1774,  2.9026,  2.7290,  ..., -0.7105, -1.5929, -0.1824]])\n",
      "length: 128\n"
     ]
    }
   ],
   "execution_count": 34
  },
  {
   "metadata": {
    "ExecuteTime": {
     "end_time": "2024-05-13T09:35:20.377287Z",
     "start_time": "2024-05-13T09:21:26.742129Z"
    }
   },
   "cell_type": "code",
   "source": [
    "# tensorboard logging\n",
    "log_dir = \"\" + datetime.now().strftime(\"%Y%m%d-%H%M%S\")\n",
    "additional_comment = \"just for checking what happens if\"\n",
    "writer = SummaryWriter(f\"logs/autoencoder/{log_dir}\", comment=f\"Architecture=({input_dim}-{hidden_one_dim}-{hidden_two_dim}-{z_dim}), learning_rate={learning_rate}, beta={beta}, batch_size={batch_size}, number epochs={num_epochs}\" + additional_comment)\n",
    "\n",
    "# training loop\n",
    "for epoch in range(num_epochs):\n",
    "    \n",
    "    ae.train()\n",
    "        \n",
    "    for train_iteration, batch in enumerate(tqdm(ae_dataloader, desc=\"Training epoch {}\".format(epoch+1))):\n",
    "        batch = batch.to(device)\n",
    "        x_reconstructed = ae(batch)\n",
    "        loss = loss_mse(batch, x_reconstructed)\n",
    "        optimizer.zero_grad()\n",
    "        loss.backward()\n",
    "        optimizer.step()\n",
    "        writer.add_scalar(\"ae train loss\", loss.item(), epoch * len(ae_dataloader) + train_iteration)\n",
    "        score = r2_score(x_reconstructed, batch).item()\n",
    "        writer.add_scalar(\"ae R2 Score\", score, epoch * len(ae_dataloader) + train_iteration)\n",
    "    \n",
    "    scheduler.step()\n",
    "\n",
    "    ae.eval()\n",
    "    with torch.no_grad():\n",
    "        for val_iteration, batch in enumerate(tqdm(ae_val_dataloader, desc=\"Validation epoch {}\".format(epoch+1))):\n",
    "            batch = batch.to(device)\n",
    "\n",
    "            x_reconstructed = ae(batch)\n",
    "\n",
    "            score = r2_score(x_reconstructed, batch).item()\n",
    "\n",
    "            writer.add_scalar(\"ae validation R2Score\", score, epoch * len(ae_val_dataloader) + val_iteration)\n",
    "\n",
    "    \n",
    "        \n",
    "        "
   ],
   "id": "4834e4d8df514088",
   "outputs": [
    {
     "name": "stderr",
     "output_type": "stream",
     "text": [
      "Training epoch 1:   0%|          | 0/15 [00:00<?, ?it/s]/home/fes/Nextcloud/Uni/B.Sc. Bioinfo/Bachelorarbeit/thesis/src/dataloaders_and_sets/simple_dataset.py:8: FutureWarning: Series.__getitem__ treating keys as positions is deprecated. In a future version, integer keys will always be treated as labels (consistent with DataFrame behavior). To access a value by position, use `ser.iloc[pos]`\n",
      "  return torch.tensor(self.data.iloc[index], dtype=torch.float32)\n",
      "Training epoch 1: 100%|██████████| 15/15 [00:03<00:00,  4.73it/s]\n",
      "Validation epoch 1: 100%|██████████| 4/4 [00:00<00:00,  4.15it/s]\n"
     ]
    },
    {
     "name": "stdout",
     "output_type": "stream",
     "text": [
      "0.6205892821153005\n"
     ]
    },
    {
     "name": "stderr",
     "output_type": "stream",
     "text": [
      "Training epoch 2: 100%|██████████| 15/15 [00:03<00:00,  4.54it/s]\n",
      "Validation epoch 2: 100%|██████████| 4/4 [00:00<00:00,  4.11it/s]\n"
     ]
    },
    {
     "name": "stdout",
     "output_type": "stream",
     "text": [
      "0.3867015858491262\n"
     ]
    },
    {
     "name": "stderr",
     "output_type": "stream",
     "text": [
      "Training epoch 3: 100%|██████████| 15/15 [00:03<00:00,  4.69it/s]\n",
      "Validation epoch 3: 100%|██████████| 4/4 [00:01<00:00,  3.88it/s]\n"
     ]
    },
    {
     "name": "stdout",
     "output_type": "stream",
     "text": [
      "0.3095288018385569\n"
     ]
    },
    {
     "name": "stderr",
     "output_type": "stream",
     "text": [
      "Training epoch 4: 100%|██████████| 15/15 [00:03<00:00,  4.61it/s]\n",
      "Validation epoch 4: 100%|██████████| 4/4 [00:01<00:00,  3.94it/s]\n"
     ]
    },
    {
     "name": "stdout",
     "output_type": "stream",
     "text": [
      "0.262545637289683\n"
     ]
    },
    {
     "name": "stderr",
     "output_type": "stream",
     "text": [
      "Training epoch 5: 100%|██████████| 15/15 [00:03<00:00,  4.56it/s]\n",
      "Validation epoch 5: 100%|██████████| 4/4 [00:01<00:00,  3.67it/s]\n"
     ]
    },
    {
     "name": "stdout",
     "output_type": "stream",
     "text": [
      "0.23234353661537172\n"
     ]
    },
    {
     "name": "stderr",
     "output_type": "stream",
     "text": [
      "Training epoch 6: 100%|██████████| 15/15 [00:03<00:00,  4.79it/s]\n",
      "Validation epoch 6: 100%|██████████| 4/4 [00:01<00:00,  3.88it/s]\n"
     ]
    },
    {
     "name": "stdout",
     "output_type": "stream",
     "text": [
      "0.2096067170302073\n"
     ]
    },
    {
     "name": "stderr",
     "output_type": "stream",
     "text": [
      "Training epoch 7: 100%|██████████| 15/15 [00:03<00:00,  4.71it/s]\n",
      "Validation epoch 7: 100%|██████████| 4/4 [00:00<00:00,  4.09it/s]\n"
     ]
    },
    {
     "name": "stdout",
     "output_type": "stream",
     "text": [
      "0.1907731980085373\n"
     ]
    },
    {
     "name": "stderr",
     "output_type": "stream",
     "text": [
      "Training epoch 8: 100%|██████████| 15/15 [00:03<00:00,  4.74it/s]\n",
      "Validation epoch 8: 100%|██████████| 4/4 [00:01<00:00,  3.99it/s]\n"
     ]
    },
    {
     "name": "stdout",
     "output_type": "stream",
     "text": [
      "0.17833548883597056\n"
     ]
    },
    {
     "name": "stderr",
     "output_type": "stream",
     "text": [
      "Training epoch 9: 100%|██████████| 15/15 [00:03<00:00,  4.70it/s]\n",
      "Validation epoch 9: 100%|██████████| 4/4 [00:00<00:00,  4.19it/s]\n"
     ]
    },
    {
     "name": "stdout",
     "output_type": "stream",
     "text": [
      "0.16848677198092143\n"
     ]
    },
    {
     "name": "stderr",
     "output_type": "stream",
     "text": [
      "Training epoch 10: 100%|██████████| 15/15 [00:03<00:00,  4.83it/s]\n",
      "Validation epoch 10: 100%|██████████| 4/4 [00:00<00:00,  4.14it/s]\n"
     ]
    },
    {
     "name": "stdout",
     "output_type": "stream",
     "text": [
      "0.1611114094654719\n"
     ]
    },
    {
     "name": "stderr",
     "output_type": "stream",
     "text": [
      "Training epoch 11: 100%|██████████| 15/15 [00:03<00:00,  4.83it/s]\n",
      "Validation epoch 11: 100%|██████████| 4/4 [00:01<00:00,  3.92it/s]\n"
     ]
    },
    {
     "name": "stdout",
     "output_type": "stream",
     "text": [
      "0.15552505354086557\n"
     ]
    },
    {
     "name": "stderr",
     "output_type": "stream",
     "text": [
      "Training epoch 12: 100%|██████████| 15/15 [00:03<00:00,  4.81it/s]\n",
      "Validation epoch 12: 100%|██████████| 4/4 [00:01<00:00,  3.81it/s]\n"
     ]
    },
    {
     "name": "stdout",
     "output_type": "stream",
     "text": [
      "0.15086300869782765\n"
     ]
    },
    {
     "name": "stderr",
     "output_type": "stream",
     "text": [
      "Training epoch 13: 100%|██████████| 15/15 [00:03<00:00,  4.75it/s]\n",
      "Validation epoch 13: 100%|██████████| 4/4 [00:01<00:00,  3.76it/s]\n"
     ]
    },
    {
     "name": "stdout",
     "output_type": "stream",
     "text": [
      "0.14694655736287435\n"
     ]
    },
    {
     "name": "stderr",
     "output_type": "stream",
     "text": [
      "Training epoch 14: 100%|██████████| 15/15 [00:03<00:00,  4.78it/s]\n",
      "Validation epoch 14: 100%|██████████| 4/4 [00:01<00:00,  3.51it/s]\n"
     ]
    },
    {
     "name": "stdout",
     "output_type": "stream",
     "text": [
      "0.14397368331750235\n"
     ]
    },
    {
     "name": "stderr",
     "output_type": "stream",
     "text": [
      "Training epoch 15: 100%|██████████| 15/15 [00:03<00:00,  4.74it/s]\n",
      "Validation epoch 15: 100%|██████████| 4/4 [00:00<00:00,  4.12it/s]\n"
     ]
    },
    {
     "name": "stdout",
     "output_type": "stream",
     "text": [
      "0.14097147981325786\n"
     ]
    },
    {
     "name": "stderr",
     "output_type": "stream",
     "text": [
      "Training epoch 16: 100%|██████████| 15/15 [00:03<00:00,  4.57it/s]\n",
      "Validation epoch 16: 100%|██████████| 4/4 [00:01<00:00,  3.65it/s]\n"
     ]
    },
    {
     "name": "stdout",
     "output_type": "stream",
     "text": [
      "0.1385141372680664\n"
     ]
    },
    {
     "name": "stderr",
     "output_type": "stream",
     "text": [
      "Training epoch 17: 100%|██████████| 15/15 [00:03<00:00,  4.69it/s]\n",
      "Validation epoch 17: 100%|██████████| 4/4 [00:01<00:00,  3.58it/s]\n"
     ]
    },
    {
     "name": "stdout",
     "output_type": "stream",
     "text": [
      "0.13641475935777028\n"
     ]
    },
    {
     "name": "stderr",
     "output_type": "stream",
     "text": [
      "Training epoch 18: 100%|██████████| 15/15 [00:03<00:00,  4.57it/s]\n",
      "Validation epoch 18: 100%|██████████| 4/4 [00:01<00:00,  3.99it/s]\n"
     ]
    },
    {
     "name": "stdout",
     "output_type": "stream",
     "text": [
      "0.13455305993556976\n"
     ]
    },
    {
     "name": "stderr",
     "output_type": "stream",
     "text": [
      "Training epoch 19: 100%|██████████| 15/15 [00:03<00:00,  4.74it/s]\n",
      "Validation epoch 19: 100%|██████████| 4/4 [00:00<00:00,  4.05it/s]\n"
     ]
    },
    {
     "name": "stdout",
     "output_type": "stream",
     "text": [
      "0.13297289212544758\n"
     ]
    },
    {
     "name": "stderr",
     "output_type": "stream",
     "text": [
      "Training epoch 20: 100%|██████████| 15/15 [00:03<00:00,  4.66it/s]\n",
      "Validation epoch 20: 100%|██████████| 4/4 [00:01<00:00,  3.74it/s]\n"
     ]
    },
    {
     "name": "stdout",
     "output_type": "stream",
     "text": [
      "0.13146359026432036\n"
     ]
    },
    {
     "name": "stderr",
     "output_type": "stream",
     "text": [
      "Training epoch 21: 100%|██████████| 15/15 [00:03<00:00,  4.55it/s]\n",
      "Validation epoch 21: 100%|██████████| 4/4 [00:01<00:00,  3.91it/s]\n"
     ]
    },
    {
     "name": "stdout",
     "output_type": "stream",
     "text": [
      "0.1299388696750005\n"
     ]
    },
    {
     "name": "stderr",
     "output_type": "stream",
     "text": [
      "Training epoch 22: 100%|██████████| 15/15 [00:03<00:00,  4.67it/s]\n",
      "Validation epoch 22: 100%|██████████| 4/4 [00:01<00:00,  3.92it/s]\n"
     ]
    },
    {
     "name": "stdout",
     "output_type": "stream",
     "text": [
      "0.128923828403155\n"
     ]
    },
    {
     "name": "stderr",
     "output_type": "stream",
     "text": [
      "Training epoch 23: 100%|██████████| 15/15 [00:03<00:00,  4.63it/s]\n",
      "Validation epoch 23: 100%|██████████| 4/4 [00:00<00:00,  4.11it/s]\n"
     ]
    },
    {
     "name": "stdout",
     "output_type": "stream",
     "text": [
      "0.1277231658498446\n"
     ]
    },
    {
     "name": "stderr",
     "output_type": "stream",
     "text": [
      "Training epoch 24: 100%|██████████| 15/15 [00:03<00:00,  4.74it/s]\n",
      "Validation epoch 24: 100%|██████████| 4/4 [00:01<00:00,  3.88it/s]\n"
     ]
    },
    {
     "name": "stdout",
     "output_type": "stream",
     "text": [
      "0.12647622625033061\n"
     ]
    },
    {
     "name": "stderr",
     "output_type": "stream",
     "text": [
      "Training epoch 25: 100%|██████████| 15/15 [00:03<00:00,  4.67it/s]\n",
      "Validation epoch 25: 100%|██████████| 4/4 [00:01<00:00,  3.81it/s]\n"
     ]
    },
    {
     "name": "stdout",
     "output_type": "stream",
     "text": [
      "0.12545505066712698\n"
     ]
    },
    {
     "name": "stderr",
     "output_type": "stream",
     "text": [
      "Training epoch 26: 100%|██████████| 15/15 [00:03<00:00,  4.72it/s]\n",
      "Validation epoch 26: 100%|██████████| 4/4 [00:01<00:00,  3.65it/s]\n"
     ]
    },
    {
     "name": "stdout",
     "output_type": "stream",
     "text": [
      "0.12439960241317749\n"
     ]
    },
    {
     "name": "stderr",
     "output_type": "stream",
     "text": [
      "Training epoch 27: 100%|██████████| 15/15 [00:03<00:00,  4.64it/s]\n",
      "Validation epoch 27: 100%|██████████| 4/4 [00:01<00:00,  3.87it/s]\n"
     ]
    },
    {
     "name": "stdout",
     "output_type": "stream",
     "text": [
      "0.12347320467233658\n"
     ]
    },
    {
     "name": "stderr",
     "output_type": "stream",
     "text": [
      "Training epoch 28: 100%|██████████| 15/15 [00:03<00:00,  4.70it/s]\n",
      "Validation epoch 28: 100%|██████████| 4/4 [00:00<00:00,  4.03it/s]\n"
     ]
    },
    {
     "name": "stdout",
     "output_type": "stream",
     "text": [
      "0.12237700273593267\n"
     ]
    },
    {
     "name": "stderr",
     "output_type": "stream",
     "text": [
      "Training epoch 29: 100%|██████████| 15/15 [00:03<00:00,  4.62it/s]\n",
      "Validation epoch 29: 100%|██████████| 4/4 [00:00<00:00,  4.16it/s]\n"
     ]
    },
    {
     "name": "stdout",
     "output_type": "stream",
     "text": [
      "0.1214493582646052\n"
     ]
    },
    {
     "name": "stderr",
     "output_type": "stream",
     "text": [
      "Training epoch 30: 100%|██████████| 15/15 [00:03<00:00,  4.67it/s]\n",
      "Validation epoch 30: 100%|██████████| 4/4 [00:01<00:00,  3.85it/s]\n"
     ]
    },
    {
     "name": "stdout",
     "output_type": "stream",
     "text": [
      "0.1206235095858574\n"
     ]
    },
    {
     "name": "stderr",
     "output_type": "stream",
     "text": [
      "Training epoch 31: 100%|██████████| 15/15 [00:03<00:00,  4.64it/s]\n",
      "Validation epoch 31: 100%|██████████| 4/4 [00:01<00:00,  3.67it/s]\n"
     ]
    },
    {
     "name": "stdout",
     "output_type": "stream",
     "text": [
      "0.11982314685980479\n"
     ]
    },
    {
     "name": "stderr",
     "output_type": "stream",
     "text": [
      "Training epoch 32: 100%|██████████| 15/15 [00:03<00:00,  4.81it/s]\n",
      "Validation epoch 32: 100%|██████████| 4/4 [00:01<00:00,  3.84it/s]\n"
     ]
    },
    {
     "name": "stdout",
     "output_type": "stream",
     "text": [
      "0.11907186408837636\n"
     ]
    },
    {
     "name": "stderr",
     "output_type": "stream",
     "text": [
      "Training epoch 33: 100%|██████████| 15/15 [00:03<00:00,  4.79it/s]\n",
      "Validation epoch 33: 100%|██████████| 4/4 [00:01<00:00,  3.92it/s]\n"
     ]
    },
    {
     "name": "stdout",
     "output_type": "stream",
     "text": [
      "0.11834659973780313\n"
     ]
    },
    {
     "name": "stderr",
     "output_type": "stream",
     "text": [
      "Training epoch 34: 100%|██████████| 15/15 [00:03<00:00,  4.71it/s]\n",
      "Validation epoch 34: 100%|██████████| 4/4 [00:00<00:00,  4.06it/s]\n"
     ]
    },
    {
     "name": "stdout",
     "output_type": "stream",
     "text": [
      "0.11765650709470113\n"
     ]
    },
    {
     "name": "stderr",
     "output_type": "stream",
     "text": [
      "Training epoch 35: 100%|██████████| 15/15 [00:03<00:00,  4.79it/s]\n",
      "Validation epoch 35: 100%|██████████| 4/4 [00:01<00:00,  3.27it/s]\n"
     ]
    },
    {
     "name": "stdout",
     "output_type": "stream",
     "text": [
      "0.11707763324181239\n"
     ]
    },
    {
     "name": "stderr",
     "output_type": "stream",
     "text": [
      "Training epoch 36: 100%|██████████| 15/15 [00:03<00:00,  4.70it/s]\n",
      "Validation epoch 36: 100%|██████████| 4/4 [00:00<00:00,  4.08it/s]\n"
     ]
    },
    {
     "name": "stdout",
     "output_type": "stream",
     "text": [
      "0.1167050763964653\n"
     ]
    },
    {
     "name": "stderr",
     "output_type": "stream",
     "text": [
      "Training epoch 37: 100%|██████████| 15/15 [00:03<00:00,  4.64it/s]\n",
      "Validation epoch 37: 100%|██████████| 4/4 [00:01<00:00,  3.68it/s]\n"
     ]
    },
    {
     "name": "stdout",
     "output_type": "stream",
     "text": [
      "0.1159668783346812\n"
     ]
    },
    {
     "name": "stderr",
     "output_type": "stream",
     "text": [
      "Training epoch 38: 100%|██████████| 15/15 [00:03<00:00,  4.65it/s]\n",
      "Validation epoch 38: 100%|██████████| 4/4 [00:00<00:00,  4.09it/s]\n"
     ]
    },
    {
     "name": "stdout",
     "output_type": "stream",
     "text": [
      "0.11540775746107101\n"
     ]
    },
    {
     "name": "stderr",
     "output_type": "stream",
     "text": [
      "Training epoch 39: 100%|██████████| 15/15 [00:03<00:00,  4.78it/s]\n",
      "Validation epoch 39: 100%|██████████| 4/4 [00:00<00:00,  4.19it/s]\n"
     ]
    },
    {
     "name": "stdout",
     "output_type": "stream",
     "text": [
      "0.11489394704500834\n"
     ]
    },
    {
     "name": "stderr",
     "output_type": "stream",
     "text": [
      "Training epoch 40: 100%|██████████| 15/15 [00:03<00:00,  4.69it/s]\n",
      "Validation epoch 40: 100%|██████████| 4/4 [00:00<00:00,  4.08it/s]\n"
     ]
    },
    {
     "name": "stdout",
     "output_type": "stream",
     "text": [
      "0.11437879751125972\n"
     ]
    },
    {
     "name": "stderr",
     "output_type": "stream",
     "text": [
      "Training epoch 41: 100%|██████████| 15/15 [00:03<00:00,  4.49it/s]\n",
      "Validation epoch 41: 100%|██████████| 4/4 [00:00<00:00,  4.15it/s]\n"
     ]
    },
    {
     "name": "stdout",
     "output_type": "stream",
     "text": [
      "0.11407820532719294\n"
     ]
    },
    {
     "name": "stderr",
     "output_type": "stream",
     "text": [
      "Training epoch 42: 100%|██████████| 15/15 [00:03<00:00,  4.69it/s]\n",
      "Validation epoch 42: 100%|██████████| 4/4 [00:00<00:00,  4.05it/s]\n"
     ]
    },
    {
     "name": "stdout",
     "output_type": "stream",
     "text": [
      "0.11367095907529196\n"
     ]
    },
    {
     "name": "stderr",
     "output_type": "stream",
     "text": [
      "Training epoch 43: 100%|██████████| 15/15 [00:03<00:00,  4.70it/s]\n",
      "Validation epoch 43: 100%|██████████| 4/4 [00:01<00:00,  3.94it/s]\n"
     ]
    },
    {
     "name": "stdout",
     "output_type": "stream",
     "text": [
      "0.11317432473103205\n"
     ]
    },
    {
     "name": "stderr",
     "output_type": "stream",
     "text": [
      "Training epoch 44: 100%|██████████| 15/15 [00:03<00:00,  4.63it/s]\n",
      "Validation epoch 44: 100%|██████████| 4/4 [00:00<00:00,  4.05it/s]\n"
     ]
    },
    {
     "name": "stdout",
     "output_type": "stream",
     "text": [
      "0.11243205467859904\n"
     ]
    },
    {
     "name": "stderr",
     "output_type": "stream",
     "text": [
      "Training epoch 45: 100%|██████████| 15/15 [00:03<00:00,  4.61it/s]\n",
      "Validation epoch 45: 100%|██████████| 4/4 [00:01<00:00,  3.90it/s]\n"
     ]
    },
    {
     "name": "stdout",
     "output_type": "stream",
     "text": [
      "0.11188346495230993\n"
     ]
    },
    {
     "name": "stderr",
     "output_type": "stream",
     "text": [
      "Training epoch 46: 100%|██████████| 15/15 [00:03<00:00,  4.67it/s]\n",
      "Validation epoch 46: 100%|██████████| 4/4 [00:01<00:00,  3.84it/s]\n"
     ]
    },
    {
     "name": "stdout",
     "output_type": "stream",
     "text": [
      "0.11139280994733175\n"
     ]
    },
    {
     "name": "stderr",
     "output_type": "stream",
     "text": [
      "Training epoch 47: 100%|██████████| 15/15 [00:03<00:00,  4.73it/s]\n",
      "Validation epoch 47: 100%|██████████| 4/4 [00:01<00:00,  3.98it/s]\n"
     ]
    },
    {
     "name": "stdout",
     "output_type": "stream",
     "text": [
      "0.1109406719605128\n"
     ]
    },
    {
     "name": "stderr",
     "output_type": "stream",
     "text": [
      "Training epoch 48: 100%|██████████| 15/15 [00:03<00:00,  4.70it/s]\n",
      "Validation epoch 48: 100%|██████████| 4/4 [00:01<00:00,  3.76it/s]\n"
     ]
    },
    {
     "name": "stdout",
     "output_type": "stream",
     "text": [
      "0.11054550508658091\n"
     ]
    },
    {
     "name": "stderr",
     "output_type": "stream",
     "text": [
      "Training epoch 49: 100%|██████████| 15/15 [00:03<00:00,  4.81it/s]\n",
      "Validation epoch 49: 100%|██████████| 4/4 [00:01<00:00,  3.46it/s]\n"
     ]
    },
    {
     "name": "stdout",
     "output_type": "stream",
     "text": [
      "0.11021236429611841\n"
     ]
    },
    {
     "name": "stderr",
     "output_type": "stream",
     "text": [
      "Training epoch 50: 100%|██████████| 15/15 [00:03<00:00,  4.77it/s]\n",
      "Validation epoch 50: 100%|██████████| 4/4 [00:01<00:00,  3.70it/s]\n"
     ]
    },
    {
     "name": "stdout",
     "output_type": "stream",
     "text": [
      "0.10993810544411341\n"
     ]
    },
    {
     "name": "stderr",
     "output_type": "stream",
     "text": [
      "Training epoch 51: 100%|██████████| 15/15 [00:03<00:00,  4.77it/s]\n",
      "Validation epoch 51: 100%|██████████| 4/4 [00:01<00:00,  3.81it/s]\n"
     ]
    },
    {
     "name": "stdout",
     "output_type": "stream",
     "text": [
      "0.10954664548238119\n"
     ]
    },
    {
     "name": "stderr",
     "output_type": "stream",
     "text": [
      "Training epoch 52: 100%|██████████| 15/15 [00:03<00:00,  4.61it/s]\n",
      "Validation epoch 52: 100%|██████████| 4/4 [00:01<00:00,  3.98it/s]\n"
     ]
    },
    {
     "name": "stdout",
     "output_type": "stream",
     "text": [
      "0.10908350596825282\n"
     ]
    },
    {
     "name": "stderr",
     "output_type": "stream",
     "text": [
      "Training epoch 53: 100%|██████████| 15/15 [00:03<00:00,  4.72it/s]\n",
      "Validation epoch 53: 100%|██████████| 4/4 [00:00<00:00,  4.03it/s]\n"
     ]
    },
    {
     "name": "stdout",
     "output_type": "stream",
     "text": [
      "0.10878189156452815\n"
     ]
    },
    {
     "name": "stderr",
     "output_type": "stream",
     "text": [
      "Training epoch 54: 100%|██████████| 15/15 [00:03<00:00,  4.32it/s]\n",
      "Validation epoch 54: 100%|██████████| 4/4 [00:01<00:00,  3.48it/s]\n"
     ]
    },
    {
     "name": "stdout",
     "output_type": "stream",
     "text": [
      "0.1085149273276329\n"
     ]
    },
    {
     "name": "stderr",
     "output_type": "stream",
     "text": [
      "Training epoch 55: 100%|██████████| 15/15 [00:03<00:00,  4.57it/s]\n",
      "Validation epoch 55: 100%|██████████| 4/4 [00:01<00:00,  3.88it/s]\n"
     ]
    },
    {
     "name": "stdout",
     "output_type": "stream",
     "text": [
      "0.10830905437469482\n"
     ]
    },
    {
     "name": "stderr",
     "output_type": "stream",
     "text": [
      "Training epoch 56: 100%|██████████| 15/15 [00:03<00:00,  4.78it/s]\n",
      "Validation epoch 56: 100%|██████████| 4/4 [00:00<00:00,  4.13it/s]\n"
     ]
    },
    {
     "name": "stdout",
     "output_type": "stream",
     "text": [
      "0.10804353505373002\n"
     ]
    },
    {
     "name": "stderr",
     "output_type": "stream",
     "text": [
      "Training epoch 57: 100%|██████████| 15/15 [00:03<00:00,  4.76it/s]\n",
      "Validation epoch 57: 100%|██████████| 4/4 [00:00<00:00,  4.10it/s]\n"
     ]
    },
    {
     "name": "stdout",
     "output_type": "stream",
     "text": [
      "0.10772074908018112\n"
     ]
    },
    {
     "name": "stderr",
     "output_type": "stream",
     "text": [
      "Training epoch 58: 100%|██████████| 15/15 [00:03<00:00,  4.77it/s]\n",
      "Validation epoch 58: 100%|██████████| 4/4 [00:00<00:00,  4.15it/s]\n"
     ]
    },
    {
     "name": "stdout",
     "output_type": "stream",
     "text": [
      "0.1072885349392891\n"
     ]
    },
    {
     "name": "stderr",
     "output_type": "stream",
     "text": [
      "Training epoch 59: 100%|██████████| 15/15 [00:03<00:00,  4.65it/s]\n",
      "Validation epoch 59: 100%|██████████| 4/4 [00:01<00:00,  3.80it/s]\n"
     ]
    },
    {
     "name": "stdout",
     "output_type": "stream",
     "text": [
      "0.10689590871334076\n"
     ]
    },
    {
     "name": "stderr",
     "output_type": "stream",
     "text": [
      "Training epoch 60: 100%|██████████| 15/15 [00:03<00:00,  4.76it/s]\n",
      "Validation epoch 60: 100%|██████████| 4/4 [00:01<00:00,  3.97it/s]\n"
     ]
    },
    {
     "name": "stdout",
     "output_type": "stream",
     "text": [
      "0.10668316086133321\n"
     ]
    },
    {
     "name": "stderr",
     "output_type": "stream",
     "text": [
      "Training epoch 61: 100%|██████████| 15/15 [00:03<00:00,  4.75it/s]\n",
      "Validation epoch 61: 100%|██████████| 4/4 [00:00<00:00,  4.24it/s]\n"
     ]
    },
    {
     "name": "stdout",
     "output_type": "stream",
     "text": [
      "0.10651359955469768\n"
     ]
    },
    {
     "name": "stderr",
     "output_type": "stream",
     "text": [
      "Training epoch 62: 100%|██████████| 15/15 [00:03<00:00,  4.71it/s]\n",
      "Validation epoch 62: 100%|██████████| 4/4 [00:00<00:00,  4.17it/s]\n"
     ]
    },
    {
     "name": "stdout",
     "output_type": "stream",
     "text": [
      "0.10632969439029694\n"
     ]
    },
    {
     "name": "stderr",
     "output_type": "stream",
     "text": [
      "Training epoch 63: 100%|██████████| 15/15 [00:03<00:00,  4.74it/s]\n",
      "Validation epoch 63: 100%|██████████| 4/4 [00:01<00:00,  3.88it/s]\n"
     ]
    },
    {
     "name": "stdout",
     "output_type": "stream",
     "text": [
      "0.10612372457981109\n"
     ]
    },
    {
     "name": "stderr",
     "output_type": "stream",
     "text": [
      "Training epoch 64: 100%|██████████| 15/15 [00:03<00:00,  4.80it/s]\n",
      "Validation epoch 64: 100%|██████████| 4/4 [00:01<00:00,  3.67it/s]\n"
     ]
    },
    {
     "name": "stdout",
     "output_type": "stream",
     "text": [
      "0.10583382298549017\n"
     ]
    },
    {
     "name": "stderr",
     "output_type": "stream",
     "text": [
      "Training epoch 65: 100%|██████████| 15/15 [00:03<00:00,  4.77it/s]\n",
      "Validation epoch 65: 100%|██████████| 4/4 [00:01<00:00,  3.86it/s]\n"
     ]
    },
    {
     "name": "stdout",
     "output_type": "stream",
     "text": [
      "0.1054302121202151\n"
     ]
    },
    {
     "name": "stderr",
     "output_type": "stream",
     "text": [
      "Training epoch 66: 100%|██████████| 15/15 [00:03<00:00,  4.77it/s]\n",
      "Validation epoch 66: 100%|██████████| 4/4 [00:00<00:00,  4.21it/s]\n"
     ]
    },
    {
     "name": "stdout",
     "output_type": "stream",
     "text": [
      "0.10510071764389674\n"
     ]
    },
    {
     "name": "stderr",
     "output_type": "stream",
     "text": [
      "Training epoch 67: 100%|██████████| 15/15 [00:03<00:00,  4.75it/s]\n",
      "Validation epoch 67: 100%|██████████| 4/4 [00:00<00:00,  4.07it/s]\n"
     ]
    },
    {
     "name": "stdout",
     "output_type": "stream",
     "text": [
      "0.10490994056065878\n"
     ]
    },
    {
     "name": "stderr",
     "output_type": "stream",
     "text": [
      "Training epoch 68: 100%|██████████| 15/15 [00:03<00:00,  4.83it/s]\n",
      "Validation epoch 68: 100%|██████████| 4/4 [00:00<00:00,  4.20it/s]\n"
     ]
    },
    {
     "name": "stdout",
     "output_type": "stream",
     "text": [
      "0.10477315485477448\n"
     ]
    },
    {
     "name": "stderr",
     "output_type": "stream",
     "text": [
      "Training epoch 69: 100%|██████████| 15/15 [00:03<00:00,  4.81it/s]\n",
      "Validation epoch 69: 100%|██████████| 4/4 [00:00<00:00,  4.11it/s]\n"
     ]
    },
    {
     "name": "stdout",
     "output_type": "stream",
     "text": [
      "0.10476018339395524\n"
     ]
    },
    {
     "name": "stderr",
     "output_type": "stream",
     "text": [
      "Training epoch 70: 100%|██████████| 15/15 [00:03<00:00,  4.74it/s]\n",
      "Validation epoch 70: 100%|██████████| 4/4 [00:00<00:00,  4.26it/s]\n"
     ]
    },
    {
     "name": "stdout",
     "output_type": "stream",
     "text": [
      "0.10453504621982575\n"
     ]
    },
    {
     "name": "stderr",
     "output_type": "stream",
     "text": [
      "Training epoch 71: 100%|██████████| 15/15 [00:03<00:00,  4.82it/s]\n",
      "Validation epoch 71: 100%|██████████| 4/4 [00:00<00:00,  4.09it/s]\n"
     ]
    },
    {
     "name": "stdout",
     "output_type": "stream",
     "text": [
      "0.10393848915894827\n"
     ]
    },
    {
     "name": "stderr",
     "output_type": "stream",
     "text": [
      "Training epoch 72: 100%|██████████| 15/15 [00:03<00:00,  4.82it/s]\n",
      "Validation epoch 72: 100%|██████████| 4/4 [00:00<00:00,  4.18it/s]\n"
     ]
    },
    {
     "name": "stdout",
     "output_type": "stream",
     "text": [
      "0.10374128669500352\n"
     ]
    },
    {
     "name": "stderr",
     "output_type": "stream",
     "text": [
      "Training epoch 73: 100%|██████████| 15/15 [00:03<00:00,  4.83it/s]\n",
      "Validation epoch 73: 100%|██████████| 4/4 [00:01<00:00,  3.69it/s]\n"
     ]
    },
    {
     "name": "stdout",
     "output_type": "stream",
     "text": [
      "0.10350132584571839\n"
     ]
    },
    {
     "name": "stderr",
     "output_type": "stream",
     "text": [
      "Training epoch 74: 100%|██████████| 15/15 [00:03<00:00,  4.81it/s]\n",
      "Validation epoch 74: 100%|██████████| 4/4 [00:00<00:00,  4.23it/s]\n"
     ]
    },
    {
     "name": "stdout",
     "output_type": "stream",
     "text": [
      "0.1033300240834554\n"
     ]
    },
    {
     "name": "stderr",
     "output_type": "stream",
     "text": [
      "Training epoch 75: 100%|██████████| 15/15 [00:03<00:00,  4.77it/s]\n",
      "Validation epoch 75: 100%|██████████| 4/4 [00:00<00:00,  4.17it/s]\n"
     ]
    },
    {
     "name": "stdout",
     "output_type": "stream",
     "text": [
      "0.10315103232860565\n"
     ]
    },
    {
     "name": "stderr",
     "output_type": "stream",
     "text": [
      "Training epoch 76: 100%|██████████| 15/15 [00:03<00:00,  4.78it/s]\n",
      "Validation epoch 76: 100%|██████████| 4/4 [00:00<00:00,  4.21it/s]\n"
     ]
    },
    {
     "name": "stdout",
     "output_type": "stream",
     "text": [
      "0.10299483736356099\n"
     ]
    },
    {
     "name": "stderr",
     "output_type": "stream",
     "text": [
      "Training epoch 77: 100%|██████████| 15/15 [00:03<00:00,  4.71it/s]\n",
      "Validation epoch 77: 100%|██████████| 4/4 [00:00<00:00,  4.04it/s]\n"
     ]
    },
    {
     "name": "stdout",
     "output_type": "stream",
     "text": [
      "0.10287702878316243\n"
     ]
    },
    {
     "name": "stderr",
     "output_type": "stream",
     "text": [
      "Training epoch 78: 100%|██████████| 15/15 [00:03<00:00,  4.82it/s]\n",
      "Validation epoch 78: 100%|██████████| 4/4 [00:01<00:00,  3.91it/s]\n"
     ]
    },
    {
     "name": "stdout",
     "output_type": "stream",
     "text": [
      "0.10279952039321263\n"
     ]
    },
    {
     "name": "stderr",
     "output_type": "stream",
     "text": [
      "Training epoch 79: 100%|██████████| 15/15 [00:03<00:00,  4.81it/s]\n",
      "Validation epoch 79: 100%|██████████| 4/4 [00:00<00:00,  4.10it/s]\n"
     ]
    },
    {
     "name": "stdout",
     "output_type": "stream",
     "text": [
      "0.10270306666692099\n"
     ]
    },
    {
     "name": "stderr",
     "output_type": "stream",
     "text": [
      "Training epoch 80: 100%|██████████| 15/15 [00:03<00:00,  4.82it/s]\n",
      "Validation epoch 80: 100%|██████████| 4/4 [00:01<00:00,  3.80it/s]\n"
     ]
    },
    {
     "name": "stdout",
     "output_type": "stream",
     "text": [
      "0.1024833450714747\n"
     ]
    },
    {
     "name": "stderr",
     "output_type": "stream",
     "text": [
      "Training epoch 81: 100%|██████████| 15/15 [00:03<00:00,  4.72it/s]\n",
      "Validation epoch 81: 100%|██████████| 4/4 [00:00<00:00,  4.18it/s]\n"
     ]
    },
    {
     "name": "stdout",
     "output_type": "stream",
     "text": [
      "0.10212024251619975\n"
     ]
    },
    {
     "name": "stderr",
     "output_type": "stream",
     "text": [
      "Training epoch 82: 100%|██████████| 15/15 [00:03<00:00,  4.84it/s]\n",
      "Validation epoch 82: 100%|██████████| 4/4 [00:00<00:00,  4.24it/s]\n"
     ]
    },
    {
     "name": "stdout",
     "output_type": "stream",
     "text": [
      "0.10188922584056855\n"
     ]
    },
    {
     "name": "stderr",
     "output_type": "stream",
     "text": [
      "Training epoch 83: 100%|██████████| 15/15 [00:03<00:00,  4.83it/s]\n",
      "Validation epoch 83: 100%|██████████| 4/4 [00:01<00:00,  3.54it/s]\n"
     ]
    },
    {
     "name": "stdout",
     "output_type": "stream",
     "text": [
      "0.10172030180692673\n"
     ]
    },
    {
     "name": "stderr",
     "output_type": "stream",
     "text": [
      "Training epoch 84: 100%|██████████| 15/15 [00:03<00:00,  4.80it/s]\n",
      "Validation epoch 84: 100%|██████████| 4/4 [00:01<00:00,  3.88it/s]\n"
     ]
    },
    {
     "name": "stdout",
     "output_type": "stream",
     "text": [
      "0.10153800000747044\n"
     ]
    },
    {
     "name": "stderr",
     "output_type": "stream",
     "text": [
      "Training epoch 85: 100%|██████████| 15/15 [00:03<00:00,  4.74it/s]\n",
      "Validation epoch 85: 100%|██████████| 4/4 [00:00<00:00,  4.23it/s]\n"
     ]
    },
    {
     "name": "stdout",
     "output_type": "stream",
     "text": [
      "0.10136851916710536\n"
     ]
    },
    {
     "name": "stderr",
     "output_type": "stream",
     "text": [
      "Training epoch 86: 100%|██████████| 15/15 [00:03<00:00,  4.83it/s]\n",
      "Validation epoch 86: 100%|██████████| 4/4 [00:00<00:00,  4.15it/s]\n"
     ]
    },
    {
     "name": "stdout",
     "output_type": "stream",
     "text": [
      "0.10121855735778809\n"
     ]
    },
    {
     "name": "stderr",
     "output_type": "stream",
     "text": [
      "Training epoch 87: 100%|██████████| 15/15 [00:03<00:00,  4.83it/s]\n",
      "Validation epoch 87: 100%|██████████| 4/4 [00:01<00:00,  3.71it/s]\n"
     ]
    },
    {
     "name": "stdout",
     "output_type": "stream",
     "text": [
      "0.10107478002707164\n"
     ]
    },
    {
     "name": "stderr",
     "output_type": "stream",
     "text": [
      "Training epoch 88: 100%|██████████| 15/15 [00:03<00:00,  4.79it/s]\n",
      "Validation epoch 88: 100%|██████████| 4/4 [00:01<00:00,  3.97it/s]\n"
     ]
    },
    {
     "name": "stdout",
     "output_type": "stream",
     "text": [
      "0.10093804647525152\n"
     ]
    },
    {
     "name": "stderr",
     "output_type": "stream",
     "text": [
      "Training epoch 89: 100%|██████████| 15/15 [00:03<00:00,  4.75it/s]\n",
      "Validation epoch 89: 100%|██████████| 4/4 [00:01<00:00,  3.95it/s]\n"
     ]
    },
    {
     "name": "stdout",
     "output_type": "stream",
     "text": [
      "0.1008056198557218\n"
     ]
    },
    {
     "name": "stderr",
     "output_type": "stream",
     "text": [
      "Training epoch 90: 100%|██████████| 15/15 [00:03<00:00,  4.84it/s]\n",
      "Validation epoch 90: 100%|██████████| 4/4 [00:01<00:00,  3.78it/s]\n"
     ]
    },
    {
     "name": "stdout",
     "output_type": "stream",
     "text": [
      "0.10068339457114538\n"
     ]
    },
    {
     "name": "stderr",
     "output_type": "stream",
     "text": [
      "Training epoch 91: 100%|██████████| 15/15 [00:03<00:00,  4.84it/s]\n",
      "Validation epoch 91: 100%|██████████| 4/4 [00:00<00:00,  4.19it/s]\n"
     ]
    },
    {
     "name": "stdout",
     "output_type": "stream",
     "text": [
      "0.1005756452679634\n"
     ]
    },
    {
     "name": "stderr",
     "output_type": "stream",
     "text": [
      "Training epoch 92: 100%|██████████| 15/15 [00:03<00:00,  4.73it/s]\n",
      "Validation epoch 92: 100%|██████████| 4/4 [00:01<00:00,  3.75it/s]\n"
     ]
    },
    {
     "name": "stdout",
     "output_type": "stream",
     "text": [
      "0.10049044638872147\n"
     ]
    },
    {
     "name": "stderr",
     "output_type": "stream",
     "text": [
      "Training epoch 93: 100%|██████████| 15/15 [00:03<00:00,  4.83it/s]\n",
      "Validation epoch 93: 100%|██████████| 4/4 [00:00<00:00,  4.04it/s]\n"
     ]
    },
    {
     "name": "stdout",
     "output_type": "stream",
     "text": [
      "0.1004511222243309\n"
     ]
    },
    {
     "name": "stderr",
     "output_type": "stream",
     "text": [
      "Training epoch 94: 100%|██████████| 15/15 [00:03<00:00,  4.81it/s]\n",
      "Validation epoch 94: 100%|██████████| 4/4 [00:00<00:00,  4.05it/s]\n"
     ]
    },
    {
     "name": "stdout",
     "output_type": "stream",
     "text": [
      "0.10050501922766368\n"
     ]
    },
    {
     "name": "stderr",
     "output_type": "stream",
     "text": [
      "Training epoch 95: 100%|██████████| 15/15 [00:03<00:00,  4.73it/s]\n",
      "Validation epoch 95: 100%|██████████| 4/4 [00:00<00:00,  4.14it/s]\n"
     ]
    },
    {
     "name": "stdout",
     "output_type": "stream",
     "text": [
      "0.10055004159609476\n"
     ]
    },
    {
     "name": "stderr",
     "output_type": "stream",
     "text": [
      "Training epoch 96: 100%|██████████| 15/15 [00:03<00:00,  4.87it/s]\n",
      "Validation epoch 96: 100%|██████████| 4/4 [00:01<00:00,  3.73it/s]\n"
     ]
    },
    {
     "name": "stdout",
     "output_type": "stream",
     "text": [
      "0.1004386822382609\n"
     ]
    },
    {
     "name": "stderr",
     "output_type": "stream",
     "text": [
      "Training epoch 97: 100%|██████████| 15/15 [00:03<00:00,  4.83it/s]\n",
      "Validation epoch 97: 100%|██████████| 4/4 [00:00<00:00,  4.23it/s]\n"
     ]
    },
    {
     "name": "stdout",
     "output_type": "stream",
     "text": [
      "0.10021985868612925\n"
     ]
    },
    {
     "name": "stderr",
     "output_type": "stream",
     "text": [
      "Training epoch 98: 100%|██████████| 15/15 [00:03<00:00,  4.78it/s]\n",
      "Validation epoch 98: 100%|██████████| 4/4 [00:00<00:00,  4.20it/s]\n"
     ]
    },
    {
     "name": "stdout",
     "output_type": "stream",
     "text": [
      "0.09991488009691238\n"
     ]
    },
    {
     "name": "stderr",
     "output_type": "stream",
     "text": [
      "Training epoch 99: 100%|██████████| 15/15 [00:03<00:00,  4.73it/s]\n",
      "Validation epoch 99: 100%|██████████| 4/4 [00:01<00:00,  3.51it/s]\n"
     ]
    },
    {
     "name": "stdout",
     "output_type": "stream",
     "text": [
      "0.09959966590007147\n"
     ]
    },
    {
     "name": "stderr",
     "output_type": "stream",
     "text": [
      "Training epoch 100: 100%|██████████| 15/15 [00:03<00:00,  4.83it/s]\n",
      "Validation epoch 100: 100%|██████████| 4/4 [00:00<00:00,  4.26it/s]\n"
     ]
    },
    {
     "name": "stdout",
     "output_type": "stream",
     "text": [
      "0.09950088957945506\n"
     ]
    },
    {
     "name": "stderr",
     "output_type": "stream",
     "text": [
      "Training epoch 101: 100%|██████████| 15/15 [00:03<00:00,  4.82it/s]\n",
      "Validation epoch 101: 100%|██████████| 4/4 [00:01<00:00,  3.71it/s]\n"
     ]
    },
    {
     "name": "stdout",
     "output_type": "stream",
     "text": [
      "0.09944827606280644\n"
     ]
    },
    {
     "name": "stderr",
     "output_type": "stream",
     "text": [
      "Training epoch 102: 100%|██████████| 15/15 [00:03<00:00,  4.84it/s]\n",
      "Validation epoch 102: 100%|██████████| 4/4 [00:00<00:00,  4.14it/s]\n"
     ]
    },
    {
     "name": "stdout",
     "output_type": "stream",
     "text": [
      "0.09939356744289399\n"
     ]
    },
    {
     "name": "stderr",
     "output_type": "stream",
     "text": [
      "Training epoch 103: 100%|██████████| 15/15 [00:03<00:00,  4.79it/s]\n",
      "Validation epoch 103: 100%|██████████| 4/4 [00:00<00:00,  4.24it/s]\n"
     ]
    },
    {
     "name": "stdout",
     "output_type": "stream",
     "text": [
      "0.0992262656490008\n"
     ]
    },
    {
     "name": "stderr",
     "output_type": "stream",
     "text": [
      "Training epoch 104: 100%|██████████| 15/15 [00:03<00:00,  4.87it/s]\n",
      "Validation epoch 104: 100%|██████████| 4/4 [00:01<00:00,  3.30it/s]\n"
     ]
    },
    {
     "name": "stdout",
     "output_type": "stream",
     "text": [
      "0.0990192656715711\n"
     ]
    },
    {
     "name": "stderr",
     "output_type": "stream",
     "text": [
      "Training epoch 105: 100%|██████████| 15/15 [00:03<00:00,  4.81it/s]\n",
      "Validation epoch 105: 100%|██████████| 4/4 [00:00<00:00,  4.09it/s]\n"
     ]
    },
    {
     "name": "stdout",
     "output_type": "stream",
     "text": [
      "0.09890007972717285\n"
     ]
    },
    {
     "name": "stderr",
     "output_type": "stream",
     "text": [
      "Training epoch 106: 100%|██████████| 15/15 [00:03<00:00,  4.73it/s]\n",
      "Validation epoch 106: 100%|██████████| 4/4 [00:01<00:00,  3.94it/s]\n"
     ]
    },
    {
     "name": "stdout",
     "output_type": "stream",
     "text": [
      "0.0988335316379865\n"
     ]
    },
    {
     "name": "stderr",
     "output_type": "stream",
     "text": [
      "Training epoch 107: 100%|██████████| 15/15 [00:03<00:00,  4.84it/s]\n",
      "Validation epoch 107: 100%|██████████| 4/4 [00:00<00:00,  4.12it/s]\n"
     ]
    },
    {
     "name": "stdout",
     "output_type": "stream",
     "text": [
      "0.09876968562602997\n"
     ]
    },
    {
     "name": "stderr",
     "output_type": "stream",
     "text": [
      "Training epoch 108: 100%|██████████| 15/15 [00:03<00:00,  4.84it/s]\n",
      "Validation epoch 108: 100%|██████████| 4/4 [00:00<00:00,  4.04it/s]\n"
     ]
    },
    {
     "name": "stdout",
     "output_type": "stream",
     "text": [
      "0.09871321469545365\n"
     ]
    },
    {
     "name": "stderr",
     "output_type": "stream",
     "text": [
      "Training epoch 109: 100%|██████████| 15/15 [00:03<00:00,  4.78it/s]\n",
      "Validation epoch 109: 100%|██████████| 4/4 [00:01<00:00,  3.84it/s]\n"
     ]
    },
    {
     "name": "stdout",
     "output_type": "stream",
     "text": [
      "0.09861221561829249\n"
     ]
    },
    {
     "name": "stderr",
     "output_type": "stream",
     "text": [
      "Training epoch 110: 100%|██████████| 15/15 [00:03<00:00,  4.81it/s]\n",
      "Validation epoch 110: 100%|██████████| 4/4 [00:00<00:00,  4.20it/s]\n"
     ]
    },
    {
     "name": "stdout",
     "output_type": "stream",
     "text": [
      "0.09843843628962835\n"
     ]
    },
    {
     "name": "stderr",
     "output_type": "stream",
     "text": [
      "Training epoch 111: 100%|██████████| 15/15 [00:03<00:00,  4.81it/s]\n",
      "Validation epoch 111: 100%|██████████| 4/4 [00:01<00:00,  3.48it/s]\n"
     ]
    },
    {
     "name": "stdout",
     "output_type": "stream",
     "text": [
      "0.09825320889552434\n"
     ]
    },
    {
     "name": "stderr",
     "output_type": "stream",
     "text": [
      "Training epoch 112: 100%|██████████| 15/15 [00:03<00:00,  4.86it/s]\n",
      "Validation epoch 112: 100%|██████████| 4/4 [00:01<00:00,  3.73it/s]\n"
     ]
    },
    {
     "name": "stdout",
     "output_type": "stream",
     "text": [
      "0.09810817937056224\n"
     ]
    },
    {
     "name": "stderr",
     "output_type": "stream",
     "text": [
      "Training epoch 113: 100%|██████████| 15/15 [00:03<00:00,  4.75it/s]\n",
      "Validation epoch 113: 100%|██████████| 4/4 [00:00<00:00,  4.16it/s]\n"
     ]
    },
    {
     "name": "stdout",
     "output_type": "stream",
     "text": [
      "0.09800613770882288\n"
     ]
    },
    {
     "name": "stderr",
     "output_type": "stream",
     "text": [
      "Training epoch 114: 100%|██████████| 15/15 [00:03<00:00,  4.88it/s]\n",
      "Validation epoch 114: 100%|██████████| 4/4 [00:00<00:00,  4.05it/s]\n"
     ]
    },
    {
     "name": "stdout",
     "output_type": "stream",
     "text": [
      "0.09791275560855865\n"
     ]
    },
    {
     "name": "stderr",
     "output_type": "stream",
     "text": [
      "Training epoch 115: 100%|██████████| 15/15 [00:03<00:00,  4.86it/s]\n",
      "Validation epoch 115: 100%|██████████| 4/4 [00:01<00:00,  3.58it/s]\n"
     ]
    },
    {
     "name": "stdout",
     "output_type": "stream",
     "text": [
      "0.09781975895166398\n"
     ]
    },
    {
     "name": "stderr",
     "output_type": "stream",
     "text": [
      "Training epoch 116: 100%|██████████| 15/15 [00:03<00:00,  4.82it/s]\n",
      "Validation epoch 116: 100%|██████████| 4/4 [00:01<00:00,  3.20it/s]\n"
     ]
    },
    {
     "name": "stdout",
     "output_type": "stream",
     "text": [
      "0.09772752225399017\n"
     ]
    },
    {
     "name": "stderr",
     "output_type": "stream",
     "text": [
      "Training epoch 117: 100%|██████████| 15/15 [00:03<00:00,  4.65it/s]\n",
      "Validation epoch 117: 100%|██████████| 4/4 [00:00<00:00,  4.01it/s]\n"
     ]
    },
    {
     "name": "stdout",
     "output_type": "stream",
     "text": [
      "0.09763825436433156\n"
     ]
    },
    {
     "name": "stderr",
     "output_type": "stream",
     "text": [
      "Training epoch 118: 100%|██████████| 15/15 [00:03<00:00,  4.80it/s]\n",
      "Validation epoch 118: 100%|██████████| 4/4 [00:00<00:00,  4.24it/s]\n"
     ]
    },
    {
     "name": "stdout",
     "output_type": "stream",
     "text": [
      "0.09755613009134928\n"
     ]
    },
    {
     "name": "stderr",
     "output_type": "stream",
     "text": [
      "Training epoch 119: 100%|██████████| 15/15 [00:03<00:00,  4.82it/s]\n",
      "Validation epoch 119: 100%|██████████| 4/4 [00:00<00:00,  4.00it/s]\n"
     ]
    },
    {
     "name": "stdout",
     "output_type": "stream",
     "text": [
      "0.0974761242667834\n"
     ]
    },
    {
     "name": "stderr",
     "output_type": "stream",
     "text": [
      "Training epoch 120: 100%|██████████| 15/15 [00:03<00:00,  4.83it/s]\n",
      "Validation epoch 120: 100%|██████████| 4/4 [00:00<00:00,  4.09it/s]\n"
     ]
    },
    {
     "name": "stdout",
     "output_type": "stream",
     "text": [
      "0.09739689081907273\n"
     ]
    },
    {
     "name": "stderr",
     "output_type": "stream",
     "text": [
      "Training epoch 121: 100%|██████████| 15/15 [00:03<00:00,  4.73it/s]\n",
      "Validation epoch 121: 100%|██████████| 4/4 [00:00<00:00,  4.21it/s]\n"
     ]
    },
    {
     "name": "stdout",
     "output_type": "stream",
     "text": [
      "0.09731462051471075\n"
     ]
    },
    {
     "name": "stderr",
     "output_type": "stream",
     "text": [
      "Training epoch 122: 100%|██████████| 15/15 [00:03<00:00,  4.82it/s]\n",
      "Validation epoch 122: 100%|██████████| 4/4 [00:01<00:00,  3.97it/s]\n"
     ]
    },
    {
     "name": "stdout",
     "output_type": "stream",
     "text": [
      "0.0972265675663948\n"
     ]
    },
    {
     "name": "stderr",
     "output_type": "stream",
     "text": [
      "Training epoch 123: 100%|██████████| 15/15 [00:03<00:00,  4.83it/s]\n",
      "Validation epoch 123: 100%|██████████| 4/4 [00:01<00:00,  3.91it/s]\n"
     ]
    },
    {
     "name": "stdout",
     "output_type": "stream",
     "text": [
      "0.09713631470998128\n"
     ]
    },
    {
     "name": "stderr",
     "output_type": "stream",
     "text": [
      "Training epoch 124: 100%|██████████| 15/15 [00:03<00:00,  4.77it/s]\n",
      "Validation epoch 124: 100%|██████████| 4/4 [00:01<00:00,  3.95it/s]\n"
     ]
    },
    {
     "name": "stdout",
     "output_type": "stream",
     "text": [
      "0.09704412917296092\n"
     ]
    },
    {
     "name": "stderr",
     "output_type": "stream",
     "text": [
      "Training epoch 125: 100%|██████████| 15/15 [00:03<00:00,  4.82it/s]\n",
      "Validation epoch 125: 100%|██████████| 4/4 [00:01<00:00,  3.53it/s]\n"
     ]
    },
    {
     "name": "stdout",
     "output_type": "stream",
     "text": [
      "0.09695399055878322\n"
     ]
    },
    {
     "name": "stderr",
     "output_type": "stream",
     "text": [
      "Training epoch 126: 100%|██████████| 15/15 [00:03<00:00,  4.83it/s]\n",
      "Validation epoch 126: 100%|██████████| 4/4 [00:01<00:00,  3.92it/s]\n"
     ]
    },
    {
     "name": "stdout",
     "output_type": "stream",
     "text": [
      "0.09686841865380605\n"
     ]
    },
    {
     "name": "stderr",
     "output_type": "stream",
     "text": [
      "Training epoch 127: 100%|██████████| 15/15 [00:03<00:00,  4.81it/s]\n",
      "Validation epoch 127: 100%|██████████| 4/4 [00:00<00:00,  4.19it/s]\n"
     ]
    },
    {
     "name": "stdout",
     "output_type": "stream",
     "text": [
      "0.09678877741098404\n"
     ]
    },
    {
     "name": "stderr",
     "output_type": "stream",
     "text": [
      "Training epoch 128: 100%|██████████| 15/15 [00:03<00:00,  4.73it/s]\n",
      "Validation epoch 128: 100%|██████████| 4/4 [00:00<00:00,  4.10it/s]\n"
     ]
    },
    {
     "name": "stdout",
     "output_type": "stream",
     "text": [
      "0.09671669999758402\n"
     ]
    },
    {
     "name": "stderr",
     "output_type": "stream",
     "text": [
      "Training epoch 129: 100%|██████████| 15/15 [00:03<00:00,  4.79it/s]\n",
      "Validation epoch 129: 100%|██████████| 4/4 [00:00<00:00,  4.15it/s]\n"
     ]
    },
    {
     "name": "stdout",
     "output_type": "stream",
     "text": [
      "0.09664972573518753\n"
     ]
    },
    {
     "name": "stderr",
     "output_type": "stream",
     "text": [
      "Training epoch 130: 100%|██████████| 15/15 [00:03<00:00,  4.78it/s]\n",
      "Validation epoch 130: 100%|██████████| 4/4 [00:00<00:00,  4.02it/s]\n"
     ]
    },
    {
     "name": "stdout",
     "output_type": "stream",
     "text": [
      "0.09658837219079336\n"
     ]
    },
    {
     "name": "stderr",
     "output_type": "stream",
     "text": [
      "Training epoch 131: 100%|██████████| 15/15 [00:03<00:00,  4.76it/s]\n",
      "Validation epoch 131: 100%|██████████| 4/4 [00:00<00:00,  4.24it/s]\n"
     ]
    },
    {
     "name": "stdout",
     "output_type": "stream",
     "text": [
      "0.09653319418430328\n"
     ]
    },
    {
     "name": "stderr",
     "output_type": "stream",
     "text": [
      "Training epoch 132: 100%|██████████| 15/15 [00:03<00:00,  4.76it/s]\n",
      "Validation epoch 132: 100%|██████████| 4/4 [00:00<00:00,  4.24it/s]\n"
     ]
    },
    {
     "name": "stdout",
     "output_type": "stream",
     "text": [
      "0.09647967219352722\n"
     ]
    },
    {
     "name": "stderr",
     "output_type": "stream",
     "text": [
      "Training epoch 133: 100%|██████████| 15/15 [00:03<00:00,  4.89it/s]\n",
      "Validation epoch 133: 100%|██████████| 4/4 [00:00<00:00,  4.26it/s]\n"
     ]
    },
    {
     "name": "stdout",
     "output_type": "stream",
     "text": [
      "0.09642464617888133\n"
     ]
    },
    {
     "name": "stderr",
     "output_type": "stream",
     "text": [
      "Training epoch 134: 100%|██████████| 15/15 [00:03<00:00,  4.82it/s]\n",
      "Validation epoch 134: 100%|██████████| 4/4 [00:00<00:00,  4.04it/s]\n"
     ]
    },
    {
     "name": "stdout",
     "output_type": "stream",
     "text": [
      "0.0963613137602806\n"
     ]
    },
    {
     "name": "stderr",
     "output_type": "stream",
     "text": [
      "Training epoch 135: 100%|██████████| 15/15 [00:03<00:00,  4.80it/s]\n",
      "Validation epoch 135: 100%|██████████| 4/4 [00:00<00:00,  4.25it/s]\n"
     ]
    },
    {
     "name": "stdout",
     "output_type": "stream",
     "text": [
      "0.09628290534019471\n"
     ]
    },
    {
     "name": "stderr",
     "output_type": "stream",
     "text": [
      "Training epoch 136: 100%|██████████| 15/15 [00:03<00:00,  4.87it/s]\n",
      "Validation epoch 136: 100%|██████████| 4/4 [00:00<00:00,  4.16it/s]\n"
     ]
    },
    {
     "name": "stdout",
     "output_type": "stream",
     "text": [
      "0.09619122892618179\n"
     ]
    },
    {
     "name": "stderr",
     "output_type": "stream",
     "text": [
      "Training epoch 137: 100%|██████████| 15/15 [00:03<00:00,  4.85it/s]\n",
      "Validation epoch 137: 100%|██████████| 4/4 [00:00<00:00,  4.25it/s]\n"
     ]
    },
    {
     "name": "stdout",
     "output_type": "stream",
     "text": [
      "0.0960958590110143\n"
     ]
    },
    {
     "name": "stderr",
     "output_type": "stream",
     "text": [
      "Training epoch 138: 100%|██████████| 15/15 [00:03<00:00,  4.83it/s]\n",
      "Validation epoch 138: 100%|██████████| 4/4 [00:00<00:00,  4.20it/s]\n"
     ]
    },
    {
     "name": "stdout",
     "output_type": "stream",
     "text": [
      "0.09600612024466197\n"
     ]
    },
    {
     "name": "stderr",
     "output_type": "stream",
     "text": [
      "Training epoch 139: 100%|██████████| 15/15 [00:03<00:00,  4.80it/s]\n",
      "Validation epoch 139: 100%|██████████| 4/4 [00:01<00:00,  3.86it/s]\n"
     ]
    },
    {
     "name": "stdout",
     "output_type": "stream",
     "text": [
      "0.09593188514312108\n"
     ]
    },
    {
     "name": "stderr",
     "output_type": "stream",
     "text": [
      "Training epoch 140: 100%|██████████| 15/15 [00:03<00:00,  4.84it/s]\n",
      "Validation epoch 140: 100%|██████████| 4/4 [00:01<00:00,  3.98it/s]\n"
     ]
    },
    {
     "name": "stdout",
     "output_type": "stream",
     "text": [
      "0.0958715483546257\n"
     ]
    },
    {
     "name": "stderr",
     "output_type": "stream",
     "text": [
      "Training epoch 141: 100%|██████████| 15/15 [00:03<00:00,  4.84it/s]\n",
      "Validation epoch 141: 100%|██████████| 4/4 [00:00<00:00,  4.17it/s]\n"
     ]
    },
    {
     "name": "stdout",
     "output_type": "stream",
     "text": [
      "0.09581933170557022\n"
     ]
    },
    {
     "name": "stderr",
     "output_type": "stream",
     "text": [
      "Training epoch 142: 100%|██████████| 15/15 [00:03<00:00,  4.85it/s]\n",
      "Validation epoch 142: 100%|██████████| 4/4 [00:00<00:00,  4.17it/s]\n"
     ]
    },
    {
     "name": "stdout",
     "output_type": "stream",
     "text": [
      "0.0957687810063362\n"
     ]
    },
    {
     "name": "stderr",
     "output_type": "stream",
     "text": [
      "Training epoch 143: 100%|██████████| 15/15 [00:03<00:00,  4.78it/s]\n",
      "Validation epoch 143: 100%|██████████| 4/4 [00:01<00:00,  3.56it/s]\n"
     ]
    },
    {
     "name": "stdout",
     "output_type": "stream",
     "text": [
      "0.09571038534243902\n"
     ]
    },
    {
     "name": "stderr",
     "output_type": "stream",
     "text": [
      "Training epoch 144: 100%|██████████| 15/15 [00:03<00:00,  4.79it/s]\n",
      "Validation epoch 144: 100%|██████████| 4/4 [00:01<00:00,  3.70it/s]\n"
     ]
    },
    {
     "name": "stdout",
     "output_type": "stream",
     "text": [
      "0.09563285559415817\n"
     ]
    },
    {
     "name": "stderr",
     "output_type": "stream",
     "text": [
      "Training epoch 145: 100%|██████████| 15/15 [00:03<00:00,  4.89it/s]\n",
      "Validation epoch 145: 100%|██████████| 4/4 [00:01<00:00,  3.75it/s]\n"
     ]
    },
    {
     "name": "stdout",
     "output_type": "stream",
     "text": [
      "0.09553655833005906\n"
     ]
    },
    {
     "name": "stderr",
     "output_type": "stream",
     "text": [
      "Training epoch 146: 100%|██████████| 15/15 [00:03<00:00,  4.75it/s]\n",
      "Validation epoch 146: 100%|██████████| 4/4 [00:00<00:00,  4.17it/s]\n"
     ]
    },
    {
     "name": "stdout",
     "output_type": "stream",
     "text": [
      "0.09544876565535863\n"
     ]
    },
    {
     "name": "stderr",
     "output_type": "stream",
     "text": [
      "Training epoch 147: 100%|██████████| 15/15 [00:03<00:00,  4.87it/s]\n",
      "Validation epoch 147: 100%|██████████| 4/4 [00:00<00:00,  4.25it/s]\n"
     ]
    },
    {
     "name": "stdout",
     "output_type": "stream",
     "text": [
      "0.09537962128718694\n"
     ]
    },
    {
     "name": "stderr",
     "output_type": "stream",
     "text": [
      "Training epoch 148: 100%|██████████| 15/15 [00:03<00:00,  4.84it/s]\n",
      "Validation epoch 148: 100%|██████████| 4/4 [00:00<00:00,  4.07it/s]\n"
     ]
    },
    {
     "name": "stdout",
     "output_type": "stream",
     "text": [
      "0.09532190263271331\n"
     ]
    },
    {
     "name": "stderr",
     "output_type": "stream",
     "text": [
      "Training epoch 149: 100%|██████████| 15/15 [00:03<00:00,  4.88it/s]\n",
      "Validation epoch 149: 100%|██████████| 4/4 [00:01<00:00,  4.00it/s]\n"
     ]
    },
    {
     "name": "stdout",
     "output_type": "stream",
     "text": [
      "0.09526974509159723\n"
     ]
    },
    {
     "name": "stderr",
     "output_type": "stream",
     "text": [
      "Training epoch 150: 100%|██████████| 15/15 [00:03<00:00,  4.78it/s]\n",
      "Validation epoch 150: 100%|██████████| 4/4 [00:00<00:00,  4.28it/s]\n"
     ]
    },
    {
     "name": "stdout",
     "output_type": "stream",
     "text": [
      "0.09521932403246562\n"
     ]
    },
    {
     "name": "stderr",
     "output_type": "stream",
     "text": [
      "Training epoch 151: 100%|██████████| 15/15 [00:03<00:00,  4.84it/s]\n",
      "Validation epoch 151: 100%|██████████| 4/4 [00:00<00:00,  4.13it/s]\n"
     ]
    },
    {
     "name": "stdout",
     "output_type": "stream",
     "text": [
      "0.09517086893320084\n"
     ]
    },
    {
     "name": "stderr",
     "output_type": "stream",
     "text": [
      "Training epoch 152: 100%|██████████| 15/15 [00:03<00:00,  4.88it/s]\n",
      "Validation epoch 152: 100%|██████████| 4/4 [00:01<00:00,  3.60it/s]\n"
     ]
    },
    {
     "name": "stdout",
     "output_type": "stream",
     "text": [
      "0.09512398938337961\n"
     ]
    },
    {
     "name": "stderr",
     "output_type": "stream",
     "text": [
      "Training epoch 153: 100%|██████████| 15/15 [00:03<00:00,  4.74it/s]\n",
      "Validation epoch 153: 100%|██████████| 4/4 [00:00<00:00,  4.16it/s]\n"
     ]
    },
    {
     "name": "stdout",
     "output_type": "stream",
     "text": [
      "0.09507674425840378\n"
     ]
    },
    {
     "name": "stderr",
     "output_type": "stream",
     "text": [
      "Training epoch 154: 100%|██████████| 15/15 [00:03<00:00,  4.85it/s]\n",
      "Validation epoch 154: 100%|██████████| 4/4 [00:01<00:00,  3.61it/s]\n"
     ]
    },
    {
     "name": "stdout",
     "output_type": "stream",
     "text": [
      "0.09502879679203033\n"
     ]
    },
    {
     "name": "stderr",
     "output_type": "stream",
     "text": [
      "Training epoch 155: 100%|██████████| 15/15 [00:03<00:00,  4.84it/s]\n",
      "Validation epoch 155: 100%|██████████| 4/4 [00:00<00:00,  4.19it/s]\n"
     ]
    },
    {
     "name": "stdout",
     "output_type": "stream",
     "text": [
      "0.09497674057881038\n"
     ]
    },
    {
     "name": "stderr",
     "output_type": "stream",
     "text": [
      "Training epoch 156: 100%|██████████| 15/15 [00:03<00:00,  4.85it/s]\n",
      "Validation epoch 156: 100%|██████████| 4/4 [00:01<00:00,  3.62it/s]\n"
     ]
    },
    {
     "name": "stdout",
     "output_type": "stream",
     "text": [
      "0.09491505175828933\n"
     ]
    },
    {
     "name": "stderr",
     "output_type": "stream",
     "text": [
      "Training epoch 157: 100%|██████████| 15/15 [00:03<00:00,  4.76it/s]\n",
      "Validation epoch 157: 100%|██████████| 4/4 [00:01<00:00,  3.97it/s]\n"
     ]
    },
    {
     "name": "stdout",
     "output_type": "stream",
     "text": [
      "0.09484069148699442\n"
     ]
    },
    {
     "name": "stderr",
     "output_type": "stream",
     "text": [
      "Training epoch 158: 100%|██████████| 15/15 [00:03<00:00,  4.92it/s]\n",
      "Validation epoch 158: 100%|██████████| 4/4 [00:01<00:00,  3.81it/s]\n"
     ]
    },
    {
     "name": "stdout",
     "output_type": "stream",
     "text": [
      "0.09476030766963958\n"
     ]
    },
    {
     "name": "stderr",
     "output_type": "stream",
     "text": [
      "Training epoch 159: 100%|██████████| 15/15 [00:03<00:00,  4.85it/s]\n",
      "Validation epoch 159: 100%|██████████| 4/4 [00:00<00:00,  4.22it/s]\n"
     ]
    },
    {
     "name": "stdout",
     "output_type": "stream",
     "text": [
      "0.09468307942152024\n"
     ]
    },
    {
     "name": "stderr",
     "output_type": "stream",
     "text": [
      "Training epoch 160: 100%|██████████| 15/15 [00:03<00:00,  4.82it/s]\n",
      "Validation epoch 160: 100%|██████████| 4/4 [00:00<00:00,  4.01it/s]\n"
     ]
    },
    {
     "name": "stdout",
     "output_type": "stream",
     "text": [
      "0.0946163758635521\n"
     ]
    },
    {
     "name": "stderr",
     "output_type": "stream",
     "text": [
      "Training epoch 161: 100%|██████████| 15/15 [00:03<00:00,  4.89it/s]\n",
      "Validation epoch 161: 100%|██████████| 4/4 [00:00<00:00,  4.15it/s]\n"
     ]
    },
    {
     "name": "stdout",
     "output_type": "stream",
     "text": [
      "0.09455863038698832\n"
     ]
    },
    {
     "name": "stderr",
     "output_type": "stream",
     "text": [
      "Training epoch 162: 100%|██████████| 15/15 [00:03<00:00,  4.83it/s]\n",
      "Validation epoch 162: 100%|██████████| 4/4 [00:01<00:00,  3.78it/s]\n"
     ]
    },
    {
     "name": "stdout",
     "output_type": "stream",
     "text": [
      "0.09450701425472895\n"
     ]
    },
    {
     "name": "stderr",
     "output_type": "stream",
     "text": [
      "Training epoch 163: 100%|██████████| 15/15 [00:03<00:00,  4.82it/s]\n",
      "Validation epoch 163: 100%|██████████| 4/4 [00:01<00:00,  3.70it/s]\n"
     ]
    },
    {
     "name": "stdout",
     "output_type": "stream",
     "text": [
      "0.09445965687433878\n"
     ]
    },
    {
     "name": "stderr",
     "output_type": "stream",
     "text": [
      "Training epoch 164: 100%|██████████| 15/15 [00:03<00:00,  4.80it/s]\n",
      "Validation epoch 164: 100%|██████████| 4/4 [00:01<00:00,  3.53it/s]\n"
     ]
    },
    {
     "name": "stdout",
     "output_type": "stream",
     "text": [
      "0.09441527475913365\n"
     ]
    },
    {
     "name": "stderr",
     "output_type": "stream",
     "text": [
      "Training epoch 165: 100%|██████████| 15/15 [00:03<00:00,  4.79it/s]\n",
      "Validation epoch 165: 100%|██████████| 4/4 [00:00<00:00,  4.06it/s]\n"
     ]
    },
    {
     "name": "stdout",
     "output_type": "stream",
     "text": [
      "0.09437325745820999\n"
     ]
    },
    {
     "name": "stderr",
     "output_type": "stream",
     "text": [
      "Training epoch 166: 100%|██████████| 15/15 [00:03<00:00,  4.83it/s]\n",
      "Validation epoch 166: 100%|██████████| 4/4 [00:01<00:00,  3.84it/s]\n"
     ]
    },
    {
     "name": "stdout",
     "output_type": "stream",
     "text": [
      "0.09433330446481705\n"
     ]
    },
    {
     "name": "stderr",
     "output_type": "stream",
     "text": [
      "Training epoch 167: 100%|██████████| 15/15 [00:03<00:00,  4.84it/s]\n",
      "Validation epoch 167: 100%|██████████| 4/4 [00:00<00:00,  4.14it/s]\n"
     ]
    },
    {
     "name": "stdout",
     "output_type": "stream",
     "text": [
      "0.09429394155740738\n"
     ]
    },
    {
     "name": "stderr",
     "output_type": "stream",
     "text": [
      "Training epoch 168: 100%|██████████| 15/15 [00:03<00:00,  4.70it/s]\n",
      "Validation epoch 168: 100%|██████████| 4/4 [00:00<00:00,  4.22it/s]\n"
     ]
    },
    {
     "name": "stdout",
     "output_type": "stream",
     "text": [
      "0.09425390859444936\n"
     ]
    },
    {
     "name": "stderr",
     "output_type": "stream",
     "text": [
      "Training epoch 169: 100%|██████████| 15/15 [00:03<00:00,  4.81it/s]\n",
      "Validation epoch 169: 100%|██████████| 4/4 [00:00<00:00,  4.18it/s]\n"
     ]
    },
    {
     "name": "stdout",
     "output_type": "stream",
     "text": [
      "0.09421162654956182\n"
     ]
    },
    {
     "name": "stderr",
     "output_type": "stream",
     "text": [
      "Training epoch 170: 100%|██████████| 15/15 [00:03<00:00,  4.80it/s]\n",
      "Validation epoch 170: 100%|██████████| 4/4 [00:00<00:00,  4.04it/s]\n"
     ]
    },
    {
     "name": "stdout",
     "output_type": "stream",
     "text": [
      "0.09416521986325582\n"
     ]
    },
    {
     "name": "stderr",
     "output_type": "stream",
     "text": [
      "Training epoch 171: 100%|██████████| 15/15 [00:03<00:00,  4.77it/s]\n",
      "Validation epoch 171: 100%|██████████| 4/4 [00:01<00:00,  3.96it/s]\n"
     ]
    },
    {
     "name": "stdout",
     "output_type": "stream",
     "text": [
      "0.0941154976685842\n"
     ]
    },
    {
     "name": "stderr",
     "output_type": "stream",
     "text": [
      "Training epoch 172: 100%|██████████| 15/15 [00:03<00:00,  4.75it/s]\n",
      "Validation epoch 172: 100%|██████████| 4/4 [00:00<00:00,  4.18it/s]\n"
     ]
    },
    {
     "name": "stdout",
     "output_type": "stream",
     "text": [
      "0.0940597822268804\n"
     ]
    },
    {
     "name": "stderr",
     "output_type": "stream",
     "text": [
      "Training epoch 173: 100%|██████████| 15/15 [00:03<00:00,  4.79it/s]\n",
      "Validation epoch 173: 100%|██████████| 4/4 [00:00<00:00,  4.06it/s]\n"
     ]
    },
    {
     "name": "stdout",
     "output_type": "stream",
     "text": [
      "0.09399288892745972\n"
     ]
    },
    {
     "name": "stderr",
     "output_type": "stream",
     "text": [
      "Training epoch 174: 100%|██████████| 15/15 [00:03<00:00,  4.85it/s]\n",
      "Validation epoch 174: 100%|██████████| 4/4 [00:00<00:00,  4.24it/s]\n"
     ]
    },
    {
     "name": "stdout",
     "output_type": "stream",
     "text": [
      "0.09392231007417043\n"
     ]
    },
    {
     "name": "stderr",
     "output_type": "stream",
     "text": [
      "Training epoch 175: 100%|██████████| 15/15 [00:03<00:00,  4.76it/s]\n",
      "Validation epoch 175: 100%|██████████| 4/4 [00:00<00:00,  4.15it/s]\n"
     ]
    },
    {
     "name": "stdout",
     "output_type": "stream",
     "text": [
      "0.09385915994644164\n"
     ]
    },
    {
     "name": "stderr",
     "output_type": "stream",
     "text": [
      "Training epoch 176: 100%|██████████| 15/15 [00:03<00:00,  4.61it/s]\n",
      "Validation epoch 176: 100%|██████████| 4/4 [00:01<00:00,  3.78it/s]\n"
     ]
    },
    {
     "name": "stdout",
     "output_type": "stream",
     "text": [
      "0.09380429834127427\n"
     ]
    },
    {
     "name": "stderr",
     "output_type": "stream",
     "text": [
      "Training epoch 177: 100%|██████████| 15/15 [00:03<00:00,  4.47it/s]\n",
      "Validation epoch 177: 100%|██████████| 4/4 [00:01<00:00,  3.56it/s]\n"
     ]
    },
    {
     "name": "stdout",
     "output_type": "stream",
     "text": [
      "0.09375328222910563\n"
     ]
    },
    {
     "name": "stderr",
     "output_type": "stream",
     "text": [
      "Training epoch 178: 100%|██████████| 15/15 [00:03<00:00,  4.80it/s]\n",
      "Validation epoch 178: 100%|██████████| 4/4 [00:00<00:00,  4.31it/s]\n"
     ]
    },
    {
     "name": "stdout",
     "output_type": "stream",
     "text": [
      "0.0937005713582039\n"
     ]
    },
    {
     "name": "stderr",
     "output_type": "stream",
     "text": [
      "Training epoch 179: 100%|██████████| 15/15 [00:03<00:00,  4.94it/s]\n",
      "Validation epoch 179: 100%|██████████| 4/4 [00:01<00:00,  3.96it/s]\n"
     ]
    },
    {
     "name": "stdout",
     "output_type": "stream",
     "text": [
      "0.09364506055911383\n"
     ]
    },
    {
     "name": "stderr",
     "output_type": "stream",
     "text": [
      "Training epoch 180: 100%|██████████| 15/15 [00:03<00:00,  4.92it/s]\n",
      "Validation epoch 180: 100%|██████████| 4/4 [00:00<00:00,  4.32it/s]\n"
     ]
    },
    {
     "name": "stdout",
     "output_type": "stream",
     "text": [
      "0.09358805269002915\n"
     ]
    },
    {
     "name": "stderr",
     "output_type": "stream",
     "text": [
      "Training epoch 181: 100%|██████████| 15/15 [00:02<00:00,  5.01it/s]\n",
      "Validation epoch 181: 100%|██████████| 4/4 [00:00<00:00,  4.37it/s]\n"
     ]
    },
    {
     "name": "stdout",
     "output_type": "stream",
     "text": [
      "0.09353357404470444\n"
     ]
    },
    {
     "name": "stderr",
     "output_type": "stream",
     "text": [
      "Training epoch 182: 100%|██████████| 15/15 [00:03<00:00,  4.57it/s]\n",
      "Validation epoch 182: 100%|██████████| 4/4 [00:01<00:00,  3.86it/s]\n"
     ]
    },
    {
     "name": "stdout",
     "output_type": "stream",
     "text": [
      "0.09348183820645015\n"
     ]
    },
    {
     "name": "stderr",
     "output_type": "stream",
     "text": [
      "Training epoch 183: 100%|██████████| 15/15 [00:03<00:00,  4.70it/s]\n",
      "Validation epoch 183: 100%|██████████| 4/4 [00:00<00:00,  4.15it/s]\n"
     ]
    },
    {
     "name": "stdout",
     "output_type": "stream",
     "text": [
      "0.09343407551447551\n"
     ]
    },
    {
     "name": "stderr",
     "output_type": "stream",
     "text": [
      "Training epoch 184: 100%|██████████| 15/15 [00:03<00:00,  4.77it/s]\n",
      "Validation epoch 184: 100%|██████████| 4/4 [00:00<00:00,  4.15it/s]\n"
     ]
    },
    {
     "name": "stdout",
     "output_type": "stream",
     "text": [
      "0.09338999787966411\n"
     ]
    },
    {
     "name": "stderr",
     "output_type": "stream",
     "text": [
      "Training epoch 185: 100%|██████████| 15/15 [00:03<00:00,  4.78it/s]\n",
      "Validation epoch 185: 100%|██████████| 4/4 [00:00<00:00,  4.13it/s]\n"
     ]
    },
    {
     "name": "stdout",
     "output_type": "stream",
     "text": [
      "0.09334809531768164\n"
     ]
    },
    {
     "name": "stderr",
     "output_type": "stream",
     "text": [
      "Training epoch 186: 100%|██████████| 15/15 [00:03<00:00,  4.70it/s]\n",
      "Validation epoch 186: 100%|██████████| 4/4 [00:01<00:00,  3.60it/s]\n"
     ]
    },
    {
     "name": "stdout",
     "output_type": "stream",
     "text": [
      "0.09330935229857763\n"
     ]
    },
    {
     "name": "stderr",
     "output_type": "stream",
     "text": [
      "Training epoch 187: 100%|██████████| 15/15 [00:03<00:00,  4.80it/s]\n",
      "Validation epoch 187: 100%|██████████| 4/4 [00:00<00:00,  4.08it/s]\n"
     ]
    },
    {
     "name": "stdout",
     "output_type": "stream",
     "text": [
      "0.09327290157477061\n"
     ]
    },
    {
     "name": "stderr",
     "output_type": "stream",
     "text": [
      "Training epoch 188: 100%|██████████| 15/15 [00:03<00:00,  4.81it/s]\n",
      "Validation epoch 188: 100%|██████████| 4/4 [00:01<00:00,  3.95it/s]\n"
     ]
    },
    {
     "name": "stdout",
     "output_type": "stream",
     "text": [
      "0.09323873470226923\n"
     ]
    },
    {
     "name": "stderr",
     "output_type": "stream",
     "text": [
      "Training epoch 189: 100%|██████████| 15/15 [00:03<00:00,  4.76it/s]\n",
      "Validation epoch 189: 100%|██████████| 4/4 [00:01<00:00,  3.35it/s]\n"
     ]
    },
    {
     "name": "stdout",
     "output_type": "stream",
     "text": [
      "0.0932077407836914\n"
     ]
    },
    {
     "name": "stderr",
     "output_type": "stream",
     "text": [
      "Training epoch 190: 100%|██████████| 15/15 [00:03<00:00,  4.32it/s]\n",
      "Validation epoch 190: 100%|██████████| 4/4 [00:01<00:00,  3.45it/s]\n"
     ]
    },
    {
     "name": "stdout",
     "output_type": "stream",
     "text": [
      "0.09318097184101741\n"
     ]
    },
    {
     "name": "stderr",
     "output_type": "stream",
     "text": [
      "Training epoch 191: 100%|██████████| 15/15 [00:03<00:00,  4.77it/s]\n",
      "Validation epoch 191: 100%|██████████| 4/4 [00:01<00:00,  3.87it/s]\n"
     ]
    },
    {
     "name": "stdout",
     "output_type": "stream",
     "text": [
      "0.09315626323223114\n"
     ]
    },
    {
     "name": "stderr",
     "output_type": "stream",
     "text": [
      "Training epoch 192: 100%|██████████| 15/15 [00:03<00:00,  4.80it/s]\n",
      "Validation epoch 192: 100%|██████████| 4/4 [00:00<00:00,  4.14it/s]\n"
     ]
    },
    {
     "name": "stdout",
     "output_type": "stream",
     "text": [
      "0.09313008735577265\n"
     ]
    },
    {
     "name": "stderr",
     "output_type": "stream",
     "text": [
      "Training epoch 193: 100%|██████████| 15/15 [00:03<00:00,  4.59it/s]\n",
      "Validation epoch 193: 100%|██████████| 4/4 [00:01<00:00,  3.97it/s]\n"
     ]
    },
    {
     "name": "stdout",
     "output_type": "stream",
     "text": [
      "0.09309765944878261\n"
     ]
    },
    {
     "name": "stderr",
     "output_type": "stream",
     "text": [
      "Training epoch 194: 100%|██████████| 15/15 [00:03<00:00,  4.71it/s]\n",
      "Validation epoch 194: 100%|██████████| 4/4 [00:01<00:00,  3.12it/s]\n"
     ]
    },
    {
     "name": "stdout",
     "output_type": "stream",
     "text": [
      "0.0930562804142634\n"
     ]
    },
    {
     "name": "stderr",
     "output_type": "stream",
     "text": [
      "Training epoch 195: 100%|██████████| 15/15 [00:03<00:00,  4.79it/s]\n",
      "Validation epoch 195: 100%|██████████| 4/4 [00:00<00:00,  4.23it/s]\n"
     ]
    },
    {
     "name": "stdout",
     "output_type": "stream",
     "text": [
      "0.09300263573726018\n"
     ]
    },
    {
     "name": "stderr",
     "output_type": "stream",
     "text": [
      "Training epoch 196: 100%|██████████| 15/15 [00:03<00:00,  4.82it/s]\n",
      "Validation epoch 196: 100%|██████████| 4/4 [00:01<00:00,  3.99it/s]\n"
     ]
    },
    {
     "name": "stdout",
     "output_type": "stream",
     "text": [
      "0.09294641613960267\n"
     ]
    },
    {
     "name": "stderr",
     "output_type": "stream",
     "text": [
      "Training epoch 197: 100%|██████████| 15/15 [00:03<00:00,  4.65it/s]\n",
      "Validation epoch 197: 100%|██████████| 4/4 [00:00<00:00,  4.13it/s]\n"
     ]
    },
    {
     "name": "stdout",
     "output_type": "stream",
     "text": [
      "0.09289401719967524\n"
     ]
    },
    {
     "name": "stderr",
     "output_type": "stream",
     "text": [
      "Training epoch 198: 100%|██████████| 15/15 [00:03<00:00,  4.78it/s]\n",
      "Validation epoch 198: 100%|██████████| 4/4 [00:01<00:00,  3.74it/s]\n"
     ]
    },
    {
     "name": "stdout",
     "output_type": "stream",
     "text": [
      "0.09284408340851466\n"
     ]
    },
    {
     "name": "stderr",
     "output_type": "stream",
     "text": [
      "Training epoch 199: 100%|██████████| 15/15 [00:03<00:00,  4.64it/s]\n",
      "Validation epoch 199: 100%|██████████| 4/4 [00:01<00:00,  3.68it/s]\n"
     ]
    },
    {
     "name": "stdout",
     "output_type": "stream",
     "text": [
      "0.09279358834028244\n"
     ]
    },
    {
     "name": "stderr",
     "output_type": "stream",
     "text": [
      "Training epoch 200: 100%|██████████| 15/15 [00:03<00:00,  4.77it/s]\n",
      "Validation epoch 200: 100%|██████████| 4/4 [00:01<00:00,  3.81it/s]"
     ]
    },
    {
     "name": "stdout",
     "output_type": "stream",
     "text": [
      "0.09274037033319474\n"
     ]
    },
    {
     "name": "stderr",
     "output_type": "stream",
     "text": [
      "\n"
     ]
    }
   ],
   "execution_count": 53
  },
  {
   "metadata": {},
   "cell_type": "code",
   "outputs": [],
   "execution_count": null,
   "source": "",
   "id": "d6d92da9194cea7d"
  }
 ],
 "metadata": {
  "kernelspec": {
   "display_name": "Python 3",
   "language": "python",
   "name": "python3"
  },
  "language_info": {
   "codemirror_mode": {
    "name": "ipython",
    "version": 2
   },
   "file_extension": ".py",
   "mimetype": "text/x-python",
   "name": "python",
   "nbconvert_exporter": "python",
   "pygments_lexer": "ipython2",
   "version": "2.7.6"
  }
 },
 "nbformat": 4,
 "nbformat_minor": 5
}
