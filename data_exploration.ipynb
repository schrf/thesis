{
 "cells": [
  {
   "cell_type": "markdown",
   "id": "9e9f618441b837b1",
   "metadata": {},
   "source": [
    "# Data Exploration and Analysis\n",
    "on TCGA (The Cancer Genome Atlas) and CCLE (Cancer Cell Line Encyclopedia)"
   ]
  },
  {
   "cell_type": "code",
   "id": "initial_id",
   "metadata": {
    "collapsed": true,
    "metadata": {},
    "ExecuteTime": {
     "end_time": "2024-05-10T14:42:48.580778Z",
     "start_time": "2024-05-10T14:42:47.599258Z"
    }
   },
   "source": [
    "%load_ext autoreload\n",
    "%autoreload 2\n",
    "\n",
    "import pandas as pd\n",
    "import numpy as np\n",
    "import matplotlib.pyplot as plt\n",
    "from pacmap import PaCMAP\n",
    "import matplotlib.colors as mcolors\n",
    "from src.raw_data_loader import *\n",
    "from src.data_visualization import combined_data_pacmap"
   ],
   "execution_count": 3,
   "outputs": []
  },
  {
   "cell_type": "markdown",
   "id": "c0854565",
   "metadata": {},
   "source": [
    "## Load the data\n",
    "in the same directory there has to be a folder named data with filtered_17713_gene_names.csv, CCLE_expression_full.csv and EB++AdjustPANCAN_IlluminaHiSeq_RNASeqV2.geneExp.xena in it."
   ]
  },
  {
   "cell_type": "code",
   "id": "25a6c0adf8b9eaab",
   "metadata": {
    "metadata": {},
    "ExecuteTime": {
     "end_time": "2024-05-10T14:43:31.040146Z",
     "start_time": "2024-05-10T14:42:48.691070Z"
    }
   },
   "source": [
    "ccle, tcga, ccle_metadata, tcga_metadata = ccle_tcga_loader()"
   ],
   "execution_count": 4,
   "outputs": []
  },
  {
   "cell_type": "code",
   "execution_count": 3,
   "id": "44b1f5e4",
   "metadata": {
    "ExecuteTime": {
     "end_time": "2024-05-03T16:46:44.194105Z",
     "start_time": "2024-05-03T16:46:44.189741Z"
    },
    "metadata": {}
   },
   "source": [
    "ccle_metadata[\"primary_disease\"].unique()"
   ],
   "outputs": []
  },
  {
   "cell_type": "code",
   "execution_count": 4,
   "id": "106292bc",
   "metadata": {
    "ExecuteTime": {
     "end_time": "2024-05-03T16:46:44.200020Z",
     "start_time": "2024-05-03T16:46:44.196041Z"
    },
    "metadata": {}
   },
   "source": [
    "tcga_metadata[\"cgc_case_primary_site\"].unique()"
   ],
   "outputs": []
  },
  {
   "cell_type": "code",
   "execution_count": 5,
   "id": "6fed433d",
   "metadata": {
    "ExecuteTime": {
     "end_time": "2024-05-03T16:46:44.205047Z",
     "start_time": "2024-05-03T16:46:44.200780Z"
    },
    "metadata": {}
   },
   "source": [
    "ccle_metadata.columns"
   ],
   "outputs": []
  },
  {
   "cell_type": "code",
   "execution_count": 6,
   "id": "27222c7b",
   "metadata": {
    "ExecuteTime": {
     "end_time": "2024-05-03T16:46:44.209275Z",
     "start_time": "2024-05-03T16:46:44.206109Z"
    },
    "metadata": {}
   },
   "source": [
    "# Define mapping of cancer types such that ccle adopts the naming scheme of tcga. IMPORTANT: this mapping is not 100% correct\n",
    "mapping = {\n",
    "    'Ovarian Cancer': 'Ovary',\n",
    "    'Leukemia': 'Blood',\n",
    "    'Colon/Colorectal Cancer': 'Colorectal',\n",
    "    'Skin Cancer': 'Skin',\n",
    "    'Bladder Cancer': 'Bladder',\n",
    "    'Lung Cancer': 'Lung',\n",
    "    'Kidney Cancer': 'Kidney',\n",
    "    'Breast Cancer': 'Breast',\n",
    "    'Pancreatic Cancer': 'Pancreas',\n",
    "    'Myeloma': 'Bone Marrow',\n",
    "    'Brain Cancer': 'Brain',\n",
    "    'Sarcoma': 'Mesenchymal',\n",
    "    'Lymphoma': 'Lymph Nodes',\n",
    "    'Bone Cancer': 'Bone',\n",
    "    'Non-Cancerous': 'Non-Cancerous',  # No direct match\n",
    "    'Thyroid Cancer': 'Thyroid',\n",
    "    'Neuroblastoma': 'Nervous System',\n",
    "    'Prostate Cancer': 'Prostate',\n",
    "    'Rhabdoid': 'Rhabdoid',  # No direct match\n",
    "    'Gastric Cancer': 'Stomach',\n",
    "    'Unknown': 'Unknown',  # No direct match, NaNs in tcga are changed to 'Unknown'\n",
    "    'Gallbladder Cancer': 'Gallbladder Cancer',  # No direct match\n",
    "    'Endometrial/Uterine Cancer': 'Uterus',\n",
    "    'Head and Neck Cancer': 'Head and Neck',\n",
    "    'Bile Duct Cancer': 'Bile Duct',\n",
    "    'Esophageal Cancer': 'Esophagus',\n",
    "    'Liver Cancer': 'Liver',\n",
    "    'Cervical Cancer': 'Cervix',\n",
    "    'Eye Cancer': 'Eye',\n",
    "    'Adrenal Cancer': 'Adrenal Gland',\n",
    "    'Liposarcoma': 'Liposarcoma',  # No direct match\n",
    "    'Embryonal Cancer': 'Embryonal Cancer',  # No direct match\n",
    "    'Teratoma': 'Teratoma'  # No direct match\n",
    "}\n"
   ],
   "outputs": []
  },
  {
   "cell_type": "code",
   "execution_count": 7,
   "id": "3ad93318",
   "metadata": {
    "ExecuteTime": {
     "end_time": "2024-05-03T16:46:46.345357Z",
     "start_time": "2024-05-03T16:46:44.210052Z"
    },
    "metadata": {}
   },
   "source": [
    "tcga_combined = tcga.copy()\n",
    "\n",
    "# label all entries as tcga\n",
    "tcga_combined[\"dataset\"] = np.full_like(tcga_combined.index, \"tcga\")\n",
    "\n",
    "# assign the gender\n",
    "tcga_combined[\"gender\"] = tcga_metadata[\"gdc_cases.demographic.gender\"]\n",
    "\n",
    "# age\n",
    "tcga_combined[\"age\"] = tcga_metadata[\"cgc_case_age_at_diagnosis\"]\n",
    "\n",
    "# disease\n",
    "tcga_combined[\"primary_disease\"] = tcga_metadata['cgc_case_primary_site'].fillna('Unknown')"
   ],
   "outputs": []
  },
  {
   "cell_type": "code",
   "execution_count": 8,
   "id": "0275a04a",
   "metadata": {
    "ExecuteTime": {
     "end_time": "2024-05-03T16:46:46.364308Z",
     "start_time": "2024-05-03T16:46:46.346262Z"
    },
    "metadata": {}
   },
   "source": [
    "ccle_combined = ccle.copy()\n",
    "\n",
    "# label all entries as ccle\n",
    "ccle_combined[\"dataset\"] = np.full_like(ccle_combined.index, \"ccle\")\n",
    "\n",
    "# assign the gender\n",
    "ccle_combined[\"gender\"] = ccle_metadata[\"sex\"].str.lower()\n",
    "\n",
    "# age\n",
    "ccle_combined[\"age\"] = pd.to_numeric(ccle_metadata[\"age\"], errors=\"coerce\")\n",
    "\n",
    "# disease\n",
    "ccle_combined[\"primary_disease\"] = ccle_metadata['primary_disease'].map(mapping)"
   ],
   "outputs": []
  },
  {
   "cell_type": "code",
   "execution_count": 9,
   "id": "026c8600",
   "metadata": {
    "ExecuteTime": {
     "end_time": "2024-05-03T16:46:46.368237Z",
     "start_time": "2024-05-03T16:46:46.365188Z"
    },
    "metadata": {}
   },
   "source": [
    "tcga_metadata[\"gdc_cases.project.project_id\"].unique()"
   ],
   "outputs": []
  },
  {
   "cell_type": "code",
   "execution_count": null,
   "id": "b5864815",
   "metadata": {
    "ExecuteTime": {
     "end_time": "2024-04-29T10:04:14.609028Z",
     "start_time": "2024-04-29T10:04:14.589850Z"
    },
    "metadata": {}
   },
   "source": [
    "[print(col, np.unique(ccle_metadata[col].astype(str))) for col in ccle_metadata.columns]"
   ],
   "outputs": []
  },
  {
   "cell_type": "code",
   "execution_count": null,
   "id": "2a4576cb",
   "metadata": {
    "ExecuteTime": {
     "end_time": "2024-04-29T10:04:16.480392Z",
     "start_time": "2024-04-29T10:04:16.474886Z"
    },
    "metadata": {}
   },
   "source": [
    "ccle_metadata[\"source\"]"
   ],
   "outputs": []
  },
  {
   "cell_type": "code",
   "execution_count": null,
   "id": "1a84d688",
   "metadata": {
    "ExecuteTime": {
     "end_time": "2024-04-29T10:04:17.830732Z",
     "start_time": "2024-04-29T10:04:17.808580Z"
    }
   },
   "source": [
    "tcga_combined"
   ],
   "outputs": []
  },
  {
   "cell_type": "code",
   "execution_count": null,
   "id": "db6d62fa",
   "metadata": {},
   "source": [
    "ccle_combined"
   ],
   "outputs": []
  },
  {
   "cell_type": "code",
   "execution_count": 9,
   "id": "ba715b6b",
   "metadata": {
    "ExecuteTime": {
     "end_time": "2024-05-03T16:46:47.446584Z",
     "start_time": "2024-05-03T16:46:46.369694Z"
    },
    "metadata": {}
   },
   "source": [
    "data = pd.concat([tcga_combined, ccle_combined], axis=0)\n",
    "data"
   ],
   "outputs": []
  },
  {
   "cell_type": "code",
   "execution_count": null,
   "id": "96f99f4a9ba339db",
   "metadata": {
    "ExecuteTime": {
     "end_time": "2024-05-02T17:17:26.006756Z",
     "start_time": "2024-05-02T17:15:40.535532Z"
    }
   },
   "source": [
    "data.to_csv(\"data/data.csv\")"
   ],
   "outputs": []
  },
  {
   "cell_type": "markdown",
   "id": "6f53102a",
   "metadata": {},
   "source": [
    "comments regarding tcga and ccle: \n",
    "tcga data has 11069 rows. On the website they write once it has 11069 entries and once 11060. I have currently not found any metadata regarding which samples are cancer and which not.\n",
    "\n",
    "ccle has metadata regarding which samples belong to which cell line. Also, ccle has fewer genes as some were _not_ present in this dataset."
   ]
  },
  {
   "cell_type": "markdown",
   "id": "c702a56a",
   "metadata": {},
   "source": [
    "## Basic Data Analysis"
   ]
  },
  {
   "cell_type": "code",
   "execution_count": 15,
   "id": "209ada74",
   "metadata": {},
   "source": [
    "\n",
    "tcga_genes = tcga.shape[1]\n",
    "ccle_genes = ccle.shape[1]\n",
    "\n",
    "# Create bar plot\n",
    "plt.bar(x=(\"TCGA\", \"CCLE\"), height=(tcga_genes, ccle_genes))\n",
    "\n",
    "# Add values to the bars\n",
    "for i, value in enumerate((tcga_genes, ccle_genes)):\n",
    "    plt.text(i, value + 0.05, str(value), ha='center', va='bottom')\n",
    "\n",
    "# Add labels and title\n",
    "plt.ylabel('Number of Genes')\n",
    "plt.title('Genes in Dataset')"
   ],
   "outputs": []
  },
  {
   "cell_type": "code",
   "execution_count": 16,
   "id": "c9d873a753254735",
   "metadata": {},
   "source": [
    "fig, ax1 = plt.subplots()\n",
    "\n",
    "tcga_samples = tcga.shape[0]\n",
    "ccle_cell_lines = ccle.shape[0]\n",
    "\n",
    "# Create bar plot\n",
    "plt.bar(x=(\"TCGA samples (reduced to the \\n samples available in metadata)\", \"CCLE cell line samples\"), height=(tcga_samples, ccle_cell_lines))\n",
    "\n",
    "# Add values to the bars\n",
    "for i, value in enumerate((tcga_samples, ccle_cell_lines)):\n",
    "    plt.text(i, value + 0.05, str(value), ha='center', va='bottom')\n",
    "\n",
    "# Add labels and title\n",
    "plt.ylabel('Samples')\n",
    "plt.title('Samples for each dataset')"
   ],
   "outputs": []
  },
  {
   "metadata": {
    "ExecuteTime": {
     "end_time": "2024-05-10T14:56:59.142331Z",
     "start_time": "2024-05-10T14:56:58.896195Z"
    }
   },
   "cell_type": "code",
   "source": [
    "number_nans = ccle.isna().sum().sum() + tcga.isna().sum().sum()\n",
    "total_values = (ccle.shape[0] + tcga.shape[0]) * ccle.shape[1]\n",
    "plt.bar(x=(\"{} NaN\".format(number_nans), \"{} total values\".format(total_values)), height=[number_nans, total_values])\n",
    "plt.title('Number of NaNs in CCLE and TCGA')\n",
    "\n"
   ],
   "id": "d6d57aa17edc265f",
   "execution_count": 12,
   "outputs": []
  },
  {
   "cell_type": "markdown",
   "id": "b473599b",
   "metadata": {},
   "source": [
    "## Data Analysis of CCLE\n"
   ]
  },
  {
   "cell_type": "code",
   "execution_count": 17,
   "id": "c49573bb",
   "metadata": {},
   "source": [
    "ccle_metadata"
   ],
   "outputs": []
  },
  {
   "cell_type": "code",
   "execution_count": 18,
   "id": "aa2c01be",
   "metadata": {},
   "source": [
    "ccle_metadata.columns\n",
    "# most interesting: lineage lineage_subtype sex, ..."
   ],
   "outputs": []
  },
  {
   "cell_type": "code",
   "execution_count": 19,
   "id": "ab56f095",
   "metadata": {},
   "source": [
    "print(\"Gene expression dataset entries: {}, unique dataset entries: {}\".format(len(ccle), len(ccle.drop_duplicates())))\n",
    "print(\"unique DepMap_IDs: {}\".format(len(ccle_metadata.index.unique())))\n",
    "print(\"unique cell lines: {}\".format(len(ccle_metadata[\"cell_line_name\"].unique())))\n",
    "print(\"unique stripped lines: {}\".format(len(ccle_metadata[\"stripped_cell_line_name\"].unique())))"
   ],
   "outputs": []
  },
  {
   "cell_type": "markdown",
   "id": "e8687b90",
   "metadata": {},
   "source": [
    "cell_line_name is not a unique (contains NaN and one duplicate: U-251 MG), stripped_cell_line_name is. The two U-251 MG are from different tissues, have different stripped_cell_line_name and have different gene expression -> not real duplicates"
   ]
  },
  {
   "cell_type": "code",
   "execution_count": 20,
   "id": "ff5ac062",
   "metadata": {},
   "source": [
    "\n",
    "embedding = PaCMAP(n_components=2, n_neighbors=None, MN_ratio=0.5, FP_ratio=2.0) \n",
    "ccle_transformed = embedding.fit_transform(ccle, init=\"pca\")\n",
    "\n",
    "fig, ax = plt.subplots(1, 1, figsize=(6, 6))\n",
    "\n",
    "# select what should be color coded, e.g. sex, disease, ...\n",
    "to_highlight = \"primary_or_metastasis\"\n",
    "id_mapping = {id: i for i, id in enumerate(ccle_metadata[to_highlight].unique())}\n",
    "\n",
    "for id, label in id_mapping.items():\n",
    "    subset_indices = ccle_metadata[to_highlight] == id\n",
    "    subset_transformed = ccle_transformed[subset_indices]\n",
    "    ax.scatter(subset_transformed[:, 0], subset_transformed[:, 1], cmap=\"Spectral\", label=id, s=0.6)\n",
    "\n",
    "# Create a legend\n",
    "if len(id_mapping) < 40:\n",
    "    ax.legend(title=to_highlight, markerscale=10, bbox_to_anchor=(1.05, 1), loc='upper left')\n",
    "else:\n",
    "    plt.title(to_highlight)"
   ],
   "outputs": []
  },
  {
   "cell_type": "markdown",
   "id": "3fb7d3d9",
   "metadata": {},
   "source": [
    "## Data Analysis of TCGA\n",
    "TCGA contains NaN"
   ]
  },
  {
   "cell_type": "code",
   "execution_count": 21,
   "id": "81528f24",
   "metadata": {},
   "source": [
    "# Step 2: Drop rows with NaN values\n",
    "tcga_clean = tcga.dropna()\n",
    "tcga_metadata_clean = tcga_metadata.loc[tcga_clean.index]\n",
    "\n",
    "embedding = PaCMAP(n_components=2, n_neighbors=None, MN_ratio=0.5, FP_ratio=2.0) \n",
    "tcga_transformed = embedding.fit_transform(tcga_clean, init=\"pca\")\n",
    "\n",
    "fig, ax = plt.subplots(1, 1, figsize=(6, 6))\n",
    "\n",
    "# select what should be color coded, e.g. sex, disease, ...\n",
    "to_highlight = \"cgc_case_primary_site\"\n",
    "id_mapping = {id: i for i, id in enumerate(tcga_metadata_clean[to_highlight].fillna('Unknown').unique())}\n",
    "\n",
    "for id, label in id_mapping.items():\n",
    "    subset_indices = tcga_metadata_clean[to_highlight].fillna('Unknown') == id\n",
    "    subset_transformed = tcga_transformed[subset_indices]\n",
    "    ax.scatter(subset_transformed[:, 0], subset_transformed[:, 1], cmap=\"Spectral\", label=id, s=0.6)\n",
    "\n",
    "# Create a legend\n",
    "if len(id_mapping) < 40:\n",
    "    ax.legend(title=to_highlight, markerscale=10, bbox_to_anchor=(1.05, 1), loc='upper left')\n",
    "else:\n",
    "    plt.title(to_highlight)"
   ],
   "outputs": []
  },
  {
   "cell_type": "markdown",
   "id": "74d1a741",
   "metadata": {},
   "source": [
    "## Data Analysis on the combined dataset"
   ]
  },
  {
   "cell_type": "code",
   "execution_count": 22,
   "id": "63fc2ab1",
   "metadata": {},
   "source": [
    "occurrences = data[\"gender\"].value_counts()\n",
    "\n",
    "# Plotting the occurrences as a bar plot\n",
    "occurrences.plot(kind='bar')\n",
    "plt.xlabel('Values')\n",
    "plt.ylabel('Occurrences')\n",
    "plt.title('Occurrences of Gender')\n",
    "plt.show()"
   ],
   "outputs": []
  },
  {
   "cell_type": "markdown",
   "id": "ef51b3f2",
   "metadata": {},
   "source": [
    "### pacmap plots on combined data\n",
    "select labeling and how the data should be preprocessed"
   ]
  },
  {
   "cell_type": "code",
   "execution_count": 10,
   "id": "00e794bb",
   "metadata": {
    "ExecuteTime": {
     "end_time": "2024-05-03T16:46:47.449975Z",
     "start_time": "2024-05-03T16:46:47.447333Z"
    },
    "metadata": {}
   },
   "source": [
    "viz_preprocessing = {\n",
    "    \"only_most_variant\": 5000, # can be a number or None\n",
    "    \"z_score_norm\": \"per_gene\" # can be None, per_gene or per_sample\n",
    "}"
   ],
   "outputs": []
  },
  {
   "cell_type": "code",
   "execution_count": 37,
   "id": "32670530",
   "metadata": {},
   "source": [
    "# Using tab20 colormap with 20 colors\n",
    "colormap = plt.colormaps.get_cmap('tab20')\n",
    "\n",
    "# Generating colors from the colormap\n",
    "num_categories = 20\n",
    "colors = [colormap(i) for i in range(num_categories)]\n",
    "print(colors)"
   ],
   "outputs": []
  },
  {
   "cell_type": "code",
   "execution_count": 41,
   "id": "2b99722e",
   "metadata": {
    "ExecuteTime": {
     "start_time": "2024-05-03T16:46:47.450766Z"
    },
    "jupyter": {
     "is_executing": true
    },
    "metadata": {}
   },
   "source": [
    "combined_data_pacmap(data, viz_preprocessing)"
   ],
   "outputs": []
  }
 ],
 "metadata": {
  "kernelspec": {
   "display_name": "Python 3",
   "language": "python",
   "name": "python3"
  },
  "language_info": {
   "codemirror_mode": {
    "name": "ipython",
    "version": 3
   },
   "file_extension": ".py",
   "mimetype": "text/x-python",
   "name": "python",
   "nbconvert_exporter": "python",
   "pygments_lexer": "ipython3",
   "version": "3.11.5"
  }
 },
 "nbformat": 4,
 "nbformat_minor": 5
}
